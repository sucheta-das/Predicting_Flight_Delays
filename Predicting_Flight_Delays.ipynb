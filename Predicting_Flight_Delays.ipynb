{
  "nbformat": 4,
  "nbformat_minor": 0,
  "metadata": {
    "colab": {
      "provenance": [],
      "toc_visible": true
    },
    "kernelspec": {
      "name": "python3",
      "display_name": "Python 3"
    },
    "language_info": {
      "name": "python"
    }
  },
  "cells": [
    {
      "cell_type": "markdown",
      "source": [
        "#**Predicting Flight Delays for Chicago O'Hare International Airport**\n",
        "\n",
        "\n",
        "---\n",
        "\n",
        "\n",
        "\n",
        "---\n",
        "\n"
      ],
      "metadata": {
        "id": "Cm0lpnLrrWkp"
      }
    },
    {
      "cell_type": "markdown",
      "source": [
        "Created by: Sucheta Das, Riddhima Shukla, Ojus Sindwani, Ishan Nagrani"
      ],
      "metadata": {
        "id": "NHR0vI8f-7vF"
      }
    },
    {
      "cell_type": "markdown",
      "source": [
        "***"
      ],
      "metadata": {
        "id": "SB-Gq58W_ccV"
      }
    },
    {
      "cell_type": "markdown",
      "source": [
        "## **Table Of Contents:** \n",
        "\n",
        "1.[Problem Statement](#1)\n",
        "\n",
        "2.[Exploratory Data Analysis](#2)\n",
        "\n",
        "3.[Final Pipeline](#3)\n",
        "\n",
        "4.[Splitting the data](#4)\n",
        "\n",
        "5.[Classification Models](#5)\n",
        "\n",
        "6.[Model Evaluation](#6)\n",
        "\n",
        "7.[Plotting the Models](#7)\n",
        "\n",
        "8.[Hyper-parameter Tuning](#8)\n",
        "\n",
        "9.[Cost of predicting non-delays as delays](#9)\n",
        "\n",
        "10.[Voting](#10)\n",
        "\n",
        "11.[Boosting](#11)\n",
        "\n",
        "12.[Model Scores](#12)\n",
        "\n",
        "13.[Feature Selection](#13)\n",
        "\n",
        "14.[Using XGB Classifier on Test set](#14)\n",
        "\n",
        "15.[Conclusion](#15)"
      ],
      "metadata": {
        "id": "hpUUeCmA7Hir"
      }
    },
    {
      "cell_type": "markdown",
      "source": [
        "<a id=\"1\"></a>\n",
        "\n",
        "##[Problem Statement](#1)\n",
        "\n",
        "\n"
      ],
      "metadata": {
        "id": "OSTpmX_07Dso"
      }
    },
    {
      "cell_type": "markdown",
      "source": [
        "The project aims to predict whether a flight at the Chicago O'Hare International Airport will get delayed for more than 15 minutes based on the following variables:\n",
        "* Airport (Previous airport and Departing Airport)\n",
        "* Weather details of the Departing Airport\n",
        "* Airport & Airline Operations\n",
        "* Time, Day, and Month of departure\n",
        "\n",
        "We are choosing only the said airport for our model as the airport is notoriously known for it's delays and lack of resources for airport operations. We believe with our model it could be possible to predict whether a flight that is departing from or arriving to the Chicago O'Hare International Airport will get delayed by 15 minutes or not. Our objective is to build a classification model that can reduce the prediction errors for predicting the flight delays and also the cost of predicting non delays when delays are actually happening. "
      ],
      "metadata": {
        "id": "K5bd8CI1tT21"
      }
    },
    {
      "cell_type": "code",
      "execution_count": null,
      "metadata": {
        "id": "7AS7dpEEOiJy"
      },
      "outputs": [],
      "source": [
        "# importing preprocessors\n",
        "import os \n",
        "import pandas as pd\n",
        "import numpy as np\n",
        "import matplotlib.pyplot as plt\n",
        "import seaborn as sns\n",
        "from sklearn.preprocessing import scale\n",
        "from sklearn.linear_model import LinearRegression, LogisticRegression\n",
        "from sklearn.pipeline import Pipeline\n",
        "from sklearn.impute import SimpleImputer\n",
        "from sklearn import set_config\n",
        "from sklearn.model_selection import cross_validate\n",
        "from mpl_toolkits.mplot3d import Axes3D\n",
        "from sklearn.preprocessing import StandardScaler\n",
        "from sklearn.model_selection import train_test_split\n",
        "from sklearn.metrics import accuracy_score, balanced_accuracy_score\n",
        "from sklearn.ensemble import RandomForestClassifier \n",
        "from sklearn.neighbors import KNeighborsClassifier\n",
        "from sklearn.tree import DecisionTreeClassifier\n",
        "from xgboost import XGBClassifier\n",
        "from sklearn.model_selection import cross_val_score\n",
        "from sklearn.pipeline import make_pipeline\n",
        "from sklearn.metrics import accuracy_score, classification_report, confusion_matrix, mean_squared_error, r2_score, make_scorer\n",
        "from sklearn.compose import ColumnTransformer, make_column_selector\n",
        "from sklearn.preprocessing import StandardScaler\n",
        "from sklearn.feature_selection import SequentialFeatureSelector\n",
        "import warnings\n",
        "warnings.filterwarnings(\"ignore\")\n",
        "\n",
        "%matplotlib inline\n",
        "plt.style.use('seaborn-white')"
      ]
    },
    {
      "cell_type": "code",
      "source": [
        "# mounting drive \n",
        "from google.colab import drive\n",
        "drive.mount('/content/drive')\n",
        "data_folder = '/content/drive/Shareddrives/BA810/'"
      ],
      "metadata": {
        "colab": {
          "base_uri": "https://localhost:8080/"
        },
        "id": "0zndbHVVO4pd",
        "outputId": "2925dc55-fd90-4a73-f71b-94b6fc3b48b7"
      },
      "execution_count": null,
      "outputs": [
        {
          "output_type": "stream",
          "name": "stdout",
          "text": [
            "Mounted at /content/drive\n"
          ]
        }
      ]
    },
    {
      "cell_type": "markdown",
      "source": [
        "Early on in the analysis we found that our raw dataset is too large to work with on a Google Colab notebook. It would be convenient to run a much smaller dataset which is why we decided to subset our data and focus on just improving the Chicago O'Hare International Airport operations."
      ],
      "metadata": {
        "id": "Y8IQBZsVctox"
      }
    },
    {
      "cell_type": "code",
      "source": [
        "df = pd.read_csv(data_folder+'full_data_flightdelay.csv')\n",
        "df = df[df['DEPARTING_AIRPORT']==\"Chicago O'Hare International\"]"
      ],
      "metadata": {
        "id": "vWoE8TyCO9Dv"
      },
      "execution_count": null,
      "outputs": []
    },
    {
      "cell_type": "markdown",
      "source": [
        "<a id=\"2\"></a>\n",
        "\n",
        "##[Exploratory Data Analysis](#2)"
      ],
      "metadata": {
        "id": "uUZLQ00jwYmx"
      }
    },
    {
      "cell_type": "markdown",
      "source": [
        "### Summary Statistics"
      ],
      "metadata": {
        "id": "BNIaft85UaX-"
      }
    },
    {
      "cell_type": "code",
      "source": [
        "df.shape # 329,045 rows and 26 columns"
      ],
      "metadata": {
        "id": "xrCtDHsjPgoj",
        "colab": {
          "base_uri": "https://localhost:8080/"
        },
        "outputId": "3cc274c7-cac4-4de0-f7df-29a4d374feb8"
      },
      "execution_count": null,
      "outputs": [
        {
          "output_type": "execute_result",
          "data": {
            "text/plain": [
              "(329045, 26)"
            ]
          },
          "metadata": {},
          "execution_count": 5
        }
      ]
    },
    {
      "cell_type": "code",
      "source": [
        "pd.set_option('display.max_columns', None)\n",
        "df.describe().apply(lambda s: s.apply('{0:.2f}'.format))"
      ],
      "metadata": {
        "id": "l0N6FReEFLDi",
        "colab": {
          "base_uri": "https://localhost:8080/",
          "height": 364
        },
        "outputId": "34e02611-aa8e-429e-b41d-0f728a02c491"
      },
      "execution_count": null,
      "outputs": [
        {
          "output_type": "execute_result",
          "data": {
            "text/plain": [
              "           MONTH DAY_OF_WEEK  DEP_DEL15 DISTANCE_GROUP SEGMENT_NUMBER  \\\n",
              "count  329045.00   329045.00  329045.00      329045.00      329045.00   \n",
              "mean        6.67        3.94       0.23           3.42           3.13   \n",
              "std         3.36        1.99       0.42           1.93           1.71   \n",
              "min         1.00        1.00       0.00           1.00           1.00   \n",
              "25%         4.00        2.00       0.00           2.00           2.00   \n",
              "50%         7.00        4.00       0.00           3.00           3.00   \n",
              "75%        10.00        6.00       0.00           4.00           4.00   \n",
              "max        12.00        7.00       1.00          11.00          10.00   \n",
              "\n",
              "      CONCURRENT_FLIGHTS NUMBER_OF_SEATS AIRPORT_FLIGHTS_MONTH  \\\n",
              "count          329045.00       329045.00             329045.00   \n",
              "mean               56.94          117.29              27609.80   \n",
              "std                15.22           52.92               2188.38   \n",
              "min                 1.00           44.00              22752.00   \n",
              "25%                47.00           66.00              26830.00   \n",
              "50%                58.00          124.00              28583.00   \n",
              "75%                68.00          160.00              29376.00   \n",
              "max                92.00          337.00              29971.00   \n",
              "\n",
              "      AIRLINE_FLIGHTS_MONTH AIRLINE_AIRPORT_FLIGHTS_MONTH  \\\n",
              "count             329045.00                     329045.00   \n",
              "mean               51439.14                       4803.79   \n",
              "std                22843.06                       1972.68   \n",
              "min                 8643.00                         10.00   \n",
              "25%                27159.00                       4795.00   \n",
              "50%                53980.00                       5410.00   \n",
              "75%                72721.00                       5992.00   \n",
              "max                91062.00                       7167.00   \n",
              "\n",
              "      AVG_MONTHLY_PASS_AIRPORT AVG_MONTHLY_PASS_AIRLINE  \\\n",
              "count                329045.00                329045.00   \n",
              "mean                3103410.00               5903273.01   \n",
              "std                       0.00               4262742.77   \n",
              "min                 3103410.00                473794.00   \n",
              "25%                 3103410.00               1529740.00   \n",
              "50%                 3103410.00               3472966.00   \n",
              "75%                 3103410.00               8501631.00   \n",
              "max                 3103410.00              12460183.00   \n",
              "\n",
              "      FLT_ATTENDANTS_PER_PASS GROUND_SERV_PER_PASS  PLANE_AGE   LATITUDE  \\\n",
              "count               329045.00            329045.00  329045.00  329045.00   \n",
              "mean                     0.00                 0.00      11.59      41.98   \n",
              "std                      0.00                 0.00       6.51       0.00   \n",
              "min                      0.00                 0.00       0.00      41.98   \n",
              "25%                      0.00                 0.00       5.00      41.98   \n",
              "50%                      0.00                 0.00      13.00      41.98   \n",
              "75%                      0.00                 0.00      17.00      41.98   \n",
              "max                      0.00                 0.00      32.00      41.98   \n",
              "\n",
              "       LONGITUDE       PRCP       SNOW       SNWD       TMAX       AWND  \n",
              "count  329045.00  329045.00  329045.00  329045.00  329045.00  329045.00  \n",
              "mean      -87.91       0.13       0.08       0.32      59.32       9.51  \n",
              "std         0.00       0.31       0.44       1.26      21.03       3.38  \n",
              "min       -87.91       0.00       0.00       0.00     -10.00       2.91  \n",
              "25%       -87.91       0.00       0.00       0.00      42.00       7.16  \n",
              "50%       -87.91       0.00       0.00       0.00      61.00       9.17  \n",
              "75%       -87.91       0.08       0.00       0.00      78.00      11.63  \n",
              "max       -87.91       2.28       5.40       9.80      95.00      25.95  "
            ],
            "text/html": [
              "\n",
              "  <div id=\"df-35d3abed-4ff2-42cb-b476-832c6cb6e234\">\n",
              "    <div class=\"colab-df-container\">\n",
              "      <div>\n",
              "<style scoped>\n",
              "    .dataframe tbody tr th:only-of-type {\n",
              "        vertical-align: middle;\n",
              "    }\n",
              "\n",
              "    .dataframe tbody tr th {\n",
              "        vertical-align: top;\n",
              "    }\n",
              "\n",
              "    .dataframe thead th {\n",
              "        text-align: right;\n",
              "    }\n",
              "</style>\n",
              "<table border=\"1\" class=\"dataframe\">\n",
              "  <thead>\n",
              "    <tr style=\"text-align: right;\">\n",
              "      <th></th>\n",
              "      <th>MONTH</th>\n",
              "      <th>DAY_OF_WEEK</th>\n",
              "      <th>DEP_DEL15</th>\n",
              "      <th>DISTANCE_GROUP</th>\n",
              "      <th>SEGMENT_NUMBER</th>\n",
              "      <th>CONCURRENT_FLIGHTS</th>\n",
              "      <th>NUMBER_OF_SEATS</th>\n",
              "      <th>AIRPORT_FLIGHTS_MONTH</th>\n",
              "      <th>AIRLINE_FLIGHTS_MONTH</th>\n",
              "      <th>AIRLINE_AIRPORT_FLIGHTS_MONTH</th>\n",
              "      <th>AVG_MONTHLY_PASS_AIRPORT</th>\n",
              "      <th>AVG_MONTHLY_PASS_AIRLINE</th>\n",
              "      <th>FLT_ATTENDANTS_PER_PASS</th>\n",
              "      <th>GROUND_SERV_PER_PASS</th>\n",
              "      <th>PLANE_AGE</th>\n",
              "      <th>LATITUDE</th>\n",
              "      <th>LONGITUDE</th>\n",
              "      <th>PRCP</th>\n",
              "      <th>SNOW</th>\n",
              "      <th>SNWD</th>\n",
              "      <th>TMAX</th>\n",
              "      <th>AWND</th>\n",
              "    </tr>\n",
              "  </thead>\n",
              "  <tbody>\n",
              "    <tr>\n",
              "      <th>count</th>\n",
              "      <td>329045.00</td>\n",
              "      <td>329045.00</td>\n",
              "      <td>329045.00</td>\n",
              "      <td>329045.00</td>\n",
              "      <td>329045.00</td>\n",
              "      <td>329045.00</td>\n",
              "      <td>329045.00</td>\n",
              "      <td>329045.00</td>\n",
              "      <td>329045.00</td>\n",
              "      <td>329045.00</td>\n",
              "      <td>329045.00</td>\n",
              "      <td>329045.00</td>\n",
              "      <td>329045.00</td>\n",
              "      <td>329045.00</td>\n",
              "      <td>329045.00</td>\n",
              "      <td>329045.00</td>\n",
              "      <td>329045.00</td>\n",
              "      <td>329045.00</td>\n",
              "      <td>329045.00</td>\n",
              "      <td>329045.00</td>\n",
              "      <td>329045.00</td>\n",
              "      <td>329045.00</td>\n",
              "    </tr>\n",
              "    <tr>\n",
              "      <th>mean</th>\n",
              "      <td>6.67</td>\n",
              "      <td>3.94</td>\n",
              "      <td>0.23</td>\n",
              "      <td>3.42</td>\n",
              "      <td>3.13</td>\n",
              "      <td>56.94</td>\n",
              "      <td>117.29</td>\n",
              "      <td>27609.80</td>\n",
              "      <td>51439.14</td>\n",
              "      <td>4803.79</td>\n",
              "      <td>3103410.00</td>\n",
              "      <td>5903273.01</td>\n",
              "      <td>0.00</td>\n",
              "      <td>0.00</td>\n",
              "      <td>11.59</td>\n",
              "      <td>41.98</td>\n",
              "      <td>-87.91</td>\n",
              "      <td>0.13</td>\n",
              "      <td>0.08</td>\n",
              "      <td>0.32</td>\n",
              "      <td>59.32</td>\n",
              "      <td>9.51</td>\n",
              "    </tr>\n",
              "    <tr>\n",
              "      <th>std</th>\n",
              "      <td>3.36</td>\n",
              "      <td>1.99</td>\n",
              "      <td>0.42</td>\n",
              "      <td>1.93</td>\n",
              "      <td>1.71</td>\n",
              "      <td>15.22</td>\n",
              "      <td>52.92</td>\n",
              "      <td>2188.38</td>\n",
              "      <td>22843.06</td>\n",
              "      <td>1972.68</td>\n",
              "      <td>0.00</td>\n",
              "      <td>4262742.77</td>\n",
              "      <td>0.00</td>\n",
              "      <td>0.00</td>\n",
              "      <td>6.51</td>\n",
              "      <td>0.00</td>\n",
              "      <td>0.00</td>\n",
              "      <td>0.31</td>\n",
              "      <td>0.44</td>\n",
              "      <td>1.26</td>\n",
              "      <td>21.03</td>\n",
              "      <td>3.38</td>\n",
              "    </tr>\n",
              "    <tr>\n",
              "      <th>min</th>\n",
              "      <td>1.00</td>\n",
              "      <td>1.00</td>\n",
              "      <td>0.00</td>\n",
              "      <td>1.00</td>\n",
              "      <td>1.00</td>\n",
              "      <td>1.00</td>\n",
              "      <td>44.00</td>\n",
              "      <td>22752.00</td>\n",
              "      <td>8643.00</td>\n",
              "      <td>10.00</td>\n",
              "      <td>3103410.00</td>\n",
              "      <td>473794.00</td>\n",
              "      <td>0.00</td>\n",
              "      <td>0.00</td>\n",
              "      <td>0.00</td>\n",
              "      <td>41.98</td>\n",
              "      <td>-87.91</td>\n",
              "      <td>0.00</td>\n",
              "      <td>0.00</td>\n",
              "      <td>0.00</td>\n",
              "      <td>-10.00</td>\n",
              "      <td>2.91</td>\n",
              "    </tr>\n",
              "    <tr>\n",
              "      <th>25%</th>\n",
              "      <td>4.00</td>\n",
              "      <td>2.00</td>\n",
              "      <td>0.00</td>\n",
              "      <td>2.00</td>\n",
              "      <td>2.00</td>\n",
              "      <td>47.00</td>\n",
              "      <td>66.00</td>\n",
              "      <td>26830.00</td>\n",
              "      <td>27159.00</td>\n",
              "      <td>4795.00</td>\n",
              "      <td>3103410.00</td>\n",
              "      <td>1529740.00</td>\n",
              "      <td>0.00</td>\n",
              "      <td>0.00</td>\n",
              "      <td>5.00</td>\n",
              "      <td>41.98</td>\n",
              "      <td>-87.91</td>\n",
              "      <td>0.00</td>\n",
              "      <td>0.00</td>\n",
              "      <td>0.00</td>\n",
              "      <td>42.00</td>\n",
              "      <td>7.16</td>\n",
              "    </tr>\n",
              "    <tr>\n",
              "      <th>50%</th>\n",
              "      <td>7.00</td>\n",
              "      <td>4.00</td>\n",
              "      <td>0.00</td>\n",
              "      <td>3.00</td>\n",
              "      <td>3.00</td>\n",
              "      <td>58.00</td>\n",
              "      <td>124.00</td>\n",
              "      <td>28583.00</td>\n",
              "      <td>53980.00</td>\n",
              "      <td>5410.00</td>\n",
              "      <td>3103410.00</td>\n",
              "      <td>3472966.00</td>\n",
              "      <td>0.00</td>\n",
              "      <td>0.00</td>\n",
              "      <td>13.00</td>\n",
              "      <td>41.98</td>\n",
              "      <td>-87.91</td>\n",
              "      <td>0.00</td>\n",
              "      <td>0.00</td>\n",
              "      <td>0.00</td>\n",
              "      <td>61.00</td>\n",
              "      <td>9.17</td>\n",
              "    </tr>\n",
              "    <tr>\n",
              "      <th>75%</th>\n",
              "      <td>10.00</td>\n",
              "      <td>6.00</td>\n",
              "      <td>0.00</td>\n",
              "      <td>4.00</td>\n",
              "      <td>4.00</td>\n",
              "      <td>68.00</td>\n",
              "      <td>160.00</td>\n",
              "      <td>29376.00</td>\n",
              "      <td>72721.00</td>\n",
              "      <td>5992.00</td>\n",
              "      <td>3103410.00</td>\n",
              "      <td>8501631.00</td>\n",
              "      <td>0.00</td>\n",
              "      <td>0.00</td>\n",
              "      <td>17.00</td>\n",
              "      <td>41.98</td>\n",
              "      <td>-87.91</td>\n",
              "      <td>0.08</td>\n",
              "      <td>0.00</td>\n",
              "      <td>0.00</td>\n",
              "      <td>78.00</td>\n",
              "      <td>11.63</td>\n",
              "    </tr>\n",
              "    <tr>\n",
              "      <th>max</th>\n",
              "      <td>12.00</td>\n",
              "      <td>7.00</td>\n",
              "      <td>1.00</td>\n",
              "      <td>11.00</td>\n",
              "      <td>10.00</td>\n",
              "      <td>92.00</td>\n",
              "      <td>337.00</td>\n",
              "      <td>29971.00</td>\n",
              "      <td>91062.00</td>\n",
              "      <td>7167.00</td>\n",
              "      <td>3103410.00</td>\n",
              "      <td>12460183.00</td>\n",
              "      <td>0.00</td>\n",
              "      <td>0.00</td>\n",
              "      <td>32.00</td>\n",
              "      <td>41.98</td>\n",
              "      <td>-87.91</td>\n",
              "      <td>2.28</td>\n",
              "      <td>5.40</td>\n",
              "      <td>9.80</td>\n",
              "      <td>95.00</td>\n",
              "      <td>25.95</td>\n",
              "    </tr>\n",
              "  </tbody>\n",
              "</table>\n",
              "</div>\n",
              "      <button class=\"colab-df-convert\" onclick=\"convertToInteractive('df-35d3abed-4ff2-42cb-b476-832c6cb6e234')\"\n",
              "              title=\"Convert this dataframe to an interactive table.\"\n",
              "              style=\"display:none;\">\n",
              "        \n",
              "  <svg xmlns=\"http://www.w3.org/2000/svg\" height=\"24px\"viewBox=\"0 0 24 24\"\n",
              "       width=\"24px\">\n",
              "    <path d=\"M0 0h24v24H0V0z\" fill=\"none\"/>\n",
              "    <path d=\"M18.56 5.44l.94 2.06.94-2.06 2.06-.94-2.06-.94-.94-2.06-.94 2.06-2.06.94zm-11 1L8.5 8.5l.94-2.06 2.06-.94-2.06-.94L8.5 2.5l-.94 2.06-2.06.94zm10 10l.94 2.06.94-2.06 2.06-.94-2.06-.94-.94-2.06-.94 2.06-2.06.94z\"/><path d=\"M17.41 7.96l-1.37-1.37c-.4-.4-.92-.59-1.43-.59-.52 0-1.04.2-1.43.59L10.3 9.45l-7.72 7.72c-.78.78-.78 2.05 0 2.83L4 21.41c.39.39.9.59 1.41.59.51 0 1.02-.2 1.41-.59l7.78-7.78 2.81-2.81c.8-.78.8-2.07 0-2.86zM5.41 20L4 18.59l7.72-7.72 1.47 1.35L5.41 20z\"/>\n",
              "  </svg>\n",
              "      </button>\n",
              "      \n",
              "  <style>\n",
              "    .colab-df-container {\n",
              "      display:flex;\n",
              "      flex-wrap:wrap;\n",
              "      gap: 12px;\n",
              "    }\n",
              "\n",
              "    .colab-df-convert {\n",
              "      background-color: #E8F0FE;\n",
              "      border: none;\n",
              "      border-radius: 50%;\n",
              "      cursor: pointer;\n",
              "      display: none;\n",
              "      fill: #1967D2;\n",
              "      height: 32px;\n",
              "      padding: 0 0 0 0;\n",
              "      width: 32px;\n",
              "    }\n",
              "\n",
              "    .colab-df-convert:hover {\n",
              "      background-color: #E2EBFA;\n",
              "      box-shadow: 0px 1px 2px rgba(60, 64, 67, 0.3), 0px 1px 3px 1px rgba(60, 64, 67, 0.15);\n",
              "      fill: #174EA6;\n",
              "    }\n",
              "\n",
              "    [theme=dark] .colab-df-convert {\n",
              "      background-color: #3B4455;\n",
              "      fill: #D2E3FC;\n",
              "    }\n",
              "\n",
              "    [theme=dark] .colab-df-convert:hover {\n",
              "      background-color: #434B5C;\n",
              "      box-shadow: 0px 1px 3px 1px rgba(0, 0, 0, 0.15);\n",
              "      filter: drop-shadow(0px 1px 2px rgba(0, 0, 0, 0.3));\n",
              "      fill: #FFFFFF;\n",
              "    }\n",
              "  </style>\n",
              "\n",
              "      <script>\n",
              "        const buttonEl =\n",
              "          document.querySelector('#df-35d3abed-4ff2-42cb-b476-832c6cb6e234 button.colab-df-convert');\n",
              "        buttonEl.style.display =\n",
              "          google.colab.kernel.accessAllowed ? 'block' : 'none';\n",
              "\n",
              "        async function convertToInteractive(key) {\n",
              "          const element = document.querySelector('#df-35d3abed-4ff2-42cb-b476-832c6cb6e234');\n",
              "          const dataTable =\n",
              "            await google.colab.kernel.invokeFunction('convertToInteractive',\n",
              "                                                     [key], {});\n",
              "          if (!dataTable) return;\n",
              "\n",
              "          const docLinkHtml = 'Like what you see? Visit the ' +\n",
              "            '<a target=\"_blank\" href=https://colab.research.google.com/notebooks/data_table.ipynb>data table notebook</a>'\n",
              "            + ' to learn more about interactive tables.';\n",
              "          element.innerHTML = '';\n",
              "          dataTable['output_type'] = 'display_data';\n",
              "          await google.colab.output.renderOutput(dataTable, element);\n",
              "          const docLink = document.createElement('div');\n",
              "          docLink.innerHTML = docLinkHtml;\n",
              "          element.appendChild(docLink);\n",
              "        }\n",
              "      </script>\n",
              "    </div>\n",
              "  </div>\n",
              "  "
            ]
          },
          "metadata": {},
          "execution_count": 6
        }
      ]
    },
    {
      "cell_type": "code",
      "source": [
        "df = df.drop(['DEPARTING_AIRPORT', 'AIRPORT_FLIGHTS_MONTH', 'AIRLINE_FLIGHTS_MONTH',\n",
        "             'AIRLINE_AIRPORT_FLIGHTS_MONTH', 'AVG_MONTHLY_PASS_AIRPORT', 'AVG_MONTHLY_PASS_AIRLINE', 'LATITUDE', 'LONGITUDE'], axis=1)"
      ],
      "metadata": {
        "id": "bdICWWZCNsOw"
      },
      "execution_count": null,
      "outputs": []
    },
    {
      "cell_type": "markdown",
      "source": [
        "Since the original dataset contains information on all the domestic airports across the United States, columns irrelevant to the Chicago O'Hare International Airport have to be dropped. Therefore, the columns departing airport, airport flights month, airline flights month, the airline airport flights month, avg monthly pass airport, longitude, and latitude have been dropped. "
      ],
      "metadata": {
        "id": "DuHH59K_v0ce"
      }
    },
    {
      "cell_type": "code",
      "source": [
        "df.isna().sum()"
      ],
      "metadata": {
        "id": "djw97g9WQJ_q",
        "colab": {
          "base_uri": "https://localhost:8080/"
        },
        "outputId": "69af1b57-12f8-4785-8483-8457a5bc3836"
      },
      "execution_count": null,
      "outputs": [
        {
          "output_type": "execute_result",
          "data": {
            "text/plain": [
              "MONTH                      0\n",
              "DAY_OF_WEEK                0\n",
              "DEP_DEL15                  0\n",
              "DEP_TIME_BLK               0\n",
              "DISTANCE_GROUP             0\n",
              "SEGMENT_NUMBER             0\n",
              "CONCURRENT_FLIGHTS         0\n",
              "NUMBER_OF_SEATS            0\n",
              "CARRIER_NAME               0\n",
              "FLT_ATTENDANTS_PER_PASS    0\n",
              "GROUND_SERV_PER_PASS       0\n",
              "PLANE_AGE                  0\n",
              "PREVIOUS_AIRPORT           0\n",
              "PRCP                       0\n",
              "SNOW                       0\n",
              "SNWD                       0\n",
              "TMAX                       0\n",
              "AWND                       0\n",
              "dtype: int64"
            ]
          },
          "metadata": {},
          "execution_count": 8
        }
      ]
    },
    {
      "cell_type": "code",
      "source": [
        "df.info()"
      ],
      "metadata": {
        "id": "UcUdp83zQO7l",
        "colab": {
          "base_uri": "https://localhost:8080/"
        },
        "outputId": "ad1df393-9b93-4dde-ba60-d3b0b1ab271f"
      },
      "execution_count": null,
      "outputs": [
        {
          "output_type": "stream",
          "name": "stdout",
          "text": [
            "<class 'pandas.core.frame.DataFrame'>\n",
            "Int64Index: 329045 entries, 1541 to 6448907\n",
            "Data columns (total 18 columns):\n",
            " #   Column                   Non-Null Count   Dtype  \n",
            "---  ------                   --------------   -----  \n",
            " 0   MONTH                    329045 non-null  int64  \n",
            " 1   DAY_OF_WEEK              329045 non-null  int64  \n",
            " 2   DEP_DEL15                329045 non-null  int64  \n",
            " 3   DEP_TIME_BLK             329045 non-null  object \n",
            " 4   DISTANCE_GROUP           329045 non-null  int64  \n",
            " 5   SEGMENT_NUMBER           329045 non-null  int64  \n",
            " 6   CONCURRENT_FLIGHTS       329045 non-null  int64  \n",
            " 7   NUMBER_OF_SEATS          329045 non-null  int64  \n",
            " 8   CARRIER_NAME             329045 non-null  object \n",
            " 9   FLT_ATTENDANTS_PER_PASS  329045 non-null  float64\n",
            " 10  GROUND_SERV_PER_PASS     329045 non-null  float64\n",
            " 11  PLANE_AGE                329045 non-null  int64  \n",
            " 12  PREVIOUS_AIRPORT         329045 non-null  object \n",
            " 13  PRCP                     329045 non-null  float64\n",
            " 14  SNOW                     329045 non-null  float64\n",
            " 15  SNWD                     329045 non-null  float64\n",
            " 16  TMAX                     329045 non-null  float64\n",
            " 17  AWND                     329045 non-null  float64\n",
            "dtypes: float64(7), int64(8), object(3)\n",
            "memory usage: 47.7+ MB\n"
          ]
        }
      ]
    },
    {
      "cell_type": "code",
      "source": [
        "pd.set_option('display.max_columns', None)\n",
        "test = df[(df['DAY_OF_WEEK']==1) & (df['MONTH']==1) & (df['CARRIER_NAME']== 'Southwest Airlines Co.')]\n",
        "test.to_csv(r'/content/drive/Shareddrives/BA810/Test.csv')"
      ],
      "metadata": {
        "id": "7gF7VSzTQVFJ"
      },
      "execution_count": null,
      "outputs": []
    },
    {
      "cell_type": "code",
      "source": [
        "df.nunique()"
      ],
      "metadata": {
        "id": "ejsKqJJYUJW5",
        "colab": {
          "base_uri": "https://localhost:8080/"
        },
        "outputId": "51450a5d-2cc7-44e4-9b28-ecc0c466f271"
      },
      "execution_count": null,
      "outputs": [
        {
          "output_type": "execute_result",
          "data": {
            "text/plain": [
              "MONTH                       12\n",
              "DAY_OF_WEEK                  7\n",
              "DEP_DEL15                    2\n",
              "DEP_TIME_BLK                19\n",
              "DISTANCE_GROUP              10\n",
              "SEGMENT_NUMBER              10\n",
              "CONCURRENT_FLIGHTS          92\n",
              "NUMBER_OF_SEATS             61\n",
              "CARRIER_NAME                13\n",
              "FLT_ATTENDANTS_PER_PASS     11\n",
              "GROUND_SERV_PER_PASS        13\n",
              "PLANE_AGE                   33\n",
              "PREVIOUS_AIRPORT           231\n",
              "PRCP                        67\n",
              "SNOW                        23\n",
              "SNWD                        10\n",
              "TMAX                        85\n",
              "AWND                        69\n",
              "dtype: int64"
            ]
          },
          "metadata": {},
          "execution_count": 11
        }
      ]
    },
    {
      "cell_type": "markdown",
      "source": [
        "## Questions"
      ],
      "metadata": {
        "id": "Wep-PHzoUe7k"
      }
    },
    {
      "cell_type": "markdown",
      "source": [
        "#### 1. What are the percentage delays of domestic flights per month in 2019 departing from the Chicago O'Hare Airport?"
      ],
      "metadata": {
        "id": "pNmmM6Ie8mac"
      }
    },
    {
      "cell_type": "code",
      "source": [
        "plt.figure(figsize=(10, 8))\n",
        "plots = sns.barplot(x='MONTH', y='DEP_DEL15', data=df)\n",
        "\n",
        "# Iterrating over the bars one-by-one\n",
        "for bar in plots.patches:\n",
        "\n",
        "    plots.annotate(format(bar.get_height(), '.2f'),\n",
        "                   (bar.get_x() + bar.get_width() / 2,\n",
        "                    bar.get_height()), ha='center', va='center',\n",
        "                   size=15, xytext=(0, 5),\n",
        "                   textcoords='offset points')\n",
        " \n",
        "# Setting the label for x-axis\n",
        "plt.xlabel(\"Months\", size=14)\n",
        " \n",
        "# Setting the label for y-axis\n",
        "plt.ylabel(\"Percentage of flights delayed\", size=14)\n",
        " \n",
        "# Setting the title for the graph\n",
        "plt.title(\"Percentage of delayed flights in Chicago for 2019\", size=16)\n",
        " \n",
        "# Finally showing the plot\n",
        "plt.show()"
      ],
      "metadata": {
        "id": "KAyM5ytIdSkt",
        "colab": {
          "base_uri": "https://localhost:8080/",
          "height": 515
        },
        "outputId": "ce7784a9-4dae-4c1d-f5ea-4a8681ef12bd"
      },
      "execution_count": null,
      "outputs": [
        {
          "output_type": "display_data",
          "data": {
            "text/plain": [
              "<Figure size 720x576 with 1 Axes>"
            ],
            "image/png": "[encoded data removed]"
          },
          "metadata": {}
        }
      ]
    },
    {
      "cell_type": "markdown",
      "source": [
        "The figure above shows the percentage of flights delayed per month. With a value of over 25, the summer months of June and July and winter months of January and February have the highest percentage of flight delays. From our research we found that the overal flights in the USA do get delayed most in these months and this is extreme in the Chicago O'Hare International Airport."
      ],
      "metadata": {
        "id": "iI42zjQxxAN-"
      }
    },
    {
      "cell_type": "markdown",
      "source": [
        "#### 2. What are the correlations between the variables in the dataset? "
      ],
      "metadata": {
        "id": "m2qjRhOJ2i0c"
      }
    },
    {
      "cell_type": "code",
      "source": [
        "#correlation matrix for the whole dataset\n",
        "plt.figure(figsize=(10,8))\n",
        "corr = df.corr()\n",
        "sns.heatmap(corr)"
      ],
      "metadata": {
        "id": "wezroWPLHhqj",
        "colab": {
          "base_uri": "https://localhost:8080/",
          "height": 638
        },
        "outputId": "bc47edfa-6290-44a6-9e2d-a426ee3c6ff0"
      },
      "execution_count": null,
      "outputs": [
        {
          "output_type": "execute_result",
          "data": {
            "text/plain": [
              "<matplotlib.axes._subplots.AxesSubplot at 0x7f31ce266190>"
            ]
          },
          "metadata": {},
          "execution_count": 13
        },
        {
          "output_type": "display_data",
          "data": {
            "text/plain": [
              "<Figure size 720x576 with 2 Axes>"
            ],
            "image/png": "[encoded data removed]"
          },
          "metadata": {}
        }
      ]
    },
    {
      "cell_type": "markdown",
      "source": [
        "In terms of dep_del15 (delays of 15 minutes or more), the weather variables of PRCP, SNOW, SNWD, TMAX, and AWND are the most correlated. Furthermore, as the distance group increases, the number of seats on the aircraft as well as ratio of groudstaff per passenger increases, showing a positive linear correlation."
      ],
      "metadata": {
        "id": "cGjCOaW3xg4W"
      }
    },
    {
      "cell_type": "code",
      "source": [
        "#numerical display of the corelation matrix\n",
        "pd.set_option('display.max_columns', None)\n",
        "corr"
      ],
      "metadata": {
        "id": "XEV-24B0j8Gx",
        "colab": {
          "base_uri": "https://localhost:8080/",
          "height": 584
        },
        "outputId": "d7d378a6-3077-4250-b688-4163ca0d5990"
      },
      "execution_count": null,
      "outputs": [
        {
          "output_type": "execute_result",
          "data": {
            "text/plain": [
              "                            MONTH  DAY_OF_WEEK  DEP_DEL15  DISTANCE_GROUP  \\\n",
              "MONTH                    1.000000     0.005084  -0.060784       -0.003641   \n",
              "DAY_OF_WEEK              0.005084     1.000000  -0.012239        0.014965   \n",
              "DEP_DEL15               -0.060784    -0.012239   1.000000        0.009807   \n",
              "DISTANCE_GROUP          -0.003641     0.014965   0.009807        1.000000   \n",
              "SEGMENT_NUMBER           0.021493    -0.022991   0.081480       -0.290592   \n",
              "CONCURRENT_FLIGHTS       0.121493    -0.086578  -0.046513        0.002358   \n",
              "NUMBER_OF_SEATS         -0.010406     0.002124   0.022091        0.591780   \n",
              "FLT_ATTENDANTS_PER_PASS -0.004175    -0.006523  -0.041575       -0.062714   \n",
              "GROUND_SERV_PER_PASS    -0.001628    -0.003392   0.012074        0.423456   \n",
              "PLANE_AGE               -0.011107    -0.004791   0.020331       -0.148052   \n",
              "PRCP                     0.014961     0.008044   0.105198        0.008480   \n",
              "SNOW                    -0.141316     0.011765   0.129512        0.019159   \n",
              "SNWD                    -0.286363    -0.016856   0.085681        0.007803   \n",
              "TMAX                     0.226527    -0.005265   0.001967       -0.002656   \n",
              "AWND                    -0.171122    -0.021968   0.050366        0.003536   \n",
              "\n",
              "                         SEGMENT_NUMBER  CONCURRENT_FLIGHTS  NUMBER_OF_SEATS  \\\n",
              "MONTH                          0.021493            0.121493        -0.010406   \n",
              "DAY_OF_WEEK                   -0.022991           -0.086578         0.002124   \n",
              "DEP_DEL15                      0.081480           -0.046513         0.022091   \n",
              "DISTANCE_GROUP                -0.290592            0.002358         0.591780   \n",
              "SEGMENT_NUMBER                 1.000000           -0.071968        -0.348711   \n",
              "CONCURRENT_FLIGHTS            -0.071968            1.000000        -0.054400   \n",
              "NUMBER_OF_SEATS               -0.348711           -0.054400         1.000000   \n",
              "FLT_ATTENDANTS_PER_PASS        0.082447            0.040220        -0.095643   \n",
              "GROUND_SERV_PER_PASS          -0.272291            0.009920         0.638825   \n",
              "PLANE_AGE                      0.070052            0.032785        -0.152951   \n",
              "PRCP                          -0.027153           -0.040446         0.013821   \n",
              "SNOW                          -0.056343           -0.168167         0.021482   \n",
              "SNWD                          -0.034940           -0.142193         0.010310   \n",
              "TMAX                           0.031028            0.156684         0.009043   \n",
              "AWND                          -0.017513           -0.060270         0.004473   \n",
              "\n",
              "                         FLT_ATTENDANTS_PER_PASS  GROUND_SERV_PER_PASS  \\\n",
              "MONTH                                  -0.004175             -0.001628   \n",
              "DAY_OF_WEEK                            -0.006523             -0.003392   \n",
              "DEP_DEL15                              -0.041575              0.012074   \n",
              "DISTANCE_GROUP                         -0.062714              0.423456   \n",
              "SEGMENT_NUMBER                          0.082447             -0.272291   \n",
              "CONCURRENT_FLIGHTS                      0.040220              0.009920   \n",
              "NUMBER_OF_SEATS                        -0.095643              0.638825   \n",
              "FLT_ATTENDANTS_PER_PASS                 1.000000              0.155753   \n",
              "GROUND_SERV_PER_PASS                    0.155753              1.000000   \n",
              "PLANE_AGE                               0.143991              0.196073   \n",
              "PRCP                                    0.001920              0.012748   \n",
              "SNOW                                   -0.002926              0.020679   \n",
              "SNWD                                   -0.005987              0.009117   \n",
              "TMAX                                    0.010787             -0.003565   \n",
              "AWND                                   -0.000845              0.007582   \n",
              "\n",
              "                         PLANE_AGE      PRCP      SNOW      SNWD      TMAX  \\\n",
              "MONTH                    -0.011107  0.014961 -0.141316 -0.286363  0.226527   \n",
              "DAY_OF_WEEK              -0.004791  0.008044  0.011765 -0.016856 -0.005265   \n",
              "DEP_DEL15                 0.020331  0.105198  0.129512  0.085681  0.001967   \n",
              "DISTANCE_GROUP           -0.148052  0.008480  0.019159  0.007803 -0.002656   \n",
              "SEGMENT_NUMBER            0.070052 -0.027153 -0.056343 -0.034940  0.031028   \n",
              "CONCURRENT_FLIGHTS        0.032785 -0.040446 -0.168167 -0.142193  0.156684   \n",
              "NUMBER_OF_SEATS          -0.152951  0.013821  0.021482  0.010310  0.009043   \n",
              "FLT_ATTENDANTS_PER_PASS   0.143991  0.001920 -0.002926 -0.005987  0.010787   \n",
              "GROUND_SERV_PER_PASS      0.196073  0.012748  0.020679  0.009117 -0.003565   \n",
              "PLANE_AGE                 1.000000  0.004361  0.000034 -0.003423  0.005742   \n",
              "PRCP                      0.004361  1.000000  0.089445 -0.057349  0.098073   \n",
              "SNOW                      0.000034  0.089445  1.000000  0.319833 -0.251602   \n",
              "SNWD                     -0.003423 -0.057349  0.319833  1.000000 -0.410621   \n",
              "TMAX                      0.005742  0.098073 -0.251602 -0.410621  1.000000   \n",
              "AWND                      0.003989  0.134628  0.166317  0.028054 -0.191254   \n",
              "\n",
              "                             AWND  \n",
              "MONTH                   -0.171122  \n",
              "DAY_OF_WEEK             -0.021968  \n",
              "DEP_DEL15                0.050366  \n",
              "DISTANCE_GROUP           0.003536  \n",
              "SEGMENT_NUMBER          -0.017513  \n",
              "CONCURRENT_FLIGHTS      -0.060270  \n",
              "NUMBER_OF_SEATS          0.004473  \n",
              "FLT_ATTENDANTS_PER_PASS -0.000845  \n",
              "GROUND_SERV_PER_PASS     0.007582  \n",
              "PLANE_AGE                0.003989  \n",
              "PRCP                     0.134628  \n",
              "SNOW                     0.166317  \n",
              "SNWD                     0.028054  \n",
              "TMAX                    -0.191254  \n",
              "AWND                     1.000000  "
            ],
            "text/html": [
              "\n",
              "  <div id=\"df-c327215f-9410-4622-a6b4-7513c4d1c97f\">\n",
              "    <div class=\"colab-df-container\">\n",
              "      <div>\n",
              "<style scoped>\n",
              "    .dataframe tbody tr th:only-of-type {\n",
              "        vertical-align: middle;\n",
              "    }\n",
              "\n",
              "    .dataframe tbody tr th {\n",
              "        vertical-align: top;\n",
              "    }\n",
              "\n",
              "    .dataframe thead th {\n",
              "        text-align: right;\n",
              "    }\n",
              "</style>\n",
              "<table border=\"1\" class=\"dataframe\">\n",
              "  <thead>\n",
              "    <tr style=\"text-align: right;\">\n",
              "      <th></th>\n",
              "      <th>MONTH</th>\n",
              "      <th>DAY_OF_WEEK</th>\n",
              "      <th>DEP_DEL15</th>\n",
              "      <th>DISTANCE_GROUP</th>\n",
              "      <th>SEGMENT_NUMBER</th>\n",
              "      <th>CONCURRENT_FLIGHTS</th>\n",
              "      <th>NUMBER_OF_SEATS</th>\n",
              "      <th>FLT_ATTENDANTS_PER_PASS</th>\n",
              "      <th>GROUND_SERV_PER_PASS</th>\n",
              "      <th>PLANE_AGE</th>\n",
              "      <th>PRCP</th>\n",
              "      <th>SNOW</th>\n",
              "      <th>SNWD</th>\n",
              "      <th>TMAX</th>\n",
              "      <th>AWND</th>\n",
              "    </tr>\n",
              "  </thead>\n",
              "  <tbody>\n",
              "    <tr>\n",
              "      <th>MONTH</th>\n",
              "      <td>1.000000</td>\n",
              "      <td>0.005084</td>\n",
              "      <td>-0.060784</td>\n",
              "      <td>-0.003641</td>\n",
              "      <td>0.021493</td>\n",
              "      <td>0.121493</td>\n",
              "      <td>-0.010406</td>\n",
              "      <td>-0.004175</td>\n",
              "      <td>-0.001628</td>\n",
              "      <td>-0.011107</td>\n",
              "      <td>0.014961</td>\n",
              "      <td>-0.141316</td>\n",
              "      <td>-0.286363</td>\n",
              "      <td>0.226527</td>\n",
              "      <td>-0.171122</td>\n",
              "    </tr>\n",
              "    <tr>\n",
              "      <th>DAY_OF_WEEK</th>\n",
              "      <td>0.005084</td>\n",
              "      <td>1.000000</td>\n",
              "      <td>-0.012239</td>\n",
              "      <td>0.014965</td>\n",
              "      <td>-0.022991</td>\n",
              "      <td>-0.086578</td>\n",
              "      <td>0.002124</td>\n",
              "      <td>-0.006523</td>\n",
              "      <td>-0.003392</td>\n",
              "      <td>-0.004791</td>\n",
              "      <td>0.008044</td>\n",
              "      <td>0.011765</td>\n",
              "      <td>-0.016856</td>\n",
              "      <td>-0.005265</td>\n",
              "      <td>-0.021968</td>\n",
              "    </tr>\n",
              "    <tr>\n",
              "      <th>DEP_DEL15</th>\n",
              "      <td>-0.060784</td>\n",
              "      <td>-0.012239</td>\n",
              "      <td>1.000000</td>\n",
              "      <td>0.009807</td>\n",
              "      <td>0.081480</td>\n",
              "      <td>-0.046513</td>\n",
              "      <td>0.022091</td>\n",
              "      <td>-0.041575</td>\n",
              "      <td>0.012074</td>\n",
              "      <td>0.020331</td>\n",
              "      <td>0.105198</td>\n",
              "      <td>0.129512</td>\n",
              "      <td>0.085681</td>\n",
              "      <td>0.001967</td>\n",
              "      <td>0.050366</td>\n",
              "    </tr>\n",
              "    <tr>\n",
              "      <th>DISTANCE_GROUP</th>\n",
              "      <td>-0.003641</td>\n",
              "      <td>0.014965</td>\n",
              "      <td>0.009807</td>\n",
              "      <td>1.000000</td>\n",
              "      <td>-0.290592</td>\n",
              "      <td>0.002358</td>\n",
              "      <td>0.591780</td>\n",
              "      <td>-0.062714</td>\n",
              "      <td>0.423456</td>\n",
              "      <td>-0.148052</td>\n",
              "      <td>0.008480</td>\n",
              "      <td>0.019159</td>\n",
              "      <td>0.007803</td>\n",
              "      <td>-0.002656</td>\n",
              "      <td>0.003536</td>\n",
              "    </tr>\n",
              "    <tr>\n",
              "      <th>SEGMENT_NUMBER</th>\n",
              "      <td>0.021493</td>\n",
              "      <td>-0.022991</td>\n",
              "      <td>0.081480</td>\n",
              "      <td>-0.290592</td>\n",
              "      <td>1.000000</td>\n",
              "      <td>-0.071968</td>\n",
              "      <td>-0.348711</td>\n",
              "      <td>0.082447</td>\n",
              "      <td>-0.272291</td>\n",
              "      <td>0.070052</td>\n",
              "      <td>-0.027153</td>\n",
              "      <td>-0.056343</td>\n",
              "      <td>-0.034940</td>\n",
              "      <td>0.031028</td>\n",
              "      <td>-0.017513</td>\n",
              "    </tr>\n",
              "    <tr>\n",
              "      <th>CONCURRENT_FLIGHTS</th>\n",
              "      <td>0.121493</td>\n",
              "      <td>-0.086578</td>\n",
              "      <td>-0.046513</td>\n",
              "      <td>0.002358</td>\n",
              "      <td>-0.071968</td>\n",
              "      <td>1.000000</td>\n",
              "      <td>-0.054400</td>\n",
              "      <td>0.040220</td>\n",
              "      <td>0.009920</td>\n",
              "      <td>0.032785</td>\n",
              "      <td>-0.040446</td>\n",
              "      <td>-0.168167</td>\n",
              "      <td>-0.142193</td>\n",
              "      <td>0.156684</td>\n",
              "      <td>-0.060270</td>\n",
              "    </tr>\n",
              "    <tr>\n",
              "      <th>NUMBER_OF_SEATS</th>\n",
              "      <td>-0.010406</td>\n",
              "      <td>0.002124</td>\n",
              "      <td>0.022091</td>\n",
              "      <td>0.591780</td>\n",
              "      <td>-0.348711</td>\n",
              "      <td>-0.054400</td>\n",
              "      <td>1.000000</td>\n",
              "      <td>-0.095643</td>\n",
              "      <td>0.638825</td>\n",
              "      <td>-0.152951</td>\n",
              "      <td>0.013821</td>\n",
              "      <td>0.021482</td>\n",
              "      <td>0.010310</td>\n",
              "      <td>0.009043</td>\n",
              "      <td>0.004473</td>\n",
              "    </tr>\n",
              "    <tr>\n",
              "      <th>FLT_ATTENDANTS_PER_PASS</th>\n",
              "      <td>-0.004175</td>\n",
              "      <td>-0.006523</td>\n",
              "      <td>-0.041575</td>\n",
              "      <td>-0.062714</td>\n",
              "      <td>0.082447</td>\n",
              "      <td>0.040220</td>\n",
              "      <td>-0.095643</td>\n",
              "      <td>1.000000</td>\n",
              "      <td>0.155753</td>\n",
              "      <td>0.143991</td>\n",
              "      <td>0.001920</td>\n",
              "      <td>-0.002926</td>\n",
              "      <td>-0.005987</td>\n",
              "      <td>0.010787</td>\n",
              "      <td>-0.000845</td>\n",
              "    </tr>\n",
              "    <tr>\n",
              "      <th>GROUND_SERV_PER_PASS</th>\n",
              "      <td>-0.001628</td>\n",
              "      <td>-0.003392</td>\n",
              "      <td>0.012074</td>\n",
              "      <td>0.423456</td>\n",
              "      <td>-0.272291</td>\n",
              "      <td>0.009920</td>\n",
              "      <td>0.638825</td>\n",
              "      <td>0.155753</td>\n",
              "      <td>1.000000</td>\n",
              "      <td>0.196073</td>\n",
              "      <td>0.012748</td>\n",
              "      <td>0.020679</td>\n",
              "      <td>0.009117</td>\n",
              "      <td>-0.003565</td>\n",
              "      <td>0.007582</td>\n",
              "    </tr>\n",
              "    <tr>\n",
              "      <th>PLANE_AGE</th>\n",
              "      <td>-0.011107</td>\n",
              "      <td>-0.004791</td>\n",
              "      <td>0.020331</td>\n",
              "      <td>-0.148052</td>\n",
              "      <td>0.070052</td>\n",
              "      <td>0.032785</td>\n",
              "      <td>-0.152951</td>\n",
              "      <td>0.143991</td>\n",
              "      <td>0.196073</td>\n",
              "      <td>1.000000</td>\n",
              "      <td>0.004361</td>\n",
              "      <td>0.000034</td>\n",
              "      <td>-0.003423</td>\n",
              "      <td>0.005742</td>\n",
              "      <td>0.003989</td>\n",
              "    </tr>\n",
              "    <tr>\n",
              "      <th>PRCP</th>\n",
              "      <td>0.014961</td>\n",
              "      <td>0.008044</td>\n",
              "      <td>0.105198</td>\n",
              "      <td>0.008480</td>\n",
              "      <td>-0.027153</td>\n",
              "      <td>-0.040446</td>\n",
              "      <td>0.013821</td>\n",
              "      <td>0.001920</td>\n",
              "      <td>0.012748</td>\n",
              "      <td>0.004361</td>\n",
              "      <td>1.000000</td>\n",
              "      <td>0.089445</td>\n",
              "      <td>-0.057349</td>\n",
              "      <td>0.098073</td>\n",
              "      <td>0.134628</td>\n",
              "    </tr>\n",
              "    <tr>\n",
              "      <th>SNOW</th>\n",
              "      <td>-0.141316</td>\n",
              "      <td>0.011765</td>\n",
              "      <td>0.129512</td>\n",
              "      <td>0.019159</td>\n",
              "      <td>-0.056343</td>\n",
              "      <td>-0.168167</td>\n",
              "      <td>0.021482</td>\n",
              "      <td>-0.002926</td>\n",
              "      <td>0.020679</td>\n",
              "      <td>0.000034</td>\n",
              "      <td>0.089445</td>\n",
              "      <td>1.000000</td>\n",
              "      <td>0.319833</td>\n",
              "      <td>-0.251602</td>\n",
              "      <td>0.166317</td>\n",
              "    </tr>\n",
              "    <tr>\n",
              "      <th>SNWD</th>\n",
              "      <td>-0.286363</td>\n",
              "      <td>-0.016856</td>\n",
              "      <td>0.085681</td>\n",
              "      <td>0.007803</td>\n",
              "      <td>-0.034940</td>\n",
              "      <td>-0.142193</td>\n",
              "      <td>0.010310</td>\n",
              "      <td>-0.005987</td>\n",
              "      <td>0.009117</td>\n",
              "      <td>-0.003423</td>\n",
              "      <td>-0.057349</td>\n",
              "      <td>0.319833</td>\n",
              "      <td>1.000000</td>\n",
              "      <td>-0.410621</td>\n",
              "      <td>0.028054</td>\n",
              "    </tr>\n",
              "    <tr>\n",
              "      <th>TMAX</th>\n",
              "      <td>0.226527</td>\n",
              "      <td>-0.005265</td>\n",
              "      <td>0.001967</td>\n",
              "      <td>-0.002656</td>\n",
              "      <td>0.031028</td>\n",
              "      <td>0.156684</td>\n",
              "      <td>0.009043</td>\n",
              "      <td>0.010787</td>\n",
              "      <td>-0.003565</td>\n",
              "      <td>0.005742</td>\n",
              "      <td>0.098073</td>\n",
              "      <td>-0.251602</td>\n",
              "      <td>-0.410621</td>\n",
              "      <td>1.000000</td>\n",
              "      <td>-0.191254</td>\n",
              "    </tr>\n",
              "    <tr>\n",
              "      <th>AWND</th>\n",
              "      <td>-0.171122</td>\n",
              "      <td>-0.021968</td>\n",
              "      <td>0.050366</td>\n",
              "      <td>0.003536</td>\n",
              "      <td>-0.017513</td>\n",
              "      <td>-0.060270</td>\n",
              "      <td>0.004473</td>\n",
              "      <td>-0.000845</td>\n",
              "      <td>0.007582</td>\n",
              "      <td>0.003989</td>\n",
              "      <td>0.134628</td>\n",
              "      <td>0.166317</td>\n",
              "      <td>0.028054</td>\n",
              "      <td>-0.191254</td>\n",
              "      <td>1.000000</td>\n",
              "    </tr>\n",
              "  </tbody>\n",
              "</table>\n",
              "</div>\n",
              "      <button class=\"colab-df-convert\" onclick=\"convertToInteractive('df-c327215f-9410-4622-a6b4-7513c4d1c97f')\"\n",
              "              title=\"Convert this dataframe to an interactive table.\"\n",
              "              style=\"display:none;\">\n",
              "        \n",
              "  <svg xmlns=\"http://www.w3.org/2000/svg\" height=\"24px\"viewBox=\"0 0 24 24\"\n",
              "       width=\"24px\">\n",
              "    <path d=\"M0 0h24v24H0V0z\" fill=\"none\"/>\n",
              "    <path d=\"M18.56 5.44l.94 2.06.94-2.06 2.06-.94-2.06-.94-.94-2.06-.94 2.06-2.06.94zm-11 1L8.5 8.5l.94-2.06 2.06-.94-2.06-.94L8.5 2.5l-.94 2.06-2.06.94zm10 10l.94 2.06.94-2.06 2.06-.94-2.06-.94-.94-2.06-.94 2.06-2.06.94z\"/><path d=\"M17.41 7.96l-1.37-1.37c-.4-.4-.92-.59-1.43-.59-.52 0-1.04.2-1.43.59L10.3 9.45l-7.72 7.72c-.78.78-.78 2.05 0 2.83L4 21.41c.39.39.9.59 1.41.59.51 0 1.02-.2 1.41-.59l7.78-7.78 2.81-2.81c.8-.78.8-2.07 0-2.86zM5.41 20L4 18.59l7.72-7.72 1.47 1.35L5.41 20z\"/>\n",
              "  </svg>\n",
              "      </button>\n",
              "      \n",
              "  <style>\n",
              "    .colab-df-container {\n",
              "      display:flex;\n",
              "      flex-wrap:wrap;\n",
              "      gap: 12px;\n",
              "    }\n",
              "\n",
              "    .colab-df-convert {\n",
              "      background-color: #E8F0FE;\n",
              "      border: none;\n",
              "      border-radius: 50%;\n",
              "      cursor: pointer;\n",
              "      display: none;\n",
              "      fill: #1967D2;\n",
              "      height: 32px;\n",
              "      padding: 0 0 0 0;\n",
              "      width: 32px;\n",
              "    }\n",
              "\n",
              "    .colab-df-convert:hover {\n",
              "      background-color: #E2EBFA;\n",
              "      box-shadow: 0px 1px 2px rgba(60, 64, 67, 0.3), 0px 1px 3px 1px rgba(60, 64, 67, 0.15);\n",
              "      fill: #174EA6;\n",
              "    }\n",
              "\n",
              "    [theme=dark] .colab-df-convert {\n",
              "      background-color: #3B4455;\n",
              "      fill: #D2E3FC;\n",
              "    }\n",
              "\n",
              "    [theme=dark] .colab-df-convert:hover {\n",
              "      background-color: #434B5C;\n",
              "      box-shadow: 0px 1px 3px 1px rgba(0, 0, 0, 0.15);\n",
              "      filter: drop-shadow(0px 1px 2px rgba(0, 0, 0, 0.3));\n",
              "      fill: #FFFFFF;\n",
              "    }\n",
              "  </style>\n",
              "\n",
              "      <script>\n",
              "        const buttonEl =\n",
              "          document.querySelector('#df-c327215f-9410-4622-a6b4-7513c4d1c97f button.colab-df-convert');\n",
              "        buttonEl.style.display =\n",
              "          google.colab.kernel.accessAllowed ? 'block' : 'none';\n",
              "\n",
              "        async function convertToInteractive(key) {\n",
              "          const element = document.querySelector('#df-c327215f-9410-4622-a6b4-7513c4d1c97f');\n",
              "          const dataTable =\n",
              "            await google.colab.kernel.invokeFunction('convertToInteractive',\n",
              "                                                     [key], {});\n",
              "          if (!dataTable) return;\n",
              "\n",
              "          const docLinkHtml = 'Like what you see? Visit the ' +\n",
              "            '<a target=\"_blank\" href=https://colab.research.google.com/notebooks/data_table.ipynb>data table notebook</a>'\n",
              "            + ' to learn more about interactive tables.';\n",
              "          element.innerHTML = '';\n",
              "          dataTable['output_type'] = 'display_data';\n",
              "          await google.colab.output.renderOutput(dataTable, element);\n",
              "          const docLink = document.createElement('div');\n",
              "          docLink.innerHTML = docLinkHtml;\n",
              "          element.appendChild(docLink);\n",
              "        }\n",
              "      </script>\n",
              "    </div>\n",
              "  </div>\n",
              "  "
            ]
          },
          "metadata": {},
          "execution_count": 14
        }
      ]
    },
    {
      "cell_type": "markdown",
      "source": [
        "#### 4. Which are the airlines with the most domestic flights departing out of the chicago international airport?"
      ],
      "metadata": {
        "id": "EhXWNRdXxvIo"
      }
    },
    {
      "cell_type": "code",
      "source": [
        "plt.figure(figsize=(12, 12))\n",
        "sns.set(font_scale=1.6)\n",
        "axis = sns.countplot(x=df['CARRIER_NAME'], data=df, order=df['CARRIER_NAME'].value_counts().iloc[0:18].index, orient=\"v\")\n",
        "axis.set_xticklabels(axis.get_xticklabels(), rotation=90, ha='right')\n",
        "plt.title('TOTAL NUMBER OF FLIGHTS BY AIRLINE', fontsize=24)\n",
        "plt.xlabel('CARRIER_NAME/AIRLINE', fontsize=18)\n",
        "plt.ylabel('NUMBER OF FLIGHTS', fontsize=18)\n",
        "plt.tight_layout()\n",
        "plt.show()"
      ],
      "metadata": {
        "id": "St-j2GIDxrEo",
        "colab": {
          "base_uri": "https://localhost:8080/",
          "height": 853
        },
        "outputId": "c8cc220d-606e-4763-d849-7292ec69dd2e"
      },
      "execution_count": null,
      "outputs": [
        {
          "output_type": "display_data",
          "data": {
            "text/plain": [
              "<Figure size 864x864 with 1 Axes>"
            ],
            "image/png": "[encoded data removed]"
          },
          "metadata": {}
        }
      ]
    },
    {
      "cell_type": "markdown",
      "source": [
        "United Airlines operates the highest number of Domestic Flights (76,855) departing from the Chicago O'Hare International Airport. It is followed by American Eagle Airlines and American Airlines. "
      ],
      "metadata": {
        "id": "Fgxt8O0Uzsys"
      }
    },
    {
      "cell_type": "markdown",
      "source": [
        "#### 5. What are the total number of domestic flight delays per airline for the Chicago Airport for the year 2019?"
      ],
      "metadata": {
        "id": "enTtHNMbx_WE"
      }
    },
    {
      "cell_type": "code",
      "source": [
        "plt.figure(figsize=(15, 10))\n",
        "df['DEP_DEL15_1'] = df.DEP_DEL15 == 1\n",
        "df.groupby('CARRIER_NAME').DEP_DEL15_1.sum().sort_values(ascending=False).plot.bar()\n",
        "plt.title('TOTAL DELAYED FLIGHTS BY AIRLINE', fontsize=20)\n",
        "plt.xlabel('AIRLINE NAME', fontsize=16)\n",
        "plt.ylabel('NUMBRE OF FLIGHTS', fontsize=16)\n",
        "plt.rc('xtick',labelsize=10)\n",
        "plt.rc('ytick',labelsize=10)\n",
        "plt.show()"
      ],
      "metadata": {
        "id": "zinatgrOxrf1",
        "colab": {
          "base_uri": "https://localhost:8080/",
          "height": 742
        },
        "outputId": "2cba8fe9-1faf-4393-e3ce-05587d7bcf04"
      },
      "execution_count": null,
      "outputs": [
        {
          "output_type": "display_data",
          "data": {
            "text/plain": [
              "<Figure size 1080x720 with 1 Axes>"
            ],
            "image/png": "[encoded data removed]"
          },
          "metadata": {}
        }
      ]
    },
    {
      "cell_type": "markdown",
      "source": [
        "United Airlines operates the maximum number of flights departing from Chicago Airport, and also has the maximum number of delayed flights. \n",
        "On the other hand, American Eagle Airlines, which operates the second highest maximum flights, has a much lower number of flight delays. "
      ],
      "metadata": {
        "id": "Akc5dmFo1q9M"
      }
    },
    {
      "cell_type": "markdown",
      "source": [
        "<a name=\"6\"></a>\n",
        "##[Sampling and Splitting the Data](#6)"
      ],
      "metadata": {
        "id": "xF8mVvlQXEjy"
      }
    },
    {
      "cell_type": "markdown",
      "source": [
        "We will further narrow our dataset and take a random sample of 10,000 trips to work with from Chicago O'hare Airport. The reason we are doing is for simplicity sake and to run our machine learning models. In the future, we can scale up to the original dataset. We will then split the dataset with a standard 80-20 train-test split. Our main objective to take this decision is to make the best model possible with our current dataset. However, for future implication we do want to run the model on a much bigger dataset and scale it further. This could give us a better prediction score with feature selection and regularization of the model. "
      ],
      "metadata": {
        "id": "oDdmbJnadQVz"
      }
    },
    {
      "cell_type": "code",
      "source": [
        "df = pd.DataFrame(df)\n",
        "df = df.sample(n = 10000)\n",
        "df.head()"
      ],
      "metadata": {
        "id": "WYQTGjkaayiW",
        "colab": {
          "base_uri": "https://localhost:8080/",
          "height": 404
        },
        "outputId": "4cbae68e-19d3-42f0-a0bd-770acb19ee72"
      },
      "execution_count": null,
      "outputs": [
        {
          "output_type": "execute_result",
          "data": {
            "text/plain": [
              "         MONTH  DAY_OF_WEEK  DEP_DEL15 DEP_TIME_BLK  DISTANCE_GROUP  \\\n",
              "5960710     12            5          0    1100-1159               1   \n",
              "1197537      3            4          0    1400-1459               3   \n",
              "1161766      3            5          0    1500-1559               7   \n",
              "5015796     10            5          0    2100-2159               7   \n",
              "2064245      5            5          0    1300-1359               2   \n",
              "\n",
              "         SEGMENT_NUMBER  CONCURRENT_FLIGHTS  NUMBER_OF_SEATS  \\\n",
              "5960710               5                  53               50   \n",
              "1197537               3                  60              129   \n",
              "1161766               3                  62              173   \n",
              "5015796               5                  42              178   \n",
              "2064245               4                  54               50   \n",
              "\n",
              "                         CARRIER_NAME  AIRPORT_FLIGHTS_MONTH  ...  PLANE_AGE  \\\n",
              "5960710         SkyWest Airlines Inc.                  27188  ...         16   \n",
              "1197537   Atlantic Southeast Airlines                  27137  ...         11   \n",
              "1161766         United Air Lines Inc.                  27137  ...          6   \n",
              "5015796              Spirit Air Lines                  29960  ...          4   \n",
              "2064245  American Eagle Airlines Inc.                  28802  ...         14   \n",
              "\n",
              "                    DEPARTING_AIRPORT  LATITUDE  LONGITUDE  \\\n",
              "5960710  Chicago O'Hare International    41.978    -87.906   \n",
              "1197537  Chicago O'Hare International    41.978    -87.906   \n",
              "1161766  Chicago O'Hare International    41.978    -87.906   \n",
              "5015796  Chicago O'Hare International    41.978    -87.906   \n",
              "2064245  Chicago O'Hare International    41.978    -87.906   \n",
              "\n",
              "                                  PREVIOUS_AIRPORT  PRCP  SNOW SNWD  TMAX  \\\n",
              "5960710               Raleigh-Durham International   0.0   0.0  0.0  41.0   \n",
              "1197537                    Rochester Monroe County   0.0   0.0  0.0  65.0   \n",
              "1161766                    Stapleton International   0.0   0.1  0.0  39.0   \n",
              "5015796  Louis Armstrong New Orleans International   0.0   0.0  0.0  58.0   \n",
              "2064245                          Central Wisconsin   0.0   0.0  0.0  81.0   \n",
              "\n",
              "          AWND  \n",
              "5960710   5.59  \n",
              "1197537  12.08  \n",
              "1161766   5.37  \n",
              "5015796  10.96  \n",
              "2064245   9.40  \n",
              "\n",
              "[5 rows x 26 columns]"
            ],
            "text/html": [
              "\n",
              "  <div id=\"df-afb534db-c4d4-4cd9-a6a5-bc10a4feae7c\">\n",
              "    <div class=\"colab-df-container\">\n",
              "      <div>\n",
              "<style scoped>\n",
              "    .dataframe tbody tr th:only-of-type {\n",
              "        vertical-align: middle;\n",
              "    }\n",
              "\n",
              "    .dataframe tbody tr th {\n",
              "        vertical-align: top;\n",
              "    }\n",
              "\n",
              "    .dataframe thead th {\n",
              "        text-align: right;\n",
              "    }\n",
              "</style>\n",
              "<table border=\"1\" class=\"dataframe\">\n",
              "  <thead>\n",
              "    <tr style=\"text-align: right;\">\n",
              "      <th></th>\n",
              "      <th>MONTH</th>\n",
              "      <th>DAY_OF_WEEK</th>\n",
              "      <th>DEP_DEL15</th>\n",
              "      <th>DEP_TIME_BLK</th>\n",
              "      <th>DISTANCE_GROUP</th>\n",
              "      <th>SEGMENT_NUMBER</th>\n",
              "      <th>CONCURRENT_FLIGHTS</th>\n",
              "      <th>NUMBER_OF_SEATS</th>\n",
              "      <th>CARRIER_NAME</th>\n",
              "      <th>AIRPORT_FLIGHTS_MONTH</th>\n",
              "      <th>...</th>\n",
              "      <th>PLANE_AGE</th>\n",
              "      <th>DEPARTING_AIRPORT</th>\n",
              "      <th>LATITUDE</th>\n",
              "      <th>LONGITUDE</th>\n",
              "      <th>PREVIOUS_AIRPORT</th>\n",
              "      <th>PRCP</th>\n",
              "      <th>SNOW</th>\n",
              "      <th>SNWD</th>\n",
              "      <th>TMAX</th>\n",
              "      <th>AWND</th>\n",
              "    </tr>\n",
              "  </thead>\n",
              "  <tbody>\n",
              "    <tr>\n",
              "      <th>5960710</th>\n",
              "      <td>12</td>\n",
              "      <td>5</td>\n",
              "      <td>0</td>\n",
              "      <td>1100-1159</td>\n",
              "      <td>1</td>\n",
              "      <td>5</td>\n",
              "      <td>53</td>\n",
              "      <td>50</td>\n",
              "      <td>SkyWest Airlines Inc.</td>\n",
              "      <td>27188</td>\n",
              "      <td>...</td>\n",
              "      <td>16</td>\n",
              "      <td>Chicago O'Hare International</td>\n",
              "      <td>41.978</td>\n",
              "      <td>-87.906</td>\n",
              "      <td>Raleigh-Durham International</td>\n",
              "      <td>0.0</td>\n",
              "      <td>0.0</td>\n",
              "      <td>0.0</td>\n",
              "      <td>41.0</td>\n",
              "      <td>5.59</td>\n",
              "    </tr>\n",
              "    <tr>\n",
              "      <th>1197537</th>\n",
              "      <td>3</td>\n",
              "      <td>4</td>\n",
              "      <td>0</td>\n",
              "      <td>1400-1459</td>\n",
              "      <td>3</td>\n",
              "      <td>3</td>\n",
              "      <td>60</td>\n",
              "      <td>129</td>\n",
              "      <td>Atlantic Southeast Airlines</td>\n",
              "      <td>27137</td>\n",
              "      <td>...</td>\n",
              "      <td>11</td>\n",
              "      <td>Chicago O'Hare International</td>\n",
              "      <td>41.978</td>\n",
              "      <td>-87.906</td>\n",
              "      <td>Rochester Monroe County</td>\n",
              "      <td>0.0</td>\n",
              "      <td>0.0</td>\n",
              "      <td>0.0</td>\n",
              "      <td>65.0</td>\n",
              "      <td>12.08</td>\n",
              "    </tr>\n",
              "    <tr>\n",
              "      <th>1161766</th>\n",
              "      <td>3</td>\n",
              "      <td>5</td>\n",
              "      <td>0</td>\n",
              "      <td>1500-1559</td>\n",
              "      <td>7</td>\n",
              "      <td>3</td>\n",
              "      <td>62</td>\n",
              "      <td>173</td>\n",
              "      <td>United Air Lines Inc.</td>\n",
              "      <td>27137</td>\n",
              "      <td>...</td>\n",
              "      <td>6</td>\n",
              "      <td>Chicago O'Hare International</td>\n",
              "      <td>41.978</td>\n",
              "      <td>-87.906</td>\n",
              "      <td>Stapleton International</td>\n",
              "      <td>0.0</td>\n",
              "      <td>0.1</td>\n",
              "      <td>0.0</td>\n",
              "      <td>39.0</td>\n",
              "      <td>5.37</td>\n",
              "    </tr>\n",
              "    <tr>\n",
              "      <th>5015796</th>\n",
              "      <td>10</td>\n",
              "      <td>5</td>\n",
              "      <td>0</td>\n",
              "      <td>2100-2159</td>\n",
              "      <td>7</td>\n",
              "      <td>5</td>\n",
              "      <td>42</td>\n",
              "      <td>178</td>\n",
              "      <td>Spirit Air Lines</td>\n",
              "      <td>29960</td>\n",
              "      <td>...</td>\n",
              "      <td>4</td>\n",
              "      <td>Chicago O'Hare International</td>\n",
              "      <td>41.978</td>\n",
              "      <td>-87.906</td>\n",
              "      <td>Louis Armstrong New Orleans International</td>\n",
              "      <td>0.0</td>\n",
              "      <td>0.0</td>\n",
              "      <td>0.0</td>\n",
              "      <td>58.0</td>\n",
              "      <td>10.96</td>\n",
              "    </tr>\n",
              "    <tr>\n",
              "      <th>2064245</th>\n",
              "      <td>5</td>\n",
              "      <td>5</td>\n",
              "      <td>0</td>\n",
              "      <td>1300-1359</td>\n",
              "      <td>2</td>\n",
              "      <td>4</td>\n",
              "      <td>54</td>\n",
              "      <td>50</td>\n",
              "      <td>American Eagle Airlines Inc.</td>\n",
              "      <td>28802</td>\n",
              "      <td>...</td>\n",
              "      <td>14</td>\n",
              "      <td>Chicago O'Hare International</td>\n",
              "      <td>41.978</td>\n",
              "      <td>-87.906</td>\n",
              "      <td>Central Wisconsin</td>\n",
              "      <td>0.0</td>\n",
              "      <td>0.0</td>\n",
              "      <td>0.0</td>\n",
              "      <td>81.0</td>\n",
              "      <td>9.40</td>\n",
              "    </tr>\n",
              "  </tbody>\n",
              "</table>\n",
              "<p>5 rows × 26 columns</p>\n",
              "</div>\n",
              "      <button class=\"colab-df-convert\" onclick=\"convertToInteractive('df-afb534db-c4d4-4cd9-a6a5-bc10a4feae7c')\"\n",
              "              title=\"Convert this dataframe to an interactive table.\"\n",
              "              style=\"display:none;\">\n",
              "        \n",
              "  <svg xmlns=\"http://www.w3.org/2000/svg\" height=\"24px\"viewBox=\"0 0 24 24\"\n",
              "       width=\"24px\">\n",
              "    <path d=\"M0 0h24v24H0V0z\" fill=\"none\"/>\n",
              "    <path d=\"M18.56 5.44l.94 2.06.94-2.06 2.06-.94-2.06-.94-.94-2.06-.94 2.06-2.06.94zm-11 1L8.5 8.5l.94-2.06 2.06-.94-2.06-.94L8.5 2.5l-.94 2.06-2.06.94zm10 10l.94 2.06.94-2.06 2.06-.94-2.06-.94-.94-2.06-.94 2.06-2.06.94z\"/><path d=\"M17.41 7.96l-1.37-1.37c-.4-.4-.92-.59-1.43-.59-.52 0-1.04.2-1.43.59L10.3 9.45l-7.72 7.72c-.78.78-.78 2.05 0 2.83L4 21.41c.39.39.9.59 1.41.59.51 0 1.02-.2 1.41-.59l7.78-7.78 2.81-2.81c.8-.78.8-2.07 0-2.86zM5.41 20L4 18.59l7.72-7.72 1.47 1.35L5.41 20z\"/>\n",
              "  </svg>\n",
              "      </button>\n",
              "      \n",
              "  <style>\n",
              "    .colab-df-container {\n",
              "      display:flex;\n",
              "      flex-wrap:wrap;\n",
              "      gap: 12px;\n",
              "    }\n",
              "\n",
              "    .colab-df-convert {\n",
              "      background-color: #E8F0FE;\n",
              "      border: none;\n",
              "      border-radius: 50%;\n",
              "      cursor: pointer;\n",
              "      display: none;\n",
              "      fill: #1967D2;\n",
              "      height: 32px;\n",
              "      padding: 0 0 0 0;\n",
              "      width: 32px;\n",
              "    }\n",
              "\n",
              "    .colab-df-convert:hover {\n",
              "      background-color: #E2EBFA;\n",
              "      box-shadow: 0px 1px 2px rgba(60, 64, 67, 0.3), 0px 1px 3px 1px rgba(60, 64, 67, 0.15);\n",
              "      fill: #174EA6;\n",
              "    }\n",
              "\n",
              "    [theme=dark] .colab-df-convert {\n",
              "      background-color: #3B4455;\n",
              "      fill: #D2E3FC;\n",
              "    }\n",
              "\n",
              "    [theme=dark] .colab-df-convert:hover {\n",
              "      background-color: #434B5C;\n",
              "      box-shadow: 0px 1px 3px 1px rgba(0, 0, 0, 0.15);\n",
              "      filter: drop-shadow(0px 1px 2px rgba(0, 0, 0, 0.3));\n",
              "      fill: #FFFFFF;\n",
              "    }\n",
              "  </style>\n",
              "\n",
              "      <script>\n",
              "        const buttonEl =\n",
              "          document.querySelector('#df-afb534db-c4d4-4cd9-a6a5-bc10a4feae7c button.colab-df-convert');\n",
              "        buttonEl.style.display =\n",
              "          google.colab.kernel.accessAllowed ? 'block' : 'none';\n",
              "\n",
              "        async function convertToInteractive(key) {\n",
              "          const element = document.querySelector('#df-afb534db-c4d4-4cd9-a6a5-bc10a4feae7c');\n",
              "          const dataTable =\n",
              "            await google.colab.kernel.invokeFunction('convertToInteractive',\n",
              "                                                     [key], {});\n",
              "          if (!dataTable) return;\n",
              "\n",
              "          const docLinkHtml = 'Like what you see? Visit the ' +\n",
              "            '<a target=\"_blank\" href=https://colab.research.google.com/notebooks/data_table.ipynb>data table notebook</a>'\n",
              "            + ' to learn more about interactive tables.';\n",
              "          element.innerHTML = '';\n",
              "          dataTable['output_type'] = 'display_data';\n",
              "          await google.colab.output.renderOutput(dataTable, element);\n",
              "          const docLink = document.createElement('div');\n",
              "          docLink.innerHTML = docLinkHtml;\n",
              "          element.appendChild(docLink);\n",
              "        }\n",
              "      </script>\n",
              "    </div>\n",
              "  </div>\n",
              "  "
            ]
          },
          "metadata": {},
          "execution_count": 41
        }
      ]
    },
    {
      "cell_type": "code",
      "source": [
        "X = df.drop(\"DEP_DEL15\", axis=1)\n",
        "y = df[\"DEP_DEL15\"]"
      ],
      "metadata": {
        "id": "Fqrw3dYj2e7D"
      },
      "execution_count": null,
      "outputs": []
    },
    {
      "cell_type": "code",
      "source": [
        "train_X, test_X, train_y, test_y = train_test_split(X, y, test_size = .2, random_state=0)"
      ],
      "metadata": {
        "id": "Q8Zr8C5wiN2p"
      },
      "execution_count": null,
      "outputs": []
    },
    {
      "cell_type": "markdown",
      "source": [
        "<a name=\"3\"></a>\n",
        "\n",
        "##[Final Pipeline](#3)"
      ],
      "metadata": {
        "id": "yNiN-9JetRY_"
      }
    },
    {
      "cell_type": "markdown",
      "source": [
        "Now let's build a pipeline to preprocess the numerical attributes using standardcalar() and categorical attributes using onehotencoder(). We use SimpleImputer() to scale it to any dataset that might contain null values in the future production stage. "
      ],
      "metadata": {
        "id": "o0KBKexPlBTL"
      }
    },
    {
      "cell_type": "code",
      "source": [
        "num_pipeline = Pipeline([\n",
        "        (\"imputer\", SimpleImputer(strategy=\"median\")),\n",
        "        (\"scaler\", StandardScaler())\n",
        "    ])"
      ],
      "metadata": {
        "id": "-uM86lG3ssJN"
      },
      "execution_count": null,
      "outputs": []
    },
    {
      "cell_type": "code",
      "source": [
        "from sklearn.preprocessing import OrdinalEncoder, OneHotEncoder\n",
        "cat_pipeline = Pipeline([\n",
        "        (\"imputer\", SimpleImputer(strategy=\"most_frequent\")),\n",
        "        (\"cat_encoder\", OneHotEncoder(sparse=False, drop=\"first\"))\n",
        "    ])"
      ],
      "metadata": {
        "id": "YTmjTpg4suJN"
      },
      "execution_count": null,
      "outputs": []
    },
    {
      "cell_type": "code",
      "source": [
        "from sklearn import set_config\n",
        "set_config(display='diagram')\n",
        "\n",
        "num_attribs = [\"NUMBER_OF_SEATS\", \"PLANE_AGE\", \"PRCP\",\t\"SNOW\",\t\"SNWD\",\t\"TMAX\",\t\"AWND\", \"FLT_ATTENDANTS_PER_PASS\", \"GROUND_SERV_PER_PASS\"]\n",
        "cat_attribs = [\"DEP_TIME_BLK\", \"DAY_OF_WEEK\", \"DISTANCE_GROUP\", \"SEGMENT_NUMBER\", \"MONTH\"]\n",
        "SimpleImputer.get_feature_names_out = StandardScaler.get_feature_names_out\n",
        "\n",
        "preprocess_pipeline = ColumnTransformer([\n",
        "    ('num', num_pipeline, num_attribs),\n",
        "    ('cat', cat_pipeline, cat_attribs)\n",
        "])\n",
        "\n",
        "preprocess_pipeline"
      ],
      "metadata": {
        "id": "ptkJNgoysvsv",
        "colab": {
          "base_uri": "https://localhost:8080/",
          "height": 152
        },
        "outputId": "90c767bb-b40e-47b5-c0b0-eeeb86c27086"
      },
      "execution_count": null,
      "outputs": [
        {
          "output_type": "execute_result",
          "data": {
            "text/plain": [
              "ColumnTransformer(transformers=[('num',\n",
              "                                 Pipeline(steps=[('imputer',\n",
              "                                                  SimpleImputer(strategy='median')),\n",
              "                                                 ('scaler', StandardScaler())]),\n",
              "                                 ['NUMBER_OF_SEATS', 'PLANE_AGE', 'PRCP',\n",
              "                                  'SNOW', 'SNWD', 'TMAX', 'AWND',\n",
              "                                  'FLT_ATTENDANTS_PER_PASS',\n",
              "                                  'GROUND_SERV_PER_PASS']),\n",
              "                                ('cat',\n",
              "                                 Pipeline(steps=[('imputer',\n",
              "                                                  SimpleImputer(strategy='most_frequent')),\n",
              "                                                 ('cat_encoder',\n",
              "                                                  OneHotEncoder(drop='first',\n",
              "                                                                sparse=False))]),\n",
              "                                 ['DEP_TIME_BLK', 'DAY_OF_WEEK',\n",
              "                                  'DISTANCE_GROUP', 'SEGMENT_NUMBER',\n",
              "                                  'MONTH'])])"
            ],
            "text/html": [
              "<style>#sk-f358861b-1848-47c4-9184-dc1a3c0d39ac {color: black;background-color: white;}#sk-f358861b-1848-47c4-9184-dc1a3c0d39ac pre{padding: 0;}#sk-f358861b-1848-47c4-9184-dc1a3c0d39ac div.sk-toggleable {background-color: white;}#sk-f358861b-1848-47c4-9184-dc1a3c0d39ac label.sk-toggleable__label {cursor: pointer;display: block;width: 100%;margin-bottom: 0;padding: 0.3em;box-sizing: border-box;text-align: center;}#sk-f358861b-1848-47c4-9184-dc1a3c0d39ac label.sk-toggleable__label-arrow:before {content: \"▸\";float: left;margin-right: 0.25em;color: #696969;}#sk-f358861b-1848-47c4-9184-dc1a3c0d39ac label.sk-toggleable__label-arrow:hover:before {color: black;}#sk-f358861b-1848-47c4-9184-dc1a3c0d39ac div.sk-estimator:hover label.sk-toggleable__label-arrow:before {color: black;}#sk-f358861b-1848-47c4-9184-dc1a3c0d39ac div.sk-toggleable__content {max-height: 0;max-width: 0;overflow: hidden;text-align: left;background-color: #f0f8ff;}#sk-f358861b-1848-47c4-9184-dc1a3c0d39ac div.sk-toggleable__content pre {margin: 0.2em;color: black;border-radius: 0.25em;background-color: #f0f8ff;}#sk-f358861b-1848-47c4-9184-dc1a3c0d39ac input.sk-toggleable__control:checked~div.sk-toggleable__content {max-height: 200px;max-width: 100%;overflow: auto;}#sk-f358861b-1848-47c4-9184-dc1a3c0d39ac input.sk-toggleable__control:checked~label.sk-toggleable__label-arrow:before {content: \"▾\";}#sk-f358861b-1848-47c4-9184-dc1a3c0d39ac div.sk-estimator input.sk-toggleable__control:checked~label.sk-toggleable__label {background-color: #d4ebff;}#sk-f358861b-1848-47c4-9184-dc1a3c0d39ac div.sk-label input.sk-toggleable__control:checked~label.sk-toggleable__label {background-color: #d4ebff;}#sk-f358861b-1848-47c4-9184-dc1a3c0d39ac input.sk-hidden--visually {border: 0;clip: rect(1px 1px 1px 1px);clip: rect(1px, 1px, 1px, 1px);height: 1px;margin: -1px;overflow: hidden;padding: 0;position: absolute;width: 1px;}#sk-f358861b-1848-47c4-9184-dc1a3c0d39ac div.sk-estimator {font-family: monospace;background-color: #f0f8ff;border: 1px dotted black;border-radius: 0.25em;box-sizing: border-box;margin-bottom: 0.5em;}#sk-f358861b-1848-47c4-9184-dc1a3c0d39ac div.sk-estimator:hover {background-color: #d4ebff;}#sk-f358861b-1848-47c4-9184-dc1a3c0d39ac div.sk-parallel-item::after {content: \"\";width: 100%;border-bottom: 1px solid gray;flex-grow: 1;}#sk-f358861b-1848-47c4-9184-dc1a3c0d39ac div.sk-label:hover label.sk-toggleable__label {background-color: #d4ebff;}#sk-f358861b-1848-47c4-9184-dc1a3c0d39ac div.sk-serial::before {content: \"\";position: absolute;border-left: 1px solid gray;box-sizing: border-box;top: 2em;bottom: 0;left: 50%;}#sk-f358861b-1848-47c4-9184-dc1a3c0d39ac div.sk-serial {display: flex;flex-direction: column;align-items: center;background-color: white;padding-right: 0.2em;padding-left: 0.2em;}#sk-f358861b-1848-47c4-9184-dc1a3c0d39ac div.sk-item {z-index: 1;}#sk-f358861b-1848-47c4-9184-dc1a3c0d39ac div.sk-parallel {display: flex;align-items: stretch;justify-content: center;background-color: white;}#sk-f358861b-1848-47c4-9184-dc1a3c0d39ac div.sk-parallel::before {content: \"\";position: absolute;border-left: 1px solid gray;box-sizing: border-box;top: 2em;bottom: 0;left: 50%;}#sk-f358861b-1848-47c4-9184-dc1a3c0d39ac div.sk-parallel-item {display: flex;flex-direction: column;position: relative;background-color: white;}#sk-f358861b-1848-47c4-9184-dc1a3c0d39ac div.sk-parallel-item:first-child::after {align-self: flex-end;width: 50%;}#sk-f358861b-1848-47c4-9184-dc1a3c0d39ac div.sk-parallel-item:last-child::after {align-self: flex-start;width: 50%;}#sk-f358861b-1848-47c4-9184-dc1a3c0d39ac div.sk-parallel-item:only-child::after {width: 0;}#sk-f358861b-1848-47c4-9184-dc1a3c0d39ac div.sk-dashed-wrapped {border: 1px dashed gray;margin: 0 0.4em 0.5em 0.4em;box-sizing: border-box;padding-bottom: 0.4em;background-color: white;position: relative;}#sk-f358861b-1848-47c4-9184-dc1a3c0d39ac div.sk-label label {font-family: monospace;font-weight: bold;background-color: white;display: inline-block;line-height: 1.2em;}#sk-f358861b-1848-47c4-9184-dc1a3c0d39ac div.sk-label-container {position: relative;z-index: 2;text-align: center;}#sk-f358861b-1848-47c4-9184-dc1a3c0d39ac div.sk-container {/* jupyter's `normalize.less` sets `[hidden] { display: none; }` but bootstrap.min.css set `[hidden] { display: none !important; }` so we also need the `!important` here to be able to override the default hidden behavior on the sphinx rendered scikit-learn.org. See: https://github.com/scikit-learn/scikit-learn/issues/21755 */display: inline-block !important;position: relative;}#sk-f358861b-1848-47c4-9184-dc1a3c0d39ac div.sk-text-repr-fallback {display: none;}</style><div id=\"sk-f358861b-1848-47c4-9184-dc1a3c0d39ac\" class=\"sk-top-container\"><div class=\"sk-text-repr-fallback\"><pre>ColumnTransformer(transformers=[(&#x27;num&#x27;,\n",
              "                                 Pipeline(steps=[(&#x27;imputer&#x27;,\n",
              "                                                  SimpleImputer(strategy=&#x27;median&#x27;)),\n",
              "                                                 (&#x27;scaler&#x27;, StandardScaler())]),\n",
              "                                 [&#x27;NUMBER_OF_SEATS&#x27;, &#x27;PLANE_AGE&#x27;, &#x27;PRCP&#x27;,\n",
              "                                  &#x27;SNOW&#x27;, &#x27;SNWD&#x27;, &#x27;TMAX&#x27;, &#x27;AWND&#x27;,\n",
              "                                  &#x27;FLT_ATTENDANTS_PER_PASS&#x27;,\n",
              "                                  &#x27;GROUND_SERV_PER_PASS&#x27;]),\n",
              "                                (&#x27;cat&#x27;,\n",
              "                                 Pipeline(steps=[(&#x27;imputer&#x27;,\n",
              "                                                  SimpleImputer(strategy=&#x27;most_frequent&#x27;)),\n",
              "                                                 (&#x27;cat_encoder&#x27;,\n",
              "                                                  OneHotEncoder(drop=&#x27;first&#x27;,\n",
              "                                                                sparse=False))]),\n",
              "                                 [&#x27;DEP_TIME_BLK&#x27;, &#x27;DAY_OF_WEEK&#x27;,\n",
              "                                  &#x27;DISTANCE_GROUP&#x27;, &#x27;SEGMENT_NUMBER&#x27;,\n",
              "                                  &#x27;MONTH&#x27;])])</pre><b>Please rerun this cell to show the HTML repr or trust the notebook.</b></div><div class=\"sk-container\" hidden><div class=\"sk-item sk-dashed-wrapped\"><div class=\"sk-label-container\"><div class=\"sk-label sk-toggleable\"><input class=\"sk-toggleable__control sk-hidden--visually\" id=\"b9663d0c-c54b-4625-9775-8599a751cf8e\" type=\"checkbox\" ><label for=\"b9663d0c-c54b-4625-9775-8599a751cf8e\" class=\"sk-toggleable__label sk-toggleable__label-arrow\">ColumnTransformer</label><div class=\"sk-toggleable__content\"><pre>ColumnTransformer(transformers=[(&#x27;num&#x27;,\n",
              "                                 Pipeline(steps=[(&#x27;imputer&#x27;,\n",
              "                                                  SimpleImputer(strategy=&#x27;median&#x27;)),\n",
              "                                                 (&#x27;scaler&#x27;, StandardScaler())]),\n",
              "                                 [&#x27;NUMBER_OF_SEATS&#x27;, &#x27;PLANE_AGE&#x27;, &#x27;PRCP&#x27;,\n",
              "                                  &#x27;SNOW&#x27;, &#x27;SNWD&#x27;, &#x27;TMAX&#x27;, &#x27;AWND&#x27;,\n",
              "                                  &#x27;FLT_ATTENDANTS_PER_PASS&#x27;,\n",
              "                                  &#x27;GROUND_SERV_PER_PASS&#x27;]),\n",
              "                                (&#x27;cat&#x27;,\n",
              "                                 Pipeline(steps=[(&#x27;imputer&#x27;,\n",
              "                                                  SimpleImputer(strategy=&#x27;most_frequent&#x27;)),\n",
              "                                                 (&#x27;cat_encoder&#x27;,\n",
              "                                                  OneHotEncoder(drop=&#x27;first&#x27;,\n",
              "                                                                sparse=False))]),\n",
              "                                 [&#x27;DEP_TIME_BLK&#x27;, &#x27;DAY_OF_WEEK&#x27;,\n",
              "                                  &#x27;DISTANCE_GROUP&#x27;, &#x27;SEGMENT_NUMBER&#x27;,\n",
              "                                  &#x27;MONTH&#x27;])])</pre></div></div></div><div class=\"sk-parallel\"><div class=\"sk-parallel-item\"><div class=\"sk-item\"><div class=\"sk-label-container\"><div class=\"sk-label sk-toggleable\"><input class=\"sk-toggleable__control sk-hidden--visually\" id=\"98745613-be16-4e9b-9e52-30f95714ac7b\" type=\"checkbox\" ><label for=\"98745613-be16-4e9b-9e52-30f95714ac7b\" class=\"sk-toggleable__label sk-toggleable__label-arrow\">num</label><div class=\"sk-toggleable__content\"><pre>[&#x27;NUMBER_OF_SEATS&#x27;, &#x27;PLANE_AGE&#x27;, &#x27;PRCP&#x27;, &#x27;SNOW&#x27;, &#x27;SNWD&#x27;, &#x27;TMAX&#x27;, &#x27;AWND&#x27;, &#x27;FLT_ATTENDANTS_PER_PASS&#x27;, &#x27;GROUND_SERV_PER_PASS&#x27;]</pre></div></div></div><div class=\"sk-serial\"><div class=\"sk-item\"><div class=\"sk-serial\"><div class=\"sk-item\"><div class=\"sk-estimator sk-toggleable\"><input class=\"sk-toggleable__control sk-hidden--visually\" id=\"65e10764-4c8a-4204-8ef9-f6a4612ab6cd\" type=\"checkbox\" ><label for=\"65e10764-4c8a-4204-8ef9-f6a4612ab6cd\" class=\"sk-toggleable__label sk-toggleable__label-arrow\">SimpleImputer</label><div class=\"sk-toggleable__content\"><pre>SimpleImputer(strategy=&#x27;median&#x27;)</pre></div></div></div><div class=\"sk-item\"><div class=\"sk-estimator sk-toggleable\"><input class=\"sk-toggleable__control sk-hidden--visually\" id=\"d03d9b29-10a2-4832-817c-cde1d0bc7eac\" type=\"checkbox\" ><label for=\"d03d9b29-10a2-4832-817c-cde1d0bc7eac\" class=\"sk-toggleable__label sk-toggleable__label-arrow\">StandardScaler</label><div class=\"sk-toggleable__content\"><pre>StandardScaler()</pre></div></div></div></div></div></div></div></div><div class=\"sk-parallel-item\"><div class=\"sk-item\"><div class=\"sk-label-container\"><div class=\"sk-label sk-toggleable\"><input class=\"sk-toggleable__control sk-hidden--visually\" id=\"f443e5fc-8d26-43a3-ae0b-f8eec6486312\" type=\"checkbox\" ><label for=\"f443e5fc-8d26-43a3-ae0b-f8eec6486312\" class=\"sk-toggleable__label sk-toggleable__label-arrow\">cat</label><div class=\"sk-toggleable__content\"><pre>[&#x27;DEP_TIME_BLK&#x27;, &#x27;DAY_OF_WEEK&#x27;, &#x27;DISTANCE_GROUP&#x27;, &#x27;SEGMENT_NUMBER&#x27;, &#x27;MONTH&#x27;]</pre></div></div></div><div class=\"sk-serial\"><div class=\"sk-item\"><div class=\"sk-serial\"><div class=\"sk-item\"><div class=\"sk-estimator sk-toggleable\"><input class=\"sk-toggleable__control sk-hidden--visually\" id=\"beb5059b-a942-4e44-9b1c-5fc25ae80d15\" type=\"checkbox\" ><label for=\"beb5059b-a942-4e44-9b1c-5fc25ae80d15\" class=\"sk-toggleable__label sk-toggleable__label-arrow\">SimpleImputer</label><div class=\"sk-toggleable__content\"><pre>SimpleImputer(strategy=&#x27;most_frequent&#x27;)</pre></div></div></div><div class=\"sk-item\"><div class=\"sk-estimator sk-toggleable\"><input class=\"sk-toggleable__control sk-hidden--visually\" id=\"5bebb1cb-a4a8-4310-aa06-d50bc468b555\" type=\"checkbox\" ><label for=\"5bebb1cb-a4a8-4310-aa06-d50bc468b555\" class=\"sk-toggleable__label sk-toggleable__label-arrow\">OneHotEncoder</label><div class=\"sk-toggleable__content\"><pre>OneHotEncoder(drop=&#x27;first&#x27;, sparse=False)</pre></div></div></div></div></div></div></div></div></div></div></div></div>"
            ]
          },
          "metadata": {},
          "execution_count": 46
        }
      ]
    },
    {
      "cell_type": "code",
      "source": [
        "full_pipeline_xgb = make_pipeline(preprocess_pipeline, XGBClassifier(n_estimators=100, random_state=42))\n",
        "\n",
        "full_pipeline_xgb"
      ],
      "metadata": {
        "colab": {
          "base_uri": "https://localhost:8080/",
          "height": 227
        },
        "id": "d6nV3KZc2B8S",
        "outputId": "2573c651-2bd7-44d8-ebfb-ee964f8d29c0"
      },
      "execution_count": null,
      "outputs": [
        {
          "output_type": "execute_result",
          "data": {
            "text/plain": [
              "Pipeline(steps=[('columntransformer',\n",
              "                 ColumnTransformer(transformers=[('num',\n",
              "                                                  Pipeline(steps=[('imputer',\n",
              "                                                                   SimpleImputer(strategy='median')),\n",
              "                                                                  ('scaler',\n",
              "                                                                   StandardScaler())]),\n",
              "                                                  ['NUMBER_OF_SEATS',\n",
              "                                                   'PLANE_AGE', 'PRCP', 'SNOW',\n",
              "                                                   'SNWD', 'TMAX', 'AWND',\n",
              "                                                   'FLT_ATTENDANTS_PER_PASS',\n",
              "                                                   'GROUND_SERV_PER_PASS']),\n",
              "                                                 ('cat',\n",
              "                                                  Pipeline(steps=[('imputer',\n",
              "                                                                   SimpleImputer(strategy='most_frequent')),\n",
              "                                                                  ('cat_encoder',\n",
              "                                                                   OneHotEncoder(drop='first',\n",
              "                                                                                 sparse=False))]),\n",
              "                                                  ['DEP_TIME_BLK',\n",
              "                                                   'DAY_OF_WEEK',\n",
              "                                                   'DISTANCE_GROUP',\n",
              "                                                   'SEGMENT_NUMBER',\n",
              "                                                   'MONTH'])])),\n",
              "                ('xgbclassifier', XGBClassifier(random_state=42))])"
            ],
            "text/html": [
              "<style>#sk-39cd1695-baaa-46be-a9e7-16878ce360bc {color: black;background-color: white;}#sk-39cd1695-baaa-46be-a9e7-16878ce360bc pre{padding: 0;}#sk-39cd1695-baaa-46be-a9e7-16878ce360bc div.sk-toggleable {background-color: white;}#sk-39cd1695-baaa-46be-a9e7-16878ce360bc label.sk-toggleable__label {cursor: pointer;display: block;width: 100%;margin-bottom: 0;padding: 0.3em;box-sizing: border-box;text-align: center;}#sk-39cd1695-baaa-46be-a9e7-16878ce360bc label.sk-toggleable__label-arrow:before {content: \"▸\";float: left;margin-right: 0.25em;color: #696969;}#sk-39cd1695-baaa-46be-a9e7-16878ce360bc label.sk-toggleable__label-arrow:hover:before {color: black;}#sk-39cd1695-baaa-46be-a9e7-16878ce360bc div.sk-estimator:hover label.sk-toggleable__label-arrow:before {color: black;}#sk-39cd1695-baaa-46be-a9e7-16878ce360bc div.sk-toggleable__content {max-height: 0;max-width: 0;overflow: hidden;text-align: left;background-color: #f0f8ff;}#sk-39cd1695-baaa-46be-a9e7-16878ce360bc div.sk-toggleable__content pre {margin: 0.2em;color: black;border-radius: 0.25em;background-color: #f0f8ff;}#sk-39cd1695-baaa-46be-a9e7-16878ce360bc input.sk-toggleable__control:checked~div.sk-toggleable__content {max-height: 200px;max-width: 100%;overflow: auto;}#sk-39cd1695-baaa-46be-a9e7-16878ce360bc input.sk-toggleable__control:checked~label.sk-toggleable__label-arrow:before {content: \"▾\";}#sk-39cd1695-baaa-46be-a9e7-16878ce360bc div.sk-estimator input.sk-toggleable__control:checked~label.sk-toggleable__label {background-color: #d4ebff;}#sk-39cd1695-baaa-46be-a9e7-16878ce360bc div.sk-label input.sk-toggleable__control:checked~label.sk-toggleable__label {background-color: #d4ebff;}#sk-39cd1695-baaa-46be-a9e7-16878ce360bc input.sk-hidden--visually {border: 0;clip: rect(1px 1px 1px 1px);clip: rect(1px, 1px, 1px, 1px);height: 1px;margin: -1px;overflow: hidden;padding: 0;position: absolute;width: 1px;}#sk-39cd1695-baaa-46be-a9e7-16878ce360bc div.sk-estimator {font-family: monospace;background-color: #f0f8ff;border: 1px dotted black;border-radius: 0.25em;box-sizing: border-box;margin-bottom: 0.5em;}#sk-39cd1695-baaa-46be-a9e7-16878ce360bc div.sk-estimator:hover {background-color: #d4ebff;}#sk-39cd1695-baaa-46be-a9e7-16878ce360bc div.sk-parallel-item::after {content: \"\";width: 100%;border-bottom: 1px solid gray;flex-grow: 1;}#sk-39cd1695-baaa-46be-a9e7-16878ce360bc div.sk-label:hover label.sk-toggleable__label {background-color: #d4ebff;}#sk-39cd1695-baaa-46be-a9e7-16878ce360bc div.sk-serial::before {content: \"\";position: absolute;border-left: 1px solid gray;box-sizing: border-box;top: 2em;bottom: 0;left: 50%;}#sk-39cd1695-baaa-46be-a9e7-16878ce360bc div.sk-serial {display: flex;flex-direction: column;align-items: center;background-color: white;padding-right: 0.2em;padding-left: 0.2em;}#sk-39cd1695-baaa-46be-a9e7-16878ce360bc div.sk-item {z-index: 1;}#sk-39cd1695-baaa-46be-a9e7-16878ce360bc div.sk-parallel {display: flex;align-items: stretch;justify-content: center;background-color: white;}#sk-39cd1695-baaa-46be-a9e7-16878ce360bc div.sk-parallel::before {content: \"\";position: absolute;border-left: 1px solid gray;box-sizing: border-box;top: 2em;bottom: 0;left: 50%;}#sk-39cd1695-baaa-46be-a9e7-16878ce360bc div.sk-parallel-item {display: flex;flex-direction: column;position: relative;background-color: white;}#sk-39cd1695-baaa-46be-a9e7-16878ce360bc div.sk-parallel-item:first-child::after {align-self: flex-end;width: 50%;}#sk-39cd1695-baaa-46be-a9e7-16878ce360bc div.sk-parallel-item:last-child::after {align-self: flex-start;width: 50%;}#sk-39cd1695-baaa-46be-a9e7-16878ce360bc div.sk-parallel-item:only-child::after {width: 0;}#sk-39cd1695-baaa-46be-a9e7-16878ce360bc div.sk-dashed-wrapped {border: 1px dashed gray;margin: 0 0.4em 0.5em 0.4em;box-sizing: border-box;padding-bottom: 0.4em;background-color: white;position: relative;}#sk-39cd1695-baaa-46be-a9e7-16878ce360bc div.sk-label label {font-family: monospace;font-weight: bold;background-color: white;display: inline-block;line-height: 1.2em;}#sk-39cd1695-baaa-46be-a9e7-16878ce360bc div.sk-label-container {position: relative;z-index: 2;text-align: center;}#sk-39cd1695-baaa-46be-a9e7-16878ce360bc div.sk-container {/* jupyter's `normalize.less` sets `[hidden] { display: none; }` but bootstrap.min.css set `[hidden] { display: none !important; }` so we also need the `!important` here to be able to override the default hidden behavior on the sphinx rendered scikit-learn.org. See: https://github.com/scikit-learn/scikit-learn/issues/21755 */display: inline-block !important;position: relative;}#sk-39cd1695-baaa-46be-a9e7-16878ce360bc div.sk-text-repr-fallback {display: none;}</style><div id=\"sk-39cd1695-baaa-46be-a9e7-16878ce360bc\" class=\"sk-top-container\"><div class=\"sk-text-repr-fallback\"><pre>Pipeline(steps=[(&#x27;columntransformer&#x27;,\n",
              "                 ColumnTransformer(transformers=[(&#x27;num&#x27;,\n",
              "                                                  Pipeline(steps=[(&#x27;imputer&#x27;,\n",
              "                                                                   SimpleImputer(strategy=&#x27;median&#x27;)),\n",
              "                                                                  (&#x27;scaler&#x27;,\n",
              "                                                                   StandardScaler())]),\n",
              "                                                  [&#x27;NUMBER_OF_SEATS&#x27;,\n",
              "                                                   &#x27;PLANE_AGE&#x27;, &#x27;PRCP&#x27;, &#x27;SNOW&#x27;,\n",
              "                                                   &#x27;SNWD&#x27;, &#x27;TMAX&#x27;, &#x27;AWND&#x27;,\n",
              "                                                   &#x27;FLT_ATTENDANTS_PER_PASS&#x27;,\n",
              "                                                   &#x27;GROUND_SERV_PER_PASS&#x27;]),\n",
              "                                                 (&#x27;cat&#x27;,\n",
              "                                                  Pipeline(steps=[(&#x27;imputer&#x27;,\n",
              "                                                                   SimpleImputer(strategy=&#x27;most_frequent&#x27;)),\n",
              "                                                                  (&#x27;cat_encoder&#x27;,\n",
              "                                                                   OneHotEncoder(drop=&#x27;first&#x27;,\n",
              "                                                                                 sparse=False))]),\n",
              "                                                  [&#x27;DEP_TIME_BLK&#x27;,\n",
              "                                                   &#x27;DAY_OF_WEEK&#x27;,\n",
              "                                                   &#x27;DISTANCE_GROUP&#x27;,\n",
              "                                                   &#x27;SEGMENT_NUMBER&#x27;,\n",
              "                                                   &#x27;MONTH&#x27;])])),\n",
              "                (&#x27;xgbclassifier&#x27;, XGBClassifier(random_state=42))])</pre><b>Please rerun this cell to show the HTML repr or trust the notebook.</b></div><div class=\"sk-container\" hidden><div class=\"sk-item sk-dashed-wrapped\"><div class=\"sk-label-container\"><div class=\"sk-label sk-toggleable\"><input class=\"sk-toggleable__control sk-hidden--visually\" id=\"2d163e74-94ec-4337-8cf0-123f3e9aaea1\" type=\"checkbox\" ><label for=\"2d163e74-94ec-4337-8cf0-123f3e9aaea1\" class=\"sk-toggleable__label sk-toggleable__label-arrow\">Pipeline</label><div class=\"sk-toggleable__content\"><pre>Pipeline(steps=[(&#x27;columntransformer&#x27;,\n",
              "                 ColumnTransformer(transformers=[(&#x27;num&#x27;,\n",
              "                                                  Pipeline(steps=[(&#x27;imputer&#x27;,\n",
              "                                                                   SimpleImputer(strategy=&#x27;median&#x27;)),\n",
              "                                                                  (&#x27;scaler&#x27;,\n",
              "                                                                   StandardScaler())]),\n",
              "                                                  [&#x27;NUMBER_OF_SEATS&#x27;,\n",
              "                                                   &#x27;PLANE_AGE&#x27;, &#x27;PRCP&#x27;, &#x27;SNOW&#x27;,\n",
              "                                                   &#x27;SNWD&#x27;, &#x27;TMAX&#x27;, &#x27;AWND&#x27;,\n",
              "                                                   &#x27;FLT_ATTENDANTS_PER_PASS&#x27;,\n",
              "                                                   &#x27;GROUND_SERV_PER_PASS&#x27;]),\n",
              "                                                 (&#x27;cat&#x27;,\n",
              "                                                  Pipeline(steps=[(&#x27;imputer&#x27;,\n",
              "                                                                   SimpleImputer(strategy=&#x27;most_frequent&#x27;)),\n",
              "                                                                  (&#x27;cat_encoder&#x27;,\n",
              "                                                                   OneHotEncoder(drop=&#x27;first&#x27;,\n",
              "                                                                                 sparse=False))]),\n",
              "                                                  [&#x27;DEP_TIME_BLK&#x27;,\n",
              "                                                   &#x27;DAY_OF_WEEK&#x27;,\n",
              "                                                   &#x27;DISTANCE_GROUP&#x27;,\n",
              "                                                   &#x27;SEGMENT_NUMBER&#x27;,\n",
              "                                                   &#x27;MONTH&#x27;])])),\n",
              "                (&#x27;xgbclassifier&#x27;, XGBClassifier(random_state=42))])</pre></div></div></div><div class=\"sk-serial\"><div class=\"sk-item sk-dashed-wrapped\"><div class=\"sk-label-container\"><div class=\"sk-label sk-toggleable\"><input class=\"sk-toggleable__control sk-hidden--visually\" id=\"9ea49483-6024-4261-9443-0ea548df4582\" type=\"checkbox\" ><label for=\"9ea49483-6024-4261-9443-0ea548df4582\" class=\"sk-toggleable__label sk-toggleable__label-arrow\">columntransformer: ColumnTransformer</label><div class=\"sk-toggleable__content\"><pre>ColumnTransformer(transformers=[(&#x27;num&#x27;,\n",
              "                                 Pipeline(steps=[(&#x27;imputer&#x27;,\n",
              "                                                  SimpleImputer(strategy=&#x27;median&#x27;)),\n",
              "                                                 (&#x27;scaler&#x27;, StandardScaler())]),\n",
              "                                 [&#x27;NUMBER_OF_SEATS&#x27;, &#x27;PLANE_AGE&#x27;, &#x27;PRCP&#x27;,\n",
              "                                  &#x27;SNOW&#x27;, &#x27;SNWD&#x27;, &#x27;TMAX&#x27;, &#x27;AWND&#x27;,\n",
              "                                  &#x27;FLT_ATTENDANTS_PER_PASS&#x27;,\n",
              "                                  &#x27;GROUND_SERV_PER_PASS&#x27;]),\n",
              "                                (&#x27;cat&#x27;,\n",
              "                                 Pipeline(steps=[(&#x27;imputer&#x27;,\n",
              "                                                  SimpleImputer(strategy=&#x27;most_frequent&#x27;)),\n",
              "                                                 (&#x27;cat_encoder&#x27;,\n",
              "                                                  OneHotEncoder(drop=&#x27;first&#x27;,\n",
              "                                                                sparse=False))]),\n",
              "                                 [&#x27;DEP_TIME_BLK&#x27;, &#x27;DAY_OF_WEEK&#x27;,\n",
              "                                  &#x27;DISTANCE_GROUP&#x27;, &#x27;SEGMENT_NUMBER&#x27;,\n",
              "                                  &#x27;MONTH&#x27;])])</pre></div></div></div><div class=\"sk-parallel\"><div class=\"sk-parallel-item\"><div class=\"sk-item\"><div class=\"sk-label-container\"><div class=\"sk-label sk-toggleable\"><input class=\"sk-toggleable__control sk-hidden--visually\" id=\"0737fe5a-67b7-4b5a-8a00-b9f373ff226c\" type=\"checkbox\" ><label for=\"0737fe5a-67b7-4b5a-8a00-b9f373ff226c\" class=\"sk-toggleable__label sk-toggleable__label-arrow\">num</label><div class=\"sk-toggleable__content\"><pre>[&#x27;NUMBER_OF_SEATS&#x27;, &#x27;PLANE_AGE&#x27;, &#x27;PRCP&#x27;, &#x27;SNOW&#x27;, &#x27;SNWD&#x27;, &#x27;TMAX&#x27;, &#x27;AWND&#x27;, &#x27;FLT_ATTENDANTS_PER_PASS&#x27;, &#x27;GROUND_SERV_PER_PASS&#x27;]</pre></div></div></div><div class=\"sk-serial\"><div class=\"sk-item\"><div class=\"sk-serial\"><div class=\"sk-item\"><div class=\"sk-estimator sk-toggleable\"><input class=\"sk-toggleable__control sk-hidden--visually\" id=\"fcfa1161-2007-4f96-a9db-dd602f87190e\" type=\"checkbox\" ><label for=\"fcfa1161-2007-4f96-a9db-dd602f87190e\" class=\"sk-toggleable__label sk-toggleable__label-arrow\">SimpleImputer</label><div class=\"sk-toggleable__content\"><pre>SimpleImputer(strategy=&#x27;median&#x27;)</pre></div></div></div><div class=\"sk-item\"><div class=\"sk-estimator sk-toggleable\"><input class=\"sk-toggleable__control sk-hidden--visually\" id=\"f5f9d436-4b07-4a3f-a21b-829207f6551f\" type=\"checkbox\" ><label for=\"f5f9d436-4b07-4a3f-a21b-829207f6551f\" class=\"sk-toggleable__label sk-toggleable__label-arrow\">StandardScaler</label><div class=\"sk-toggleable__content\"><pre>StandardScaler()</pre></div></div></div></div></div></div></div></div><div class=\"sk-parallel-item\"><div class=\"sk-item\"><div class=\"sk-label-container\"><div class=\"sk-label sk-toggleable\"><input class=\"sk-toggleable__control sk-hidden--visually\" id=\"ccf6c177-3e96-4a06-9cc1-20dac0cfcb9b\" type=\"checkbox\" ><label for=\"ccf6c177-3e96-4a06-9cc1-20dac0cfcb9b\" class=\"sk-toggleable__label sk-toggleable__label-arrow\">cat</label><div class=\"sk-toggleable__content\"><pre>[&#x27;DEP_TIME_BLK&#x27;, &#x27;DAY_OF_WEEK&#x27;, &#x27;DISTANCE_GROUP&#x27;, &#x27;SEGMENT_NUMBER&#x27;, &#x27;MONTH&#x27;]</pre></div></div></div><div class=\"sk-serial\"><div class=\"sk-item\"><div class=\"sk-serial\"><div class=\"sk-item\"><div class=\"sk-estimator sk-toggleable\"><input class=\"sk-toggleable__control sk-hidden--visually\" id=\"03ac72a2-d0a0-4a0e-8857-f12ab20a6585\" type=\"checkbox\" ><label for=\"03ac72a2-d0a0-4a0e-8857-f12ab20a6585\" class=\"sk-toggleable__label sk-toggleable__label-arrow\">SimpleImputer</label><div class=\"sk-toggleable__content\"><pre>SimpleImputer(strategy=&#x27;most_frequent&#x27;)</pre></div></div></div><div class=\"sk-item\"><div class=\"sk-estimator sk-toggleable\"><input class=\"sk-toggleable__control sk-hidden--visually\" id=\"ef30b5d0-0fc3-4a87-ae1e-0aa799aa48ee\" type=\"checkbox\" ><label for=\"ef30b5d0-0fc3-4a87-ae1e-0aa799aa48ee\" class=\"sk-toggleable__label sk-toggleable__label-arrow\">OneHotEncoder</label><div class=\"sk-toggleable__content\"><pre>OneHotEncoder(drop=&#x27;first&#x27;, sparse=False)</pre></div></div></div></div></div></div></div></div></div></div><div class=\"sk-item\"><div class=\"sk-estimator sk-toggleable\"><input class=\"sk-toggleable__control sk-hidden--visually\" id=\"4249be44-c740-4f7e-8748-ed6ece2e2617\" type=\"checkbox\" ><label for=\"4249be44-c740-4f7e-8748-ed6ece2e2617\" class=\"sk-toggleable__label sk-toggleable__label-arrow\">XGBClassifier</label><div class=\"sk-toggleable__content\"><pre>XGBClassifier(random_state=42)</pre></div></div></div></div></div></div></div>"
            ]
          },
          "metadata": {},
          "execution_count": 54
        }
      ]
    },
    {
      "cell_type": "code",
      "source": [
        "X_train = preprocess_pipeline.fit_transform(train_X, train_y)\n",
        "y_train = train_y\n",
        "#preprocess_pipeline.get_feature_names_out()"
      ],
      "metadata": {
        "id": "u19up6wM0jX3"
      },
      "execution_count": null,
      "outputs": []
    },
    {
      "cell_type": "code",
      "source": [
        "X_test = preprocess_pipeline.transform(test_X)\n",
        "y_test = test_y"
      ],
      "metadata": {
        "id": "_3pz7RzujYh5"
      },
      "execution_count": null,
      "outputs": []
    },
    {
      "cell_type": "code",
      "source": [
        "X_train.shape, X_test.shape, y_train.shape, y_test.shape"
      ],
      "metadata": {
        "colab": {
          "base_uri": "https://localhost:8080/"
        },
        "id": "2ykmlf8GfzZn",
        "outputId": "558133c9-05c5-488d-f0f2-b38bc672b683"
      },
      "execution_count": null,
      "outputs": [
        {
          "output_type": "execute_result",
          "data": {
            "text/plain": [
              "((8000, 62), (2000, 62), (8000,), (2000,))"
            ]
          },
          "metadata": {},
          "execution_count": 52
        }
      ]
    },
    {
      "cell_type": "markdown",
      "source": [
        "<a name=\"5\"></a>\n",
        "\n",
        "##[Classification Models](#5)"
      ],
      "metadata": {
        "id": "zSvChJGo5kHs"
      }
    },
    {
      "cell_type": "markdown",
      "source": [
        "For our first model we will look at XGBoost Classifier, that uses decision trees as learners."
      ],
      "metadata": {
        "id": "Vn8zKNAJltgt"
      }
    },
    {
      "cell_type": "markdown",
      "source": [
        "### XGBClassifier "
      ],
      "metadata": {
        "id": "LzV9VumctIiH"
      }
    },
    {
      "cell_type": "code",
      "source": [
        "from sklearn.utils.class_weight import compute_sample_weight\n",
        "sample_weights = compute_sample_weight(\n",
        "    class_weight='balanced',\n",
        "    y=y_train \n",
        ")"
      ],
      "metadata": {
        "id": "qXHroCS3aLc9"
      },
      "execution_count": null,
      "outputs": []
    },
    {
      "cell_type": "code",
      "source": [
        "xgb = XGBClassifier(n_estimators=100, random_state=0, max_depth=60, n_jobs=3, learning_rate=0.5)\n",
        "xgb.fit(X_train, y_train, sample_weight=sample_weights)\n",
        "#xgb.get_params()  "
      ],
      "metadata": {
        "id": "q_nZVJwJtHzt",
        "colab": {
          "base_uri": "https://localhost:8080/",
          "height": 75
        },
        "outputId": "1865ed74-377f-4140-870d-a0a64bddb1f6"
      },
      "execution_count": null,
      "outputs": [
        {
          "output_type": "execute_result",
          "data": {
            "text/plain": [
              "XGBClassifier(learning_rate=0.5, max_depth=60, n_jobs=3)"
            ],
            "text/html": [
              "<style>#sk-11d6b94a-42e5-4e51-a5c5-0320711e5698 {color: black;background-color: white;}#sk-11d6b94a-42e5-4e51-a5c5-0320711e5698 pre{padding: 0;}#sk-11d6b94a-42e5-4e51-a5c5-0320711e5698 div.sk-toggleable {background-color: white;}#sk-11d6b94a-42e5-4e51-a5c5-0320711e5698 label.sk-toggleable__label {cursor: pointer;display: block;width: 100%;margin-bottom: 0;padding: 0.3em;box-sizing: border-box;text-align: center;}#sk-11d6b94a-42e5-4e51-a5c5-0320711e5698 label.sk-toggleable__label-arrow:before {content: \"▸\";float: left;margin-right: 0.25em;color: #696969;}#sk-11d6b94a-42e5-4e51-a5c5-0320711e5698 label.sk-toggleable__label-arrow:hover:before {color: black;}#sk-11d6b94a-42e5-4e51-a5c5-0320711e5698 div.sk-estimator:hover label.sk-toggleable__label-arrow:before {color: black;}#sk-11d6b94a-42e5-4e51-a5c5-0320711e5698 div.sk-toggleable__content {max-height: 0;max-width: 0;overflow: hidden;text-align: left;background-color: #f0f8ff;}#sk-11d6b94a-42e5-4e51-a5c5-0320711e5698 div.sk-toggleable__content pre {margin: 0.2em;color: black;border-radius: 0.25em;background-color: #f0f8ff;}#sk-11d6b94a-42e5-4e51-a5c5-0320711e5698 input.sk-toggleable__control:checked~div.sk-toggleable__content {max-height: 200px;max-width: 100%;overflow: auto;}#sk-11d6b94a-42e5-4e51-a5c5-0320711e5698 input.sk-toggleable__control:checked~label.sk-toggleable__label-arrow:before {content: \"▾\";}#sk-11d6b94a-42e5-4e51-a5c5-0320711e5698 div.sk-estimator input.sk-toggleable__control:checked~label.sk-toggleable__label {background-color: #d4ebff;}#sk-11d6b94a-42e5-4e51-a5c5-0320711e5698 div.sk-label input.sk-toggleable__control:checked~label.sk-toggleable__label {background-color: #d4ebff;}#sk-11d6b94a-42e5-4e51-a5c5-0320711e5698 input.sk-hidden--visually {border: 0;clip: rect(1px 1px 1px 1px);clip: rect(1px, 1px, 1px, 1px);height: 1px;margin: -1px;overflow: hidden;padding: 0;position: absolute;width: 1px;}#sk-11d6b94a-42e5-4e51-a5c5-0320711e5698 div.sk-estimator {font-family: monospace;background-color: #f0f8ff;border: 1px dotted black;border-radius: 0.25em;box-sizing: border-box;margin-bottom: 0.5em;}#sk-11d6b94a-42e5-4e51-a5c5-0320711e5698 div.sk-estimator:hover {background-color: #d4ebff;}#sk-11d6b94a-42e5-4e51-a5c5-0320711e5698 div.sk-parallel-item::after {content: \"\";width: 100%;border-bottom: 1px solid gray;flex-grow: 1;}#sk-11d6b94a-42e5-4e51-a5c5-0320711e5698 div.sk-label:hover label.sk-toggleable__label {background-color: #d4ebff;}#sk-11d6b94a-42e5-4e51-a5c5-0320711e5698 div.sk-serial::before {content: \"\";position: absolute;border-left: 1px solid gray;box-sizing: border-box;top: 2em;bottom: 0;left: 50%;}#sk-11d6b94a-42e5-4e51-a5c5-0320711e5698 div.sk-serial {display: flex;flex-direction: column;align-items: center;background-color: white;padding-right: 0.2em;padding-left: 0.2em;}#sk-11d6b94a-42e5-4e51-a5c5-0320711e5698 div.sk-item {z-index: 1;}#sk-11d6b94a-42e5-4e51-a5c5-0320711e5698 div.sk-parallel {display: flex;align-items: stretch;justify-content: center;background-color: white;}#sk-11d6b94a-42e5-4e51-a5c5-0320711e5698 div.sk-parallel::before {content: \"\";position: absolute;border-left: 1px solid gray;box-sizing: border-box;top: 2em;bottom: 0;left: 50%;}#sk-11d6b94a-42e5-4e51-a5c5-0320711e5698 div.sk-parallel-item {display: flex;flex-direction: column;position: relative;background-color: white;}#sk-11d6b94a-42e5-4e51-a5c5-0320711e5698 div.sk-parallel-item:first-child::after {align-self: flex-end;width: 50%;}#sk-11d6b94a-42e5-4e51-a5c5-0320711e5698 div.sk-parallel-item:last-child::after {align-self: flex-start;width: 50%;}#sk-11d6b94a-42e5-4e51-a5c5-0320711e5698 div.sk-parallel-item:only-child::after {width: 0;}#sk-11d6b94a-42e5-4e51-a5c5-0320711e5698 div.sk-dashed-wrapped {border: 1px dashed gray;margin: 0 0.4em 0.5em 0.4em;box-sizing: border-box;padding-bottom: 0.4em;background-color: white;position: relative;}#sk-11d6b94a-42e5-4e51-a5c5-0320711e5698 div.sk-label label {font-family: monospace;font-weight: bold;background-color: white;display: inline-block;line-height: 1.2em;}#sk-11d6b94a-42e5-4e51-a5c5-0320711e5698 div.sk-label-container {position: relative;z-index: 2;text-align: center;}#sk-11d6b94a-42e5-4e51-a5c5-0320711e5698 div.sk-container {/* jupyter's `normalize.less` sets `[hidden] { display: none; }` but bootstrap.min.css set `[hidden] { display: none !important; }` so we also need the `!important` here to be able to override the default hidden behavior on the sphinx rendered scikit-learn.org. See: https://github.com/scikit-learn/scikit-learn/issues/21755 */display: inline-block !important;position: relative;}#sk-11d6b94a-42e5-4e51-a5c5-0320711e5698 div.sk-text-repr-fallback {display: none;}</style><div id=\"sk-11d6b94a-42e5-4e51-a5c5-0320711e5698\" class=\"sk-top-container\"><div class=\"sk-text-repr-fallback\"><pre>XGBClassifier(learning_rate=0.5, max_depth=60, n_jobs=3)</pre><b>Please rerun this cell to show the HTML repr or trust the notebook.</b></div><div class=\"sk-container\" hidden><div class=\"sk-item\"><div class=\"sk-estimator sk-toggleable\"><input class=\"sk-toggleable__control sk-hidden--visually\" id=\"e7e16ac0-4dfc-40f8-94b0-09a965bd0a93\" type=\"checkbox\" checked><label for=\"e7e16ac0-4dfc-40f8-94b0-09a965bd0a93\" class=\"sk-toggleable__label sk-toggleable__label-arrow\">XGBClassifier</label><div class=\"sk-toggleable__content\"><pre>XGBClassifier(learning_rate=0.5, max_depth=60, n_jobs=3)</pre></div></div></div></div></div>"
            ]
          },
          "metadata": {},
          "execution_count": 60
        }
      ]
    },
    {
      "cell_type": "code",
      "source": [
        "y_pred = xgb.predict(X_test)"
      ],
      "metadata": {
        "id": "98wjGW9TusKq"
      },
      "execution_count": null,
      "outputs": []
    },
    {
      "cell_type": "code",
      "source": [
        "accuracy_score(y_test, y_pred)"
      ],
      "metadata": {
        "colab": {
          "base_uri": "https://localhost:8080/"
        },
        "id": "fZO2FTTKdCVt",
        "outputId": "a0592408-30cc-4395-cf62-91c42b048521"
      },
      "execution_count": null,
      "outputs": [
        {
          "output_type": "execute_result",
          "data": {
            "text/plain": [
              "0.75"
            ]
          },
          "metadata": {},
          "execution_count": 62
        }
      ]
    },
    {
      "cell_type": "code",
      "source": [
        "balanced_accuracy_score(y_test, y_pred)"
      ],
      "metadata": {
        "colab": {
          "base_uri": "https://localhost:8080/"
        },
        "id": "tJjqvbOlut0G",
        "outputId": "70daee17-aeff-4b13-cbc8-3f595ab2d1ec"
      },
      "execution_count": null,
      "outputs": [
        {
          "output_type": "execute_result",
          "data": {
            "text/plain": [
              "0.5864956474514939"
            ]
          },
          "metadata": {},
          "execution_count": 63
        }
      ]
    },
    {
      "cell_type": "code",
      "source": [
        "#confusion matrix for xgb\n",
        "cm = confusion_matrix(y_test, y_pred)\n",
        "print(cm)"
      ],
      "metadata": {
        "id": "XfLNYowchD0O",
        "colab": {
          "base_uri": "https://localhost:8080/"
        },
        "outputId": "53854497-d876-45f1-d547-b4e2cd757fff"
      },
      "execution_count": null,
      "outputs": [
        {
          "output_type": "stream",
          "name": "stdout",
          "text": [
            "[[1370  183]\n",
            " [ 317  130]]\n"
          ]
        }
      ]
    },
    {
      "cell_type": "code",
      "source": [
        "from sklearn.metrics import ConfusionMatrixDisplay, RocCurveDisplay\n",
        "ConfusionMatrixDisplay.from_predictions(y_test, y_pred);"
      ],
      "metadata": {
        "id": "ymKjcQsXhVCB",
        "colab": {
          "base_uri": "https://localhost:8080/",
          "height": 276
        },
        "outputId": "50006eae-3d4d-4a15-a2a3-1834698d7a67"
      },
      "execution_count": null,
      "outputs": [
        {
          "output_type": "display_data",
          "data": {
            "text/plain": [
              "<Figure size 432x288 with 2 Axes>"
            ],
            "image/png": "[encoded data removed]"
          },
          "metadata": {}
        }
      ]
    },
    {
      "cell_type": "code",
      "source": [
        "#classification report for xgb\n",
        "print(classification_report(y_test, y_pred))"
      ],
      "metadata": {
        "id": "P_1pyZgChZDG",
        "colab": {
          "base_uri": "https://localhost:8080/"
        },
        "outputId": "0ac85e8f-ee3e-4117-f594-0559cd43aa97"
      },
      "execution_count": null,
      "outputs": [
        {
          "output_type": "stream",
          "name": "stdout",
          "text": [
            "              precision    recall  f1-score   support\n",
            "\n",
            "           0       0.81      0.88      0.85      1553\n",
            "           1       0.42      0.29      0.34       447\n",
            "\n",
            "    accuracy                           0.75      2000\n",
            "   macro avg       0.61      0.59      0.59      2000\n",
            "weighted avg       0.72      0.75      0.73      2000\n",
            "\n"
          ]
        }
      ]
    },
    {
      "cell_type": "code",
      "source": [
        "# ROC for xgb\n",
        "RocCurveDisplay.from_estimator(xgb, X_test, y_test);"
      ],
      "metadata": {
        "id": "EKpIXmf1hc8X",
        "colab": {
          "base_uri": "https://localhost:8080/",
          "height": 276
        },
        "outputId": "eda3e837-0974-4998-e025-dd6697917f87"
      },
      "execution_count": null,
      "outputs": [
        {
          "output_type": "display_data",
          "data": {
            "text/plain": [
              "<Figure size 432x288 with 1 Axes>"
            ],
            "image/png": "[encoded data removed]"
          },
          "metadata": {}
        }
      ]
    },
    {
      "cell_type": "code",
      "source": [
        "print('r2_score: ', r2_score(y_test, y_pred))"
      ],
      "metadata": {
        "colab": {
          "base_uri": "https://localhost:8080/"
        },
        "id": "Aw_-b4UULU-e",
        "outputId": "21596d35-6f0f-4e6d-af8e-72941a8e6747"
      },
      "execution_count": null,
      "outputs": [
        {
          "output_type": "stream",
          "name": "stdout",
          "text": [
            "r2_score:  -0.44052573427197994\n"
          ]
        }
      ]
    },
    {
      "cell_type": "code",
      "source": [
        "xgb_pipe = make_pipeline(preprocess_pipeline, XGBClassifier(n_estimators=100, random_state=42, max_depth=60, n_jobs=3, learning_rate=0.5))\n",
        "xgb_pipe = Pipeline([\n",
        "        (\"imputer\", preprocess_pipeline),\n",
        "        (\"xgb_classifier\", XGBClassifier(n_estimators=100, random_state=42, max_depth=60, n_jobs=3, learning_rate=0.5))\n",
        "    ])\n",
        "xgb_scores = cross_val_score(xgb_pipe, X, y, cv=10, scoring='balanced_accuracy')\n",
        "xgb_scores.mean().round(2)"
      ],
      "metadata": {
        "colab": {
          "base_uri": "https://localhost:8080/"
        },
        "id": "gCy4JQiy8OeO",
        "outputId": "4161d8f7-8618-43ac-f08c-69edb56c648d"
      },
      "execution_count": null,
      "outputs": [
        {
          "output_type": "execute_result",
          "data": {
            "text/plain": [
              "0.59"
            ]
          },
          "metadata": {},
          "execution_count": 186
        }
      ]
    },
    {
      "cell_type": "markdown",
      "source": [
        "### Logistic Regression"
      ],
      "metadata": {
        "id": "TiCeGnVtt-LP"
      }
    },
    {
      "cell_type": "markdown",
      "source": [
        "For our second machine learning model we will look at logistic regression and fit a regression curve for our caetgorical variable flight delays."
      ],
      "metadata": {
        "id": "WLkMyri24lrT"
      }
    },
    {
      "cell_type": "code",
      "source": [
        "full_pipeline_lr = Pipeline([\n",
        "    ('preprocessing', preprocess_pipeline),\n",
        "    ('LogisticRegression', LogisticRegression()),\n",
        "])\n",
        "\n",
        "full_pipeline_lr"
      ],
      "metadata": {
        "id": "LDFNxG9de9_Z",
        "colab": {
          "base_uri": "https://localhost:8080/",
          "height": 227
        },
        "outputId": "79dc5e50-5499-402a-dfe2-40b57a21c1f2"
      },
      "execution_count": null,
      "outputs": [
        {
          "output_type": "execute_result",
          "data": {
            "text/plain": [
              "Pipeline(steps=[('preprocessing',\n",
              "                 ColumnTransformer(transformers=[('num',\n",
              "                                                  Pipeline(steps=[('imputer',\n",
              "                                                                   SimpleImputer(strategy='median')),\n",
              "                                                                  ('scaler',\n",
              "                                                                   StandardScaler())]),\n",
              "                                                  ['NUMBER_OF_SEATS',\n",
              "                                                   'PLANE_AGE', 'PRCP', 'SNOW',\n",
              "                                                   'SNWD', 'TMAX', 'AWND',\n",
              "                                                   'FLT_ATTENDANTS_PER_PASS',\n",
              "                                                   'GROUND_SERV_PER_PASS']),\n",
              "                                                 ('cat',\n",
              "                                                  Pipeline(steps=[('imputer',\n",
              "                                                                   SimpleImputer(strategy='most_frequent')),\n",
              "                                                                  ('cat_encoder',\n",
              "                                                                   OneHotEncoder(drop='first',\n",
              "                                                                                 sparse=False))]),\n",
              "                                                  ['DEP_TIME_BLK',\n",
              "                                                   'DAY_OF_WEEK',\n",
              "                                                   'DISTANCE_GROUP',\n",
              "                                                   'SEGMENT_NUMBER',\n",
              "                                                   'MONTH'])])),\n",
              "                ('LogisticRegression', LogisticRegression())])"
            ],
            "text/html": [
              "<style>#sk-aa9ee0ca-a44e-443b-95cc-dc0a7c95b386 {color: black;background-color: white;}#sk-aa9ee0ca-a44e-443b-95cc-dc0a7c95b386 pre{padding: 0;}#sk-aa9ee0ca-a44e-443b-95cc-dc0a7c95b386 div.sk-toggleable {background-color: white;}#sk-aa9ee0ca-a44e-443b-95cc-dc0a7c95b386 label.sk-toggleable__label {cursor: pointer;display: block;width: 100%;margin-bottom: 0;padding: 0.3em;box-sizing: border-box;text-align: center;}#sk-aa9ee0ca-a44e-443b-95cc-dc0a7c95b386 label.sk-toggleable__label-arrow:before {content: \"▸\";float: left;margin-right: 0.25em;color: #696969;}#sk-aa9ee0ca-a44e-443b-95cc-dc0a7c95b386 label.sk-toggleable__label-arrow:hover:before {color: black;}#sk-aa9ee0ca-a44e-443b-95cc-dc0a7c95b386 div.sk-estimator:hover label.sk-toggleable__label-arrow:before {color: black;}#sk-aa9ee0ca-a44e-443b-95cc-dc0a7c95b386 div.sk-toggleable__content {max-height: 0;max-width: 0;overflow: hidden;text-align: left;background-color: #f0f8ff;}#sk-aa9ee0ca-a44e-443b-95cc-dc0a7c95b386 div.sk-toggleable__content pre {margin: 0.2em;color: black;border-radius: 0.25em;background-color: #f0f8ff;}#sk-aa9ee0ca-a44e-443b-95cc-dc0a7c95b386 input.sk-toggleable__control:checked~div.sk-toggleable__content {max-height: 200px;max-width: 100%;overflow: auto;}#sk-aa9ee0ca-a44e-443b-95cc-dc0a7c95b386 input.sk-toggleable__control:checked~label.sk-toggleable__label-arrow:before {content: \"▾\";}#sk-aa9ee0ca-a44e-443b-95cc-dc0a7c95b386 div.sk-estimator input.sk-toggleable__control:checked~label.sk-toggleable__label {background-color: #d4ebff;}#sk-aa9ee0ca-a44e-443b-95cc-dc0a7c95b386 div.sk-label input.sk-toggleable__control:checked~label.sk-toggleable__label {background-color: #d4ebff;}#sk-aa9ee0ca-a44e-443b-95cc-dc0a7c95b386 input.sk-hidden--visually {border: 0;clip: rect(1px 1px 1px 1px);clip: rect(1px, 1px, 1px, 1px);height: 1px;margin: -1px;overflow: hidden;padding: 0;position: absolute;width: 1px;}#sk-aa9ee0ca-a44e-443b-95cc-dc0a7c95b386 div.sk-estimator {font-family: monospace;background-color: #f0f8ff;border: 1px dotted black;border-radius: 0.25em;box-sizing: border-box;margin-bottom: 0.5em;}#sk-aa9ee0ca-a44e-443b-95cc-dc0a7c95b386 div.sk-estimator:hover {background-color: #d4ebff;}#sk-aa9ee0ca-a44e-443b-95cc-dc0a7c95b386 div.sk-parallel-item::after {content: \"\";width: 100%;border-bottom: 1px solid gray;flex-grow: 1;}#sk-aa9ee0ca-a44e-443b-95cc-dc0a7c95b386 div.sk-label:hover label.sk-toggleable__label {background-color: #d4ebff;}#sk-aa9ee0ca-a44e-443b-95cc-dc0a7c95b386 div.sk-serial::before {content: \"\";position: absolute;border-left: 1px solid gray;box-sizing: border-box;top: 2em;bottom: 0;left: 50%;}#sk-aa9ee0ca-a44e-443b-95cc-dc0a7c95b386 div.sk-serial {display: flex;flex-direction: column;align-items: center;background-color: white;padding-right: 0.2em;padding-left: 0.2em;}#sk-aa9ee0ca-a44e-443b-95cc-dc0a7c95b386 div.sk-item {z-index: 1;}#sk-aa9ee0ca-a44e-443b-95cc-dc0a7c95b386 div.sk-parallel {display: flex;align-items: stretch;justify-content: center;background-color: white;}#sk-aa9ee0ca-a44e-443b-95cc-dc0a7c95b386 div.sk-parallel::before {content: \"\";position: absolute;border-left: 1px solid gray;box-sizing: border-box;top: 2em;bottom: 0;left: 50%;}#sk-aa9ee0ca-a44e-443b-95cc-dc0a7c95b386 div.sk-parallel-item {display: flex;flex-direction: column;position: relative;background-color: white;}#sk-aa9ee0ca-a44e-443b-95cc-dc0a7c95b386 div.sk-parallel-item:first-child::after {align-self: flex-end;width: 50%;}#sk-aa9ee0ca-a44e-443b-95cc-dc0a7c95b386 div.sk-parallel-item:last-child::after {align-self: flex-start;width: 50%;}#sk-aa9ee0ca-a44e-443b-95cc-dc0a7c95b386 div.sk-parallel-item:only-child::after {width: 0;}#sk-aa9ee0ca-a44e-443b-95cc-dc0a7c95b386 div.sk-dashed-wrapped {border: 1px dashed gray;margin: 0 0.4em 0.5em 0.4em;box-sizing: border-box;padding-bottom: 0.4em;background-color: white;position: relative;}#sk-aa9ee0ca-a44e-443b-95cc-dc0a7c95b386 div.sk-label label {font-family: monospace;font-weight: bold;background-color: white;display: inline-block;line-height: 1.2em;}#sk-aa9ee0ca-a44e-443b-95cc-dc0a7c95b386 div.sk-label-container {position: relative;z-index: 2;text-align: center;}#sk-aa9ee0ca-a44e-443b-95cc-dc0a7c95b386 div.sk-container {/* jupyter's `normalize.less` sets `[hidden] { display: none; }` but bootstrap.min.css set `[hidden] { display: none !important; }` so we also need the `!important` here to be able to override the default hidden behavior on the sphinx rendered scikit-learn.org. See: https://github.com/scikit-learn/scikit-learn/issues/21755 */display: inline-block !important;position: relative;}#sk-aa9ee0ca-a44e-443b-95cc-dc0a7c95b386 div.sk-text-repr-fallback {display: none;}</style><div id=\"sk-aa9ee0ca-a44e-443b-95cc-dc0a7c95b386\" class=\"sk-top-container\"><div class=\"sk-text-repr-fallback\"><pre>Pipeline(steps=[(&#x27;preprocessing&#x27;,\n",
              "                 ColumnTransformer(transformers=[(&#x27;num&#x27;,\n",
              "                                                  Pipeline(steps=[(&#x27;imputer&#x27;,\n",
              "                                                                   SimpleImputer(strategy=&#x27;median&#x27;)),\n",
              "                                                                  (&#x27;scaler&#x27;,\n",
              "                                                                   StandardScaler())]),\n",
              "                                                  [&#x27;NUMBER_OF_SEATS&#x27;,\n",
              "                                                   &#x27;PLANE_AGE&#x27;, &#x27;PRCP&#x27;, &#x27;SNOW&#x27;,\n",
              "                                                   &#x27;SNWD&#x27;, &#x27;TMAX&#x27;, &#x27;AWND&#x27;,\n",
              "                                                   &#x27;FLT_ATTENDANTS_PER_PASS&#x27;,\n",
              "                                                   &#x27;GROUND_SERV_PER_PASS&#x27;]),\n",
              "                                                 (&#x27;cat&#x27;,\n",
              "                                                  Pipeline(steps=[(&#x27;imputer&#x27;,\n",
              "                                                                   SimpleImputer(strategy=&#x27;most_frequent&#x27;)),\n",
              "                                                                  (&#x27;cat_encoder&#x27;,\n",
              "                                                                   OneHotEncoder(drop=&#x27;first&#x27;,\n",
              "                                                                                 sparse=False))]),\n",
              "                                                  [&#x27;DEP_TIME_BLK&#x27;,\n",
              "                                                   &#x27;DAY_OF_WEEK&#x27;,\n",
              "                                                   &#x27;DISTANCE_GROUP&#x27;,\n",
              "                                                   &#x27;SEGMENT_NUMBER&#x27;,\n",
              "                                                   &#x27;MONTH&#x27;])])),\n",
              "                (&#x27;LogisticRegression&#x27;, LogisticRegression())])</pre><b>Please rerun this cell to show the HTML repr or trust the notebook.</b></div><div class=\"sk-container\" hidden><div class=\"sk-item sk-dashed-wrapped\"><div class=\"sk-label-container\"><div class=\"sk-label sk-toggleable\"><input class=\"sk-toggleable__control sk-hidden--visually\" id=\"5ef65b75-8dc8-4c85-a6d2-46ce72b24892\" type=\"checkbox\" ><label for=\"5ef65b75-8dc8-4c85-a6d2-46ce72b24892\" class=\"sk-toggleable__label sk-toggleable__label-arrow\">Pipeline</label><div class=\"sk-toggleable__content\"><pre>Pipeline(steps=[(&#x27;preprocessing&#x27;,\n",
              "                 ColumnTransformer(transformers=[(&#x27;num&#x27;,\n",
              "                                                  Pipeline(steps=[(&#x27;imputer&#x27;,\n",
              "                                                                   SimpleImputer(strategy=&#x27;median&#x27;)),\n",
              "                                                                  (&#x27;scaler&#x27;,\n",
              "                                                                   StandardScaler())]),\n",
              "                                                  [&#x27;NUMBER_OF_SEATS&#x27;,\n",
              "                                                   &#x27;PLANE_AGE&#x27;, &#x27;PRCP&#x27;, &#x27;SNOW&#x27;,\n",
              "                                                   &#x27;SNWD&#x27;, &#x27;TMAX&#x27;, &#x27;AWND&#x27;,\n",
              "                                                   &#x27;FLT_ATTENDANTS_PER_PASS&#x27;,\n",
              "                                                   &#x27;GROUND_SERV_PER_PASS&#x27;]),\n",
              "                                                 (&#x27;cat&#x27;,\n",
              "                                                  Pipeline(steps=[(&#x27;imputer&#x27;,\n",
              "                                                                   SimpleImputer(strategy=&#x27;most_frequent&#x27;)),\n",
              "                                                                  (&#x27;cat_encoder&#x27;,\n",
              "                                                                   OneHotEncoder(drop=&#x27;first&#x27;,\n",
              "                                                                                 sparse=False))]),\n",
              "                                                  [&#x27;DEP_TIME_BLK&#x27;,\n",
              "                                                   &#x27;DAY_OF_WEEK&#x27;,\n",
              "                                                   &#x27;DISTANCE_GROUP&#x27;,\n",
              "                                                   &#x27;SEGMENT_NUMBER&#x27;,\n",
              "                                                   &#x27;MONTH&#x27;])])),\n",
              "                (&#x27;LogisticRegression&#x27;, LogisticRegression())])</pre></div></div></div><div class=\"sk-serial\"><div class=\"sk-item sk-dashed-wrapped\"><div class=\"sk-label-container\"><div class=\"sk-label sk-toggleable\"><input class=\"sk-toggleable__control sk-hidden--visually\" id=\"cac12607-25a1-4d1c-9ea2-e77195fd77c8\" type=\"checkbox\" ><label for=\"cac12607-25a1-4d1c-9ea2-e77195fd77c8\" class=\"sk-toggleable__label sk-toggleable__label-arrow\">preprocessing: ColumnTransformer</label><div class=\"sk-toggleable__content\"><pre>ColumnTransformer(transformers=[(&#x27;num&#x27;,\n",
              "                                 Pipeline(steps=[(&#x27;imputer&#x27;,\n",
              "                                                  SimpleImputer(strategy=&#x27;median&#x27;)),\n",
              "                                                 (&#x27;scaler&#x27;, StandardScaler())]),\n",
              "                                 [&#x27;NUMBER_OF_SEATS&#x27;, &#x27;PLANE_AGE&#x27;, &#x27;PRCP&#x27;,\n",
              "                                  &#x27;SNOW&#x27;, &#x27;SNWD&#x27;, &#x27;TMAX&#x27;, &#x27;AWND&#x27;,\n",
              "                                  &#x27;FLT_ATTENDANTS_PER_PASS&#x27;,\n",
              "                                  &#x27;GROUND_SERV_PER_PASS&#x27;]),\n",
              "                                (&#x27;cat&#x27;,\n",
              "                                 Pipeline(steps=[(&#x27;imputer&#x27;,\n",
              "                                                  SimpleImputer(strategy=&#x27;most_frequent&#x27;)),\n",
              "                                                 (&#x27;cat_encoder&#x27;,\n",
              "                                                  OneHotEncoder(drop=&#x27;first&#x27;,\n",
              "                                                                sparse=False))]),\n",
              "                                 [&#x27;DEP_TIME_BLK&#x27;, &#x27;DAY_OF_WEEK&#x27;,\n",
              "                                  &#x27;DISTANCE_GROUP&#x27;, &#x27;SEGMENT_NUMBER&#x27;,\n",
              "                                  &#x27;MONTH&#x27;])])</pre></div></div></div><div class=\"sk-parallel\"><div class=\"sk-parallel-item\"><div class=\"sk-item\"><div class=\"sk-label-container\"><div class=\"sk-label sk-toggleable\"><input class=\"sk-toggleable__control sk-hidden--visually\" id=\"510e21c3-cfa2-4db6-a33d-5f57905a4108\" type=\"checkbox\" ><label for=\"510e21c3-cfa2-4db6-a33d-5f57905a4108\" class=\"sk-toggleable__label sk-toggleable__label-arrow\">num</label><div class=\"sk-toggleable__content\"><pre>[&#x27;NUMBER_OF_SEATS&#x27;, &#x27;PLANE_AGE&#x27;, &#x27;PRCP&#x27;, &#x27;SNOW&#x27;, &#x27;SNWD&#x27;, &#x27;TMAX&#x27;, &#x27;AWND&#x27;, &#x27;FLT_ATTENDANTS_PER_PASS&#x27;, &#x27;GROUND_SERV_PER_PASS&#x27;]</pre></div></div></div><div class=\"sk-serial\"><div class=\"sk-item\"><div class=\"sk-serial\"><div class=\"sk-item\"><div class=\"sk-estimator sk-toggleable\"><input class=\"sk-toggleable__control sk-hidden--visually\" id=\"eb2f7409-ff99-41e4-8e72-33fa74156ce7\" type=\"checkbox\" ><label for=\"eb2f7409-ff99-41e4-8e72-33fa74156ce7\" class=\"sk-toggleable__label sk-toggleable__label-arrow\">SimpleImputer</label><div class=\"sk-toggleable__content\"><pre>SimpleImputer(strategy=&#x27;median&#x27;)</pre></div></div></div><div class=\"sk-item\"><div class=\"sk-estimator sk-toggleable\"><input class=\"sk-toggleable__control sk-hidden--visually\" id=\"34a7abc1-ef71-4afb-a6dd-df3df31accfa\" type=\"checkbox\" ><label for=\"34a7abc1-ef71-4afb-a6dd-df3df31accfa\" class=\"sk-toggleable__label sk-toggleable__label-arrow\">StandardScaler</label><div class=\"sk-toggleable__content\"><pre>StandardScaler()</pre></div></div></div></div></div></div></div></div><div class=\"sk-parallel-item\"><div class=\"sk-item\"><div class=\"sk-label-container\"><div class=\"sk-label sk-toggleable\"><input class=\"sk-toggleable__control sk-hidden--visually\" id=\"9bf506e4-4f8d-48a3-b3d5-9640602028af\" type=\"checkbox\" ><label for=\"9bf506e4-4f8d-48a3-b3d5-9640602028af\" class=\"sk-toggleable__label sk-toggleable__label-arrow\">cat</label><div class=\"sk-toggleable__content\"><pre>[&#x27;DEP_TIME_BLK&#x27;, &#x27;DAY_OF_WEEK&#x27;, &#x27;DISTANCE_GROUP&#x27;, &#x27;SEGMENT_NUMBER&#x27;, &#x27;MONTH&#x27;]</pre></div></div></div><div class=\"sk-serial\"><div class=\"sk-item\"><div class=\"sk-serial\"><div class=\"sk-item\"><div class=\"sk-estimator sk-toggleable\"><input class=\"sk-toggleable__control sk-hidden--visually\" id=\"fdd21505-e65c-490d-b5cc-8d9888984b8b\" type=\"checkbox\" ><label for=\"fdd21505-e65c-490d-b5cc-8d9888984b8b\" class=\"sk-toggleable__label sk-toggleable__label-arrow\">SimpleImputer</label><div class=\"sk-toggleable__content\"><pre>SimpleImputer(strategy=&#x27;most_frequent&#x27;)</pre></div></div></div><div class=\"sk-item\"><div class=\"sk-estimator sk-toggleable\"><input class=\"sk-toggleable__control sk-hidden--visually\" id=\"6f88bb4f-f3cf-4189-bb0d-0425feeb0560\" type=\"checkbox\" ><label for=\"6f88bb4f-f3cf-4189-bb0d-0425feeb0560\" class=\"sk-toggleable__label sk-toggleable__label-arrow\">OneHotEncoder</label><div class=\"sk-toggleable__content\"><pre>OneHotEncoder(drop=&#x27;first&#x27;, sparse=False)</pre></div></div></div></div></div></div></div></div></div></div><div class=\"sk-item\"><div class=\"sk-estimator sk-toggleable\"><input class=\"sk-toggleable__control sk-hidden--visually\" id=\"79dfc4f8-ef3d-465b-9be9-155d2e8d7c1c\" type=\"checkbox\" ><label for=\"79dfc4f8-ef3d-465b-9be9-155d2e8d7c1c\" class=\"sk-toggleable__label sk-toggleable__label-arrow\">LogisticRegression</label><div class=\"sk-toggleable__content\"><pre>LogisticRegression()</pre></div></div></div></div></div></div></div>"
            ]
          },
          "metadata": {},
          "execution_count": 73
        }
      ]
    },
    {
      "cell_type": "code",
      "source": [
        "lr = LogisticRegression(max_iter=200, random_state=42)\n",
        "lr.fit(X_train, y_train)\n",
        "#lr.get_params()"
      ],
      "metadata": {
        "id": "ghqRMelJt9ok",
        "colab": {
          "base_uri": "https://localhost:8080/",
          "height": 75
        },
        "outputId": "ae5306d2-0068-4910-950d-b421a0cf9ad7"
      },
      "execution_count": null,
      "outputs": [
        {
          "output_type": "execute_result",
          "data": {
            "text/plain": [
              "LogisticRegression(max_iter=200, random_state=42)"
            ],
            "text/html": [
              "<style>#sk-4e7c625b-4f77-4227-8471-3455600b93d9 {color: black;background-color: white;}#sk-4e7c625b-4f77-4227-8471-3455600b93d9 pre{padding: 0;}#sk-4e7c625b-4f77-4227-8471-3455600b93d9 div.sk-toggleable {background-color: white;}#sk-4e7c625b-4f77-4227-8471-3455600b93d9 label.sk-toggleable__label {cursor: pointer;display: block;width: 100%;margin-bottom: 0;padding: 0.3em;box-sizing: border-box;text-align: center;}#sk-4e7c625b-4f77-4227-8471-3455600b93d9 label.sk-toggleable__label-arrow:before {content: \"▸\";float: left;margin-right: 0.25em;color: #696969;}#sk-4e7c625b-4f77-4227-8471-3455600b93d9 label.sk-toggleable__label-arrow:hover:before {color: black;}#sk-4e7c625b-4f77-4227-8471-3455600b93d9 div.sk-estimator:hover label.sk-toggleable__label-arrow:before {color: black;}#sk-4e7c625b-4f77-4227-8471-3455600b93d9 div.sk-toggleable__content {max-height: 0;max-width: 0;overflow: hidden;text-align: left;background-color: #f0f8ff;}#sk-4e7c625b-4f77-4227-8471-3455600b93d9 div.sk-toggleable__content pre {margin: 0.2em;color: black;border-radius: 0.25em;background-color: #f0f8ff;}#sk-4e7c625b-4f77-4227-8471-3455600b93d9 input.sk-toggleable__control:checked~div.sk-toggleable__content {max-height: 200px;max-width: 100%;overflow: auto;}#sk-4e7c625b-4f77-4227-8471-3455600b93d9 input.sk-toggleable__control:checked~label.sk-toggleable__label-arrow:before {content: \"▾\";}#sk-4e7c625b-4f77-4227-8471-3455600b93d9 div.sk-estimator input.sk-toggleable__control:checked~label.sk-toggleable__label {background-color: #d4ebff;}#sk-4e7c625b-4f77-4227-8471-3455600b93d9 div.sk-label input.sk-toggleable__control:checked~label.sk-toggleable__label {background-color: #d4ebff;}#sk-4e7c625b-4f77-4227-8471-3455600b93d9 input.sk-hidden--visually {border: 0;clip: rect(1px 1px 1px 1px);clip: rect(1px, 1px, 1px, 1px);height: 1px;margin: -1px;overflow: hidden;padding: 0;position: absolute;width: 1px;}#sk-4e7c625b-4f77-4227-8471-3455600b93d9 div.sk-estimator {font-family: monospace;background-color: #f0f8ff;border: 1px dotted black;border-radius: 0.25em;box-sizing: border-box;margin-bottom: 0.5em;}#sk-4e7c625b-4f77-4227-8471-3455600b93d9 div.sk-estimator:hover {background-color: #d4ebff;}#sk-4e7c625b-4f77-4227-8471-3455600b93d9 div.sk-parallel-item::after {content: \"\";width: 100%;border-bottom: 1px solid gray;flex-grow: 1;}#sk-4e7c625b-4f77-4227-8471-3455600b93d9 div.sk-label:hover label.sk-toggleable__label {background-color: #d4ebff;}#sk-4e7c625b-4f77-4227-8471-3455600b93d9 div.sk-serial::before {content: \"\";position: absolute;border-left: 1px solid gray;box-sizing: border-box;top: 2em;bottom: 0;left: 50%;}#sk-4e7c625b-4f77-4227-8471-3455600b93d9 div.sk-serial {display: flex;flex-direction: column;align-items: center;background-color: white;padding-right: 0.2em;padding-left: 0.2em;}#sk-4e7c625b-4f77-4227-8471-3455600b93d9 div.sk-item {z-index: 1;}#sk-4e7c625b-4f77-4227-8471-3455600b93d9 div.sk-parallel {display: flex;align-items: stretch;justify-content: center;background-color: white;}#sk-4e7c625b-4f77-4227-8471-3455600b93d9 div.sk-parallel::before {content: \"\";position: absolute;border-left: 1px solid gray;box-sizing: border-box;top: 2em;bottom: 0;left: 50%;}#sk-4e7c625b-4f77-4227-8471-3455600b93d9 div.sk-parallel-item {display: flex;flex-direction: column;position: relative;background-color: white;}#sk-4e7c625b-4f77-4227-8471-3455600b93d9 div.sk-parallel-item:first-child::after {align-self: flex-end;width: 50%;}#sk-4e7c625b-4f77-4227-8471-3455600b93d9 div.sk-parallel-item:last-child::after {align-self: flex-start;width: 50%;}#sk-4e7c625b-4f77-4227-8471-3455600b93d9 div.sk-parallel-item:only-child::after {width: 0;}#sk-4e7c625b-4f77-4227-8471-3455600b93d9 div.sk-dashed-wrapped {border: 1px dashed gray;margin: 0 0.4em 0.5em 0.4em;box-sizing: border-box;padding-bottom: 0.4em;background-color: white;position: relative;}#sk-4e7c625b-4f77-4227-8471-3455600b93d9 div.sk-label label {font-family: monospace;font-weight: bold;background-color: white;display: inline-block;line-height: 1.2em;}#sk-4e7c625b-4f77-4227-8471-3455600b93d9 div.sk-label-container {position: relative;z-index: 2;text-align: center;}#sk-4e7c625b-4f77-4227-8471-3455600b93d9 div.sk-container {/* jupyter's `normalize.less` sets `[hidden] { display: none; }` but bootstrap.min.css set `[hidden] { display: none !important; }` so we also need the `!important` here to be able to override the default hidden behavior on the sphinx rendered scikit-learn.org. See: https://github.com/scikit-learn/scikit-learn/issues/21755 */display: inline-block !important;position: relative;}#sk-4e7c625b-4f77-4227-8471-3455600b93d9 div.sk-text-repr-fallback {display: none;}</style><div id=\"sk-4e7c625b-4f77-4227-8471-3455600b93d9\" class=\"sk-top-container\"><div class=\"sk-text-repr-fallback\"><pre>LogisticRegression(max_iter=200, random_state=42)</pre><b>Please rerun this cell to show the HTML repr or trust the notebook.</b></div><div class=\"sk-container\" hidden><div class=\"sk-item\"><div class=\"sk-estimator sk-toggleable\"><input class=\"sk-toggleable__control sk-hidden--visually\" id=\"725f139c-11e5-430b-aeeb-0e75ef3f04d6\" type=\"checkbox\" checked><label for=\"725f139c-11e5-430b-aeeb-0e75ef3f04d6\" class=\"sk-toggleable__label sk-toggleable__label-arrow\">LogisticRegression</label><div class=\"sk-toggleable__content\"><pre>LogisticRegression(max_iter=200, random_state=42)</pre></div></div></div></div></div>"
            ]
          },
          "metadata": {},
          "execution_count": 75
        }
      ]
    },
    {
      "cell_type": "code",
      "source": [
        "y_pred = lr.predict(X_test)"
      ],
      "metadata": {
        "id": "lh3fk3HKunVD"
      },
      "execution_count": null,
      "outputs": []
    },
    {
      "cell_type": "code",
      "source": [
        "accuracy_score(y_test, y_pred)"
      ],
      "metadata": {
        "id": "k1d431C6xPtr",
        "colab": {
          "base_uri": "https://localhost:8080/"
        },
        "outputId": "3d650b48-c3e6-4f35-a2a3-66c9ab554243"
      },
      "execution_count": null,
      "outputs": [
        {
          "output_type": "execute_result",
          "data": {
            "text/plain": [
              "0.7825"
            ]
          },
          "metadata": {},
          "execution_count": 77
        }
      ]
    },
    {
      "cell_type": "code",
      "source": [
        "balanced_accuracy_score(y_test, y_pred)"
      ],
      "metadata": {
        "colab": {
          "base_uri": "https://localhost:8080/"
        },
        "id": "J6DYhLgQCRE6",
        "outputId": "2aced117-58a9-4976-cee0-13cc616f2f30"
      },
      "execution_count": null,
      "outputs": [
        {
          "output_type": "execute_result",
          "data": {
            "text/plain": [
              "0.5277618119508896"
            ]
          },
          "metadata": {},
          "execution_count": 78
        }
      ]
    },
    {
      "cell_type": "code",
      "source": [
        "from sklearn.metrics import ConfusionMatrixDisplay, RocCurveDisplay\n",
        "ConfusionMatrixDisplay.from_predictions(y_test, y_pred);"
      ],
      "metadata": {
        "colab": {
          "base_uri": "https://localhost:8080/",
          "height": 276
        },
        "id": "Et7sFutu5T6k",
        "outputId": "1e4e7687-489d-436b-b840-4dbde85745fc"
      },
      "execution_count": null,
      "outputs": [
        {
          "output_type": "display_data",
          "data": {
            "text/plain": [
              "<Figure size 432x288 with 2 Axes>"
            ],
            "image/png": "[encoded data removed]"
          },
          "metadata": {}
        }
      ]
    },
    {
      "cell_type": "code",
      "source": [
        "#classification report for xgb\n",
        "print(classification_report(y_test, y_pred))"
      ],
      "metadata": {
        "colab": {
          "base_uri": "https://localhost:8080/"
        },
        "id": "tZ8nBlGF5WvQ",
        "outputId": "43a22868-35c4-4328-9f19-a9322456aa39"
      },
      "execution_count": null,
      "outputs": [
        {
          "output_type": "stream",
          "name": "stdout",
          "text": [
            "              precision    recall  f1-score   support\n",
            "\n",
            "           0       0.80      0.97      0.87      1553\n",
            "           1       0.57      0.14      0.22       447\n",
            "\n",
            "    accuracy                           0.78      2000\n",
            "   macro avg       0.69      0.55      0.55      2000\n",
            "weighted avg       0.75      0.78      0.73      2000\n",
            "\n"
          ]
        }
      ]
    },
    {
      "cell_type": "code",
      "source": [
        "# ROC for xgb\n",
        "RocCurveDisplay.from_estimator(lr, X_test, y_test);"
      ],
      "metadata": {
        "colab": {
          "base_uri": "https://localhost:8080/",
          "height": 276
        },
        "id": "7HVEnQLw5aD0",
        "outputId": "7733b45a-5609-4349-c913-cc099f7cd1e4"
      },
      "execution_count": null,
      "outputs": [
        {
          "output_type": "display_data",
          "data": {
            "text/plain": [
              "<Figure size 432x288 with 1 Axes>"
            ],
            "image/png": "[encoded data removed]"
          },
          "metadata": {}
        }
      ]
    },
    {
      "cell_type": "code",
      "source": [
        "print('r2_score: ', r2_score(y_test, y_pred))"
      ],
      "metadata": {
        "colab": {
          "base_uri": "https://localhost:8080/"
        },
        "id": "PVyopf1n5fYG",
        "outputId": "ccc437b8-9b44-4d2c-b686-18a2d35d0b0e"
      },
      "execution_count": null,
      "outputs": [
        {
          "output_type": "stream",
          "name": "stdout",
          "text": [
            "r2_score:  -0.24173318294244672\n"
          ]
        }
      ]
    },
    {
      "cell_type": "code",
      "source": [
        "lr_pipe = make_pipeline(preprocess_pipeline, LogisticRegression(max_iter=200, random_state=42))\n",
        "lr_scores = cross_val_score(lr_pipe, X, y, cv=10, scoring='balanced_accuracy')\n",
        "lr_scores.mean().round(2)"
      ],
      "metadata": {
        "colab": {
          "base_uri": "https://localhost:8080/"
        },
        "id": "bs6nxGgM8Bs-",
        "outputId": "3e92b6ad-5c83-4073-8182-69836f296263"
      },
      "execution_count": null,
      "outputs": [
        {
          "output_type": "execute_result",
          "data": {
            "text/plain": [
              "0.53"
            ]
          },
          "metadata": {},
          "execution_count": 104
        }
      ]
    },
    {
      "cell_type": "markdown",
      "source": [
        "### SVM"
      ],
      "metadata": {
        "id": "6Vv5ZEs8bC4K"
      }
    },
    {
      "cell_type": "markdown",
      "source": [
        "For our third Machine Learning model we will look at SVM(Support Vector Machines). SVM is basically a linear model for our classification problem that will create a line/hyperplane which seperates the data into the classes.\n",
        "The support vector machine determines the best way to classify data based on its position relative to a border between positive and negative classes. Area between these margins is called the hyperplane , which maximize the distance between data points from different our two different classes (0- nondelays and 1-delays)."
      ],
      "metadata": {
        "id": "fZGhA56m7fuu"
      }
    },
    {
      "cell_type": "code",
      "source": [
        "full_pipeline_svm = Pipeline([\n",
        "    ('preprocessing', preprocess_pipeline),\n",
        "    ('SVM', SVC()),\n",
        "])\n",
        "\n",
        "full_pipeline_lr"
      ],
      "metadata": {
        "id": "3etSU7rIJgfm",
        "colab": {
          "base_uri": "https://localhost:8080/",
          "height": 227
        },
        "outputId": "455a4e64-1eef-42c1-8774-5b6d13173499"
      },
      "execution_count": null,
      "outputs": [
        {
          "output_type": "execute_result",
          "data": {
            "text/plain": [
              "Pipeline(steps=[('preprocessing',\n",
              "                 ColumnTransformer(transformers=[('num',\n",
              "                                                  Pipeline(steps=[('imputer',\n",
              "                                                                   SimpleImputer(strategy='median')),\n",
              "                                                                  ('scaler',\n",
              "                                                                   StandardScaler())]),\n",
              "                                                  ['NUMBER_OF_SEATS',\n",
              "                                                   'PLANE_AGE', 'PRCP', 'SNOW',\n",
              "                                                   'SNWD', 'TMAX', 'AWND',\n",
              "                                                   'FLT_ATTENDANTS_PER_PASS',\n",
              "                                                   'GROUND_SERV_PER_PASS']),\n",
              "                                                 ('cat',\n",
              "                                                  Pipeline(steps=[('imputer',\n",
              "                                                                   SimpleImputer(strategy='most_frequent')),\n",
              "                                                                  ('cat_encoder',\n",
              "                                                                   OneHotEncoder(drop='first',\n",
              "                                                                                 sparse=False))]),\n",
              "                                                  ['DEP_TIME_BLK',\n",
              "                                                   'DAY_OF_WEEK',\n",
              "                                                   'DISTANCE_GROUP',\n",
              "                                                   'SEGMENT_NUMBER',\n",
              "                                                   'MONTH'])])),\n",
              "                ('LogisticRegression', LogisticRegression())])"
            ],
            "text/html": [
              "<style>#sk-008b299a-49d9-4bf6-a95c-acf5b5cbe1a6 {color: black;background-color: white;}#sk-008b299a-49d9-4bf6-a95c-acf5b5cbe1a6 pre{padding: 0;}#sk-008b299a-49d9-4bf6-a95c-acf5b5cbe1a6 div.sk-toggleable {background-color: white;}#sk-008b299a-49d9-4bf6-a95c-acf5b5cbe1a6 label.sk-toggleable__label {cursor: pointer;display: block;width: 100%;margin-bottom: 0;padding: 0.3em;box-sizing: border-box;text-align: center;}#sk-008b299a-49d9-4bf6-a95c-acf5b5cbe1a6 label.sk-toggleable__label-arrow:before {content: \"▸\";float: left;margin-right: 0.25em;color: #696969;}#sk-008b299a-49d9-4bf6-a95c-acf5b5cbe1a6 label.sk-toggleable__label-arrow:hover:before {color: black;}#sk-008b299a-49d9-4bf6-a95c-acf5b5cbe1a6 div.sk-estimator:hover label.sk-toggleable__label-arrow:before {color: black;}#sk-008b299a-49d9-4bf6-a95c-acf5b5cbe1a6 div.sk-toggleable__content {max-height: 0;max-width: 0;overflow: hidden;text-align: left;background-color: #f0f8ff;}#sk-008b299a-49d9-4bf6-a95c-acf5b5cbe1a6 div.sk-toggleable__content pre {margin: 0.2em;color: black;border-radius: 0.25em;background-color: #f0f8ff;}#sk-008b299a-49d9-4bf6-a95c-acf5b5cbe1a6 input.sk-toggleable__control:checked~div.sk-toggleable__content {max-height: 200px;max-width: 100%;overflow: auto;}#sk-008b299a-49d9-4bf6-a95c-acf5b5cbe1a6 input.sk-toggleable__control:checked~label.sk-toggleable__label-arrow:before {content: \"▾\";}#sk-008b299a-49d9-4bf6-a95c-acf5b5cbe1a6 div.sk-estimator input.sk-toggleable__control:checked~label.sk-toggleable__label {background-color: #d4ebff;}#sk-008b299a-49d9-4bf6-a95c-acf5b5cbe1a6 div.sk-label input.sk-toggleable__control:checked~label.sk-toggleable__label {background-color: #d4ebff;}#sk-008b299a-49d9-4bf6-a95c-acf5b5cbe1a6 input.sk-hidden--visually {border: 0;clip: rect(1px 1px 1px 1px);clip: rect(1px, 1px, 1px, 1px);height: 1px;margin: -1px;overflow: hidden;padding: 0;position: absolute;width: 1px;}#sk-008b299a-49d9-4bf6-a95c-acf5b5cbe1a6 div.sk-estimator {font-family: monospace;background-color: #f0f8ff;border: 1px dotted black;border-radius: 0.25em;box-sizing: border-box;margin-bottom: 0.5em;}#sk-008b299a-49d9-4bf6-a95c-acf5b5cbe1a6 div.sk-estimator:hover {background-color: #d4ebff;}#sk-008b299a-49d9-4bf6-a95c-acf5b5cbe1a6 div.sk-parallel-item::after {content: \"\";width: 100%;border-bottom: 1px solid gray;flex-grow: 1;}#sk-008b299a-49d9-4bf6-a95c-acf5b5cbe1a6 div.sk-label:hover label.sk-toggleable__label {background-color: #d4ebff;}#sk-008b299a-49d9-4bf6-a95c-acf5b5cbe1a6 div.sk-serial::before {content: \"\";position: absolute;border-left: 1px solid gray;box-sizing: border-box;top: 2em;bottom: 0;left: 50%;}#sk-008b299a-49d9-4bf6-a95c-acf5b5cbe1a6 div.sk-serial {display: flex;flex-direction: column;align-items: center;background-color: white;padding-right: 0.2em;padding-left: 0.2em;}#sk-008b299a-49d9-4bf6-a95c-acf5b5cbe1a6 div.sk-item {z-index: 1;}#sk-008b299a-49d9-4bf6-a95c-acf5b5cbe1a6 div.sk-parallel {display: flex;align-items: stretch;justify-content: center;background-color: white;}#sk-008b299a-49d9-4bf6-a95c-acf5b5cbe1a6 div.sk-parallel::before {content: \"\";position: absolute;border-left: 1px solid gray;box-sizing: border-box;top: 2em;bottom: 0;left: 50%;}#sk-008b299a-49d9-4bf6-a95c-acf5b5cbe1a6 div.sk-parallel-item {display: flex;flex-direction: column;position: relative;background-color: white;}#sk-008b299a-49d9-4bf6-a95c-acf5b5cbe1a6 div.sk-parallel-item:first-child::after {align-self: flex-end;width: 50%;}#sk-008b299a-49d9-4bf6-a95c-acf5b5cbe1a6 div.sk-parallel-item:last-child::after {align-self: flex-start;width: 50%;}#sk-008b299a-49d9-4bf6-a95c-acf5b5cbe1a6 div.sk-parallel-item:only-child::after {width: 0;}#sk-008b299a-49d9-4bf6-a95c-acf5b5cbe1a6 div.sk-dashed-wrapped {border: 1px dashed gray;margin: 0 0.4em 0.5em 0.4em;box-sizing: border-box;padding-bottom: 0.4em;background-color: white;position: relative;}#sk-008b299a-49d9-4bf6-a95c-acf5b5cbe1a6 div.sk-label label {font-family: monospace;font-weight: bold;background-color: white;display: inline-block;line-height: 1.2em;}#sk-008b299a-49d9-4bf6-a95c-acf5b5cbe1a6 div.sk-label-container {position: relative;z-index: 2;text-align: center;}#sk-008b299a-49d9-4bf6-a95c-acf5b5cbe1a6 div.sk-container {/* jupyter's `normalize.less` sets `[hidden] { display: none; }` but bootstrap.min.css set `[hidden] { display: none !important; }` so we also need the `!important` here to be able to override the default hidden behavior on the sphinx rendered scikit-learn.org. See: https://github.com/scikit-learn/scikit-learn/issues/21755 */display: inline-block !important;position: relative;}#sk-008b299a-49d9-4bf6-a95c-acf5b5cbe1a6 div.sk-text-repr-fallback {display: none;}</style><div id=\"sk-008b299a-49d9-4bf6-a95c-acf5b5cbe1a6\" class=\"sk-top-container\"><div class=\"sk-text-repr-fallback\"><pre>Pipeline(steps=[(&#x27;preprocessing&#x27;,\n",
              "                 ColumnTransformer(transformers=[(&#x27;num&#x27;,\n",
              "                                                  Pipeline(steps=[(&#x27;imputer&#x27;,\n",
              "                                                                   SimpleImputer(strategy=&#x27;median&#x27;)),\n",
              "                                                                  (&#x27;scaler&#x27;,\n",
              "                                                                   StandardScaler())]),\n",
              "                                                  [&#x27;NUMBER_OF_SEATS&#x27;,\n",
              "                                                   &#x27;PLANE_AGE&#x27;, &#x27;PRCP&#x27;, &#x27;SNOW&#x27;,\n",
              "                                                   &#x27;SNWD&#x27;, &#x27;TMAX&#x27;, &#x27;AWND&#x27;,\n",
              "                                                   &#x27;FLT_ATTENDANTS_PER_PASS&#x27;,\n",
              "                                                   &#x27;GROUND_SERV_PER_PASS&#x27;]),\n",
              "                                                 (&#x27;cat&#x27;,\n",
              "                                                  Pipeline(steps=[(&#x27;imputer&#x27;,\n",
              "                                                                   SimpleImputer(strategy=&#x27;most_frequent&#x27;)),\n",
              "                                                                  (&#x27;cat_encoder&#x27;,\n",
              "                                                                   OneHotEncoder(drop=&#x27;first&#x27;,\n",
              "                                                                                 sparse=False))]),\n",
              "                                                  [&#x27;DEP_TIME_BLK&#x27;,\n",
              "                                                   &#x27;DAY_OF_WEEK&#x27;,\n",
              "                                                   &#x27;DISTANCE_GROUP&#x27;,\n",
              "                                                   &#x27;SEGMENT_NUMBER&#x27;,\n",
              "                                                   &#x27;MONTH&#x27;])])),\n",
              "                (&#x27;LogisticRegression&#x27;, LogisticRegression())])</pre><b>Please rerun this cell to show the HTML repr or trust the notebook.</b></div><div class=\"sk-container\" hidden><div class=\"sk-item sk-dashed-wrapped\"><div class=\"sk-label-container\"><div class=\"sk-label sk-toggleable\"><input class=\"sk-toggleable__control sk-hidden--visually\" id=\"47baa51a-366c-42a6-8ea3-2657b32c3c1c\" type=\"checkbox\" ><label for=\"47baa51a-366c-42a6-8ea3-2657b32c3c1c\" class=\"sk-toggleable__label sk-toggleable__label-arrow\">Pipeline</label><div class=\"sk-toggleable__content\"><pre>Pipeline(steps=[(&#x27;preprocessing&#x27;,\n",
              "                 ColumnTransformer(transformers=[(&#x27;num&#x27;,\n",
              "                                                  Pipeline(steps=[(&#x27;imputer&#x27;,\n",
              "                                                                   SimpleImputer(strategy=&#x27;median&#x27;)),\n",
              "                                                                  (&#x27;scaler&#x27;,\n",
              "                                                                   StandardScaler())]),\n",
              "                                                  [&#x27;NUMBER_OF_SEATS&#x27;,\n",
              "                                                   &#x27;PLANE_AGE&#x27;, &#x27;PRCP&#x27;, &#x27;SNOW&#x27;,\n",
              "                                                   &#x27;SNWD&#x27;, &#x27;TMAX&#x27;, &#x27;AWND&#x27;,\n",
              "                                                   &#x27;FLT_ATTENDANTS_PER_PASS&#x27;,\n",
              "                                                   &#x27;GROUND_SERV_PER_PASS&#x27;]),\n",
              "                                                 (&#x27;cat&#x27;,\n",
              "                                                  Pipeline(steps=[(&#x27;imputer&#x27;,\n",
              "                                                                   SimpleImputer(strategy=&#x27;most_frequent&#x27;)),\n",
              "                                                                  (&#x27;cat_encoder&#x27;,\n",
              "                                                                   OneHotEncoder(drop=&#x27;first&#x27;,\n",
              "                                                                                 sparse=False))]),\n",
              "                                                  [&#x27;DEP_TIME_BLK&#x27;,\n",
              "                                                   &#x27;DAY_OF_WEEK&#x27;,\n",
              "                                                   &#x27;DISTANCE_GROUP&#x27;,\n",
              "                                                   &#x27;SEGMENT_NUMBER&#x27;,\n",
              "                                                   &#x27;MONTH&#x27;])])),\n",
              "                (&#x27;LogisticRegression&#x27;, LogisticRegression())])</pre></div></div></div><div class=\"sk-serial\"><div class=\"sk-item sk-dashed-wrapped\"><div class=\"sk-label-container\"><div class=\"sk-label sk-toggleable\"><input class=\"sk-toggleable__control sk-hidden--visually\" id=\"21566137-3f90-44ff-8704-f401d010be30\" type=\"checkbox\" ><label for=\"21566137-3f90-44ff-8704-f401d010be30\" class=\"sk-toggleable__label sk-toggleable__label-arrow\">preprocessing: ColumnTransformer</label><div class=\"sk-toggleable__content\"><pre>ColumnTransformer(transformers=[(&#x27;num&#x27;,\n",
              "                                 Pipeline(steps=[(&#x27;imputer&#x27;,\n",
              "                                                  SimpleImputer(strategy=&#x27;median&#x27;)),\n",
              "                                                 (&#x27;scaler&#x27;, StandardScaler())]),\n",
              "                                 [&#x27;NUMBER_OF_SEATS&#x27;, &#x27;PLANE_AGE&#x27;, &#x27;PRCP&#x27;,\n",
              "                                  &#x27;SNOW&#x27;, &#x27;SNWD&#x27;, &#x27;TMAX&#x27;, &#x27;AWND&#x27;,\n",
              "                                  &#x27;FLT_ATTENDANTS_PER_PASS&#x27;,\n",
              "                                  &#x27;GROUND_SERV_PER_PASS&#x27;]),\n",
              "                                (&#x27;cat&#x27;,\n",
              "                                 Pipeline(steps=[(&#x27;imputer&#x27;,\n",
              "                                                  SimpleImputer(strategy=&#x27;most_frequent&#x27;)),\n",
              "                                                 (&#x27;cat_encoder&#x27;,\n",
              "                                                  OneHotEncoder(drop=&#x27;first&#x27;,\n",
              "                                                                sparse=False))]),\n",
              "                                 [&#x27;DEP_TIME_BLK&#x27;, &#x27;DAY_OF_WEEK&#x27;,\n",
              "                                  &#x27;DISTANCE_GROUP&#x27;, &#x27;SEGMENT_NUMBER&#x27;,\n",
              "                                  &#x27;MONTH&#x27;])])</pre></div></div></div><div class=\"sk-parallel\"><div class=\"sk-parallel-item\"><div class=\"sk-item\"><div class=\"sk-label-container\"><div class=\"sk-label sk-toggleable\"><input class=\"sk-toggleable__control sk-hidden--visually\" id=\"fa626928-3eba-49b6-a3f1-fe8f935cb87f\" type=\"checkbox\" ><label for=\"fa626928-3eba-49b6-a3f1-fe8f935cb87f\" class=\"sk-toggleable__label sk-toggleable__label-arrow\">num</label><div class=\"sk-toggleable__content\"><pre>[&#x27;NUMBER_OF_SEATS&#x27;, &#x27;PLANE_AGE&#x27;, &#x27;PRCP&#x27;, &#x27;SNOW&#x27;, &#x27;SNWD&#x27;, &#x27;TMAX&#x27;, &#x27;AWND&#x27;, &#x27;FLT_ATTENDANTS_PER_PASS&#x27;, &#x27;GROUND_SERV_PER_PASS&#x27;]</pre></div></div></div><div class=\"sk-serial\"><div class=\"sk-item\"><div class=\"sk-serial\"><div class=\"sk-item\"><div class=\"sk-estimator sk-toggleable\"><input class=\"sk-toggleable__control sk-hidden--visually\" id=\"1a1e5801-5139-4576-960e-cfe63f715a9c\" type=\"checkbox\" ><label for=\"1a1e5801-5139-4576-960e-cfe63f715a9c\" class=\"sk-toggleable__label sk-toggleable__label-arrow\">SimpleImputer</label><div class=\"sk-toggleable__content\"><pre>SimpleImputer(strategy=&#x27;median&#x27;)</pre></div></div></div><div class=\"sk-item\"><div class=\"sk-estimator sk-toggleable\"><input class=\"sk-toggleable__control sk-hidden--visually\" id=\"75b98279-ae31-4f62-a829-b7111f816bc1\" type=\"checkbox\" ><label for=\"75b98279-ae31-4f62-a829-b7111f816bc1\" class=\"sk-toggleable__label sk-toggleable__label-arrow\">StandardScaler</label><div class=\"sk-toggleable__content\"><pre>StandardScaler()</pre></div></div></div></div></div></div></div></div><div class=\"sk-parallel-item\"><div class=\"sk-item\"><div class=\"sk-label-container\"><div class=\"sk-label sk-toggleable\"><input class=\"sk-toggleable__control sk-hidden--visually\" id=\"ed05cf85-2298-428b-b803-2764fe4b39d4\" type=\"checkbox\" ><label for=\"ed05cf85-2298-428b-b803-2764fe4b39d4\" class=\"sk-toggleable__label sk-toggleable__label-arrow\">cat</label><div class=\"sk-toggleable__content\"><pre>[&#x27;DEP_TIME_BLK&#x27;, &#x27;DAY_OF_WEEK&#x27;, &#x27;DISTANCE_GROUP&#x27;, &#x27;SEGMENT_NUMBER&#x27;, &#x27;MONTH&#x27;]</pre></div></div></div><div class=\"sk-serial\"><div class=\"sk-item\"><div class=\"sk-serial\"><div class=\"sk-item\"><div class=\"sk-estimator sk-toggleable\"><input class=\"sk-toggleable__control sk-hidden--visually\" id=\"a2b716ff-add3-4d06-859d-0b925228d5b3\" type=\"checkbox\" ><label for=\"a2b716ff-add3-4d06-859d-0b925228d5b3\" class=\"sk-toggleable__label sk-toggleable__label-arrow\">SimpleImputer</label><div class=\"sk-toggleable__content\"><pre>SimpleImputer(strategy=&#x27;most_frequent&#x27;)</pre></div></div></div><div class=\"sk-item\"><div class=\"sk-estimator sk-toggleable\"><input class=\"sk-toggleable__control sk-hidden--visually\" id=\"dea773a0-e71d-4d9f-b693-2b9bd3d65466\" type=\"checkbox\" ><label for=\"dea773a0-e71d-4d9f-b693-2b9bd3d65466\" class=\"sk-toggleable__label sk-toggleable__label-arrow\">OneHotEncoder</label><div class=\"sk-toggleable__content\"><pre>OneHotEncoder(drop=&#x27;first&#x27;, sparse=False)</pre></div></div></div></div></div></div></div></div></div></div><div class=\"sk-item\"><div class=\"sk-estimator sk-toggleable\"><input class=\"sk-toggleable__control sk-hidden--visually\" id=\"48b07e09-c467-46d9-86dc-4cdc6911fcc3\" type=\"checkbox\" ><label for=\"48b07e09-c467-46d9-86dc-4cdc6911fcc3\" class=\"sk-toggleable__label sk-toggleable__label-arrow\">LogisticRegression</label><div class=\"sk-toggleable__content\"><pre>LogisticRegression()</pre></div></div></div></div></div></div></div>"
            ]
          },
          "metadata": {},
          "execution_count": 211
        }
      ]
    },
    {
      "cell_type": "code",
      "source": [
        "from sklearn.svm import SVC\n",
        "\n",
        "lin_svc = SVC(C=1, kernel='poly', degree=1) \n",
        "lin_svc.fit(X_train, y_train)\n",
        "\n",
        "print(lin_svc.n_support_) \n",
        "\n",
        "# print(lin_svc.support_vectors_)"
      ],
      "metadata": {
        "id": "mXZsVqlDbNA3",
        "colab": {
          "base_uri": "https://localhost:8080/"
        },
        "outputId": "88f7b50a-3d77-467c-c440-b1ec1e4a3dcc"
      },
      "execution_count": null,
      "outputs": [
        {
          "output_type": "stream",
          "name": "stdout",
          "text": [
            "[2496 1857]\n"
          ]
        }
      ]
    },
    {
      "cell_type": "code",
      "source": [
        "accuracy_score(y_test, y_pred)"
      ],
      "metadata": {
        "colab": {
          "base_uri": "https://localhost:8080/"
        },
        "id": "46sy5GWe5lFi",
        "outputId": "2ee37609-573a-4539-8471-ed9d5a7e8bd6"
      },
      "execution_count": null,
      "outputs": [
        {
          "output_type": "execute_result",
          "data": {
            "text/plain": [
              "0.7725"
            ]
          },
          "metadata": {},
          "execution_count": 213
        }
      ]
    },
    {
      "cell_type": "code",
      "source": [
        "balanced_accuracy_score(y_test, y_pred)"
      ],
      "metadata": {
        "colab": {
          "base_uri": "https://localhost:8080/"
        },
        "id": "WDnWJIWl5vSZ",
        "outputId": "eabfab55-ee7d-4343-a55b-7e2129710565"
      },
      "execution_count": null,
      "outputs": [
        {
          "output_type": "execute_result",
          "data": {
            "text/plain": [
              "0.5229158833807986"
            ]
          },
          "metadata": {},
          "execution_count": 214
        }
      ]
    },
    {
      "cell_type": "code",
      "source": [
        "ConfusionMatrixDisplay.from_predictions(y_test, y_pred);"
      ],
      "metadata": {
        "colab": {
          "base_uri": "https://localhost:8080/",
          "height": 276
        },
        "id": "BC3UTXMP6JZe",
        "outputId": "0b4243ff-f496-44b1-c57f-1cbef84a2c42"
      },
      "execution_count": null,
      "outputs": [
        {
          "output_type": "display_data",
          "data": {
            "text/plain": [
              "<Figure size 432x288 with 2 Axes>"
            ],
            "image/png": "[encoded data removed]"
          },
          "metadata": {}
        }
      ]
    },
    {
      "cell_type": "code",
      "source": [
        "print(classification_report(y_test, y_pred))"
      ],
      "metadata": {
        "colab": {
          "base_uri": "https://localhost:8080/"
        },
        "id": "20MkiJqf6QZL",
        "outputId": "9d7f33e0-0cb6-4526-aaca-b69b90fbf857"
      },
      "execution_count": null,
      "outputs": [
        {
          "output_type": "stream",
          "name": "stdout",
          "text": [
            "              precision    recall  f1-score   support\n",
            "\n",
            "           0       0.78      0.97      0.87      1553\n",
            "           1       0.44      0.07      0.12       447\n",
            "\n",
            "    accuracy                           0.77      2000\n",
            "   macro avg       0.61      0.52      0.50      2000\n",
            "weighted avg       0.71      0.77      0.70      2000\n",
            "\n"
          ]
        }
      ]
    },
    {
      "cell_type": "code",
      "source": [
        "svc_pipe = make_pipeline(preprocess_pipeline, SVC(gamma=\"auto\"))\n",
        "svc_scores = cross_val_score(svc_pipe, X, y, cv=10, scoring='balanced_accuracy')\n",
        "svc_scores.mean().round(2)"
      ],
      "metadata": {
        "colab": {
          "base_uri": "https://localhost:8080/"
        },
        "id": "zgRfyf-y66Oi",
        "outputId": "f152cf93-e69e-478a-9f9d-385b30eaa492"
      },
      "execution_count": null,
      "outputs": [
        {
          "output_type": "execute_result",
          "data": {
            "text/plain": [
              "0.51"
            ]
          },
          "metadata": {},
          "execution_count": 217
        }
      ]
    },
    {
      "cell_type": "markdown",
      "source": [
        "### KNN"
      ],
      "metadata": {
        "id": "3CfR-krQzeZ_"
      }
    },
    {
      "cell_type": "markdown",
      "source": [
        "For our fourth machine learning model, we will look at KNN (K-nearest neighbours). KNN will classify the points that are more similar to it and predict flight delays depending on the classifications."
      ],
      "metadata": {
        "id": "EfwRmvnh8B7W"
      }
    },
    {
      "cell_type": "code",
      "source": [
        "full_pipeline_knn = Pipeline([\n",
        "    ('preprocessing', preprocess_pipeline),\n",
        "    ('KNN', KNeighborsClassifier(n_neighbors=10)),\n",
        "])\n",
        "\n",
        "full_pipeline_lr"
      ],
      "metadata": {
        "id": "GPntZ4t3Jljn",
        "colab": {
          "base_uri": "https://localhost:8080/",
          "height": 227
        },
        "outputId": "867ed777-d698-4bfa-ea97-528f1557f455"
      },
      "execution_count": null,
      "outputs": [
        {
          "output_type": "execute_result",
          "data": {
            "text/plain": [
              "Pipeline(steps=[('preprocessing',\n",
              "                 ColumnTransformer(transformers=[('num',\n",
              "                                                  Pipeline(steps=[('imputer',\n",
              "                                                                   SimpleImputer(strategy='median')),\n",
              "                                                                  ('scaler',\n",
              "                                                                   StandardScaler())]),\n",
              "                                                  ['NUMBER_OF_SEATS',\n",
              "                                                   'PLANE_AGE', 'PRCP', 'SNOW',\n",
              "                                                   'SNWD', 'TMAX', 'AWND',\n",
              "                                                   'FLT_ATTENDANTS_PER_PASS',\n",
              "                                                   'GROUND_SERV_PER_PASS']),\n",
              "                                                 ('cat',\n",
              "                                                  Pipeline(steps=[('imputer',\n",
              "                                                                   SimpleImputer(strategy='most_frequent')),\n",
              "                                                                  ('cat_encoder',\n",
              "                                                                   OneHotEncoder(drop='first',\n",
              "                                                                                 sparse=False))]),\n",
              "                                                  ['DEP_TIME_BLK',\n",
              "                                                   'DAY_OF_WEEK',\n",
              "                                                   'DISTANCE_GROUP',\n",
              "                                                   'SEGMENT_NUMBER',\n",
              "                                                   'MONTH'])])),\n",
              "                ('LogisticRegression', LogisticRegression())])"
            ],
            "text/html": [
              "<style>#sk-a12c7267-61fa-4452-9559-f40442e311a2 {color: black;background-color: white;}#sk-a12c7267-61fa-4452-9559-f40442e311a2 pre{padding: 0;}#sk-a12c7267-61fa-4452-9559-f40442e311a2 div.sk-toggleable {background-color: white;}#sk-a12c7267-61fa-4452-9559-f40442e311a2 label.sk-toggleable__label {cursor: pointer;display: block;width: 100%;margin-bottom: 0;padding: 0.3em;box-sizing: border-box;text-align: center;}#sk-a12c7267-61fa-4452-9559-f40442e311a2 label.sk-toggleable__label-arrow:before {content: \"▸\";float: left;margin-right: 0.25em;color: #696969;}#sk-a12c7267-61fa-4452-9559-f40442e311a2 label.sk-toggleable__label-arrow:hover:before {color: black;}#sk-a12c7267-61fa-4452-9559-f40442e311a2 div.sk-estimator:hover label.sk-toggleable__label-arrow:before {color: black;}#sk-a12c7267-61fa-4452-9559-f40442e311a2 div.sk-toggleable__content {max-height: 0;max-width: 0;overflow: hidden;text-align: left;background-color: #f0f8ff;}#sk-a12c7267-61fa-4452-9559-f40442e311a2 div.sk-toggleable__content pre {margin: 0.2em;color: black;border-radius: 0.25em;background-color: #f0f8ff;}#sk-a12c7267-61fa-4452-9559-f40442e311a2 input.sk-toggleable__control:checked~div.sk-toggleable__content {max-height: 200px;max-width: 100%;overflow: auto;}#sk-a12c7267-61fa-4452-9559-f40442e311a2 input.sk-toggleable__control:checked~label.sk-toggleable__label-arrow:before {content: \"▾\";}#sk-a12c7267-61fa-4452-9559-f40442e311a2 div.sk-estimator input.sk-toggleable__control:checked~label.sk-toggleable__label {background-color: #d4ebff;}#sk-a12c7267-61fa-4452-9559-f40442e311a2 div.sk-label input.sk-toggleable__control:checked~label.sk-toggleable__label {background-color: #d4ebff;}#sk-a12c7267-61fa-4452-9559-f40442e311a2 input.sk-hidden--visually {border: 0;clip: rect(1px 1px 1px 1px);clip: rect(1px, 1px, 1px, 1px);height: 1px;margin: -1px;overflow: hidden;padding: 0;position: absolute;width: 1px;}#sk-a12c7267-61fa-4452-9559-f40442e311a2 div.sk-estimator {font-family: monospace;background-color: #f0f8ff;border: 1px dotted black;border-radius: 0.25em;box-sizing: border-box;margin-bottom: 0.5em;}#sk-a12c7267-61fa-4452-9559-f40442e311a2 div.sk-estimator:hover {background-color: #d4ebff;}#sk-a12c7267-61fa-4452-9559-f40442e311a2 div.sk-parallel-item::after {content: \"\";width: 100%;border-bottom: 1px solid gray;flex-grow: 1;}#sk-a12c7267-61fa-4452-9559-f40442e311a2 div.sk-label:hover label.sk-toggleable__label {background-color: #d4ebff;}#sk-a12c7267-61fa-4452-9559-f40442e311a2 div.sk-serial::before {content: \"\";position: absolute;border-left: 1px solid gray;box-sizing: border-box;top: 2em;bottom: 0;left: 50%;}#sk-a12c7267-61fa-4452-9559-f40442e311a2 div.sk-serial {display: flex;flex-direction: column;align-items: center;background-color: white;padding-right: 0.2em;padding-left: 0.2em;}#sk-a12c7267-61fa-4452-9559-f40442e311a2 div.sk-item {z-index: 1;}#sk-a12c7267-61fa-4452-9559-f40442e311a2 div.sk-parallel {display: flex;align-items: stretch;justify-content: center;background-color: white;}#sk-a12c7267-61fa-4452-9559-f40442e311a2 div.sk-parallel::before {content: \"\";position: absolute;border-left: 1px solid gray;box-sizing: border-box;top: 2em;bottom: 0;left: 50%;}#sk-a12c7267-61fa-4452-9559-f40442e311a2 div.sk-parallel-item {display: flex;flex-direction: column;position: relative;background-color: white;}#sk-a12c7267-61fa-4452-9559-f40442e311a2 div.sk-parallel-item:first-child::after {align-self: flex-end;width: 50%;}#sk-a12c7267-61fa-4452-9559-f40442e311a2 div.sk-parallel-item:last-child::after {align-self: flex-start;width: 50%;}#sk-a12c7267-61fa-4452-9559-f40442e311a2 div.sk-parallel-item:only-child::after {width: 0;}#sk-a12c7267-61fa-4452-9559-f40442e311a2 div.sk-dashed-wrapped {border: 1px dashed gray;margin: 0 0.4em 0.5em 0.4em;box-sizing: border-box;padding-bottom: 0.4em;background-color: white;position: relative;}#sk-a12c7267-61fa-4452-9559-f40442e311a2 div.sk-label label {font-family: monospace;font-weight: bold;background-color: white;display: inline-block;line-height: 1.2em;}#sk-a12c7267-61fa-4452-9559-f40442e311a2 div.sk-label-container {position: relative;z-index: 2;text-align: center;}#sk-a12c7267-61fa-4452-9559-f40442e311a2 div.sk-container {/* jupyter's `normalize.less` sets `[hidden] { display: none; }` but bootstrap.min.css set `[hidden] { display: none !important; }` so we also need the `!important` here to be able to override the default hidden behavior on the sphinx rendered scikit-learn.org. See: https://github.com/scikit-learn/scikit-learn/issues/21755 */display: inline-block !important;position: relative;}#sk-a12c7267-61fa-4452-9559-f40442e311a2 div.sk-text-repr-fallback {display: none;}</style><div id=\"sk-a12c7267-61fa-4452-9559-f40442e311a2\" class=\"sk-top-container\"><div class=\"sk-text-repr-fallback\"><pre>Pipeline(steps=[(&#x27;preprocessing&#x27;,\n",
              "                 ColumnTransformer(transformers=[(&#x27;num&#x27;,\n",
              "                                                  Pipeline(steps=[(&#x27;imputer&#x27;,\n",
              "                                                                   SimpleImputer(strategy=&#x27;median&#x27;)),\n",
              "                                                                  (&#x27;scaler&#x27;,\n",
              "                                                                   StandardScaler())]),\n",
              "                                                  [&#x27;NUMBER_OF_SEATS&#x27;,\n",
              "                                                   &#x27;PLANE_AGE&#x27;, &#x27;PRCP&#x27;, &#x27;SNOW&#x27;,\n",
              "                                                   &#x27;SNWD&#x27;, &#x27;TMAX&#x27;, &#x27;AWND&#x27;,\n",
              "                                                   &#x27;FLT_ATTENDANTS_PER_PASS&#x27;,\n",
              "                                                   &#x27;GROUND_SERV_PER_PASS&#x27;]),\n",
              "                                                 (&#x27;cat&#x27;,\n",
              "                                                  Pipeline(steps=[(&#x27;imputer&#x27;,\n",
              "                                                                   SimpleImputer(strategy=&#x27;most_frequent&#x27;)),\n",
              "                                                                  (&#x27;cat_encoder&#x27;,\n",
              "                                                                   OneHotEncoder(drop=&#x27;first&#x27;,\n",
              "                                                                                 sparse=False))]),\n",
              "                                                  [&#x27;DEP_TIME_BLK&#x27;,\n",
              "                                                   &#x27;DAY_OF_WEEK&#x27;,\n",
              "                                                   &#x27;DISTANCE_GROUP&#x27;,\n",
              "                                                   &#x27;SEGMENT_NUMBER&#x27;,\n",
              "                                                   &#x27;MONTH&#x27;])])),\n",
              "                (&#x27;LogisticRegression&#x27;, LogisticRegression())])</pre><b>Please rerun this cell to show the HTML repr or trust the notebook.</b></div><div class=\"sk-container\" hidden><div class=\"sk-item sk-dashed-wrapped\"><div class=\"sk-label-container\"><div class=\"sk-label sk-toggleable\"><input class=\"sk-toggleable__control sk-hidden--visually\" id=\"7e53ab44-39d5-4e66-8d18-7714f55434b7\" type=\"checkbox\" ><label for=\"7e53ab44-39d5-4e66-8d18-7714f55434b7\" class=\"sk-toggleable__label sk-toggleable__label-arrow\">Pipeline</label><div class=\"sk-toggleable__content\"><pre>Pipeline(steps=[(&#x27;preprocessing&#x27;,\n",
              "                 ColumnTransformer(transformers=[(&#x27;num&#x27;,\n",
              "                                                  Pipeline(steps=[(&#x27;imputer&#x27;,\n",
              "                                                                   SimpleImputer(strategy=&#x27;median&#x27;)),\n",
              "                                                                  (&#x27;scaler&#x27;,\n",
              "                                                                   StandardScaler())]),\n",
              "                                                  [&#x27;NUMBER_OF_SEATS&#x27;,\n",
              "                                                   &#x27;PLANE_AGE&#x27;, &#x27;PRCP&#x27;, &#x27;SNOW&#x27;,\n",
              "                                                   &#x27;SNWD&#x27;, &#x27;TMAX&#x27;, &#x27;AWND&#x27;,\n",
              "                                                   &#x27;FLT_ATTENDANTS_PER_PASS&#x27;,\n",
              "                                                   &#x27;GROUND_SERV_PER_PASS&#x27;]),\n",
              "                                                 (&#x27;cat&#x27;,\n",
              "                                                  Pipeline(steps=[(&#x27;imputer&#x27;,\n",
              "                                                                   SimpleImputer(strategy=&#x27;most_frequent&#x27;)),\n",
              "                                                                  (&#x27;cat_encoder&#x27;,\n",
              "                                                                   OneHotEncoder(drop=&#x27;first&#x27;,\n",
              "                                                                                 sparse=False))]),\n",
              "                                                  [&#x27;DEP_TIME_BLK&#x27;,\n",
              "                                                   &#x27;DAY_OF_WEEK&#x27;,\n",
              "                                                   &#x27;DISTANCE_GROUP&#x27;,\n",
              "                                                   &#x27;SEGMENT_NUMBER&#x27;,\n",
              "                                                   &#x27;MONTH&#x27;])])),\n",
              "                (&#x27;LogisticRegression&#x27;, LogisticRegression())])</pre></div></div></div><div class=\"sk-serial\"><div class=\"sk-item sk-dashed-wrapped\"><div class=\"sk-label-container\"><div class=\"sk-label sk-toggleable\"><input class=\"sk-toggleable__control sk-hidden--visually\" id=\"d79eb1ac-f834-4323-886d-89ba8db9f5aa\" type=\"checkbox\" ><label for=\"d79eb1ac-f834-4323-886d-89ba8db9f5aa\" class=\"sk-toggleable__label sk-toggleable__label-arrow\">preprocessing: ColumnTransformer</label><div class=\"sk-toggleable__content\"><pre>ColumnTransformer(transformers=[(&#x27;num&#x27;,\n",
              "                                 Pipeline(steps=[(&#x27;imputer&#x27;,\n",
              "                                                  SimpleImputer(strategy=&#x27;median&#x27;)),\n",
              "                                                 (&#x27;scaler&#x27;, StandardScaler())]),\n",
              "                                 [&#x27;NUMBER_OF_SEATS&#x27;, &#x27;PLANE_AGE&#x27;, &#x27;PRCP&#x27;,\n",
              "                                  &#x27;SNOW&#x27;, &#x27;SNWD&#x27;, &#x27;TMAX&#x27;, &#x27;AWND&#x27;,\n",
              "                                  &#x27;FLT_ATTENDANTS_PER_PASS&#x27;,\n",
              "                                  &#x27;GROUND_SERV_PER_PASS&#x27;]),\n",
              "                                (&#x27;cat&#x27;,\n",
              "                                 Pipeline(steps=[(&#x27;imputer&#x27;,\n",
              "                                                  SimpleImputer(strategy=&#x27;most_frequent&#x27;)),\n",
              "                                                 (&#x27;cat_encoder&#x27;,\n",
              "                                                  OneHotEncoder(drop=&#x27;first&#x27;,\n",
              "                                                                sparse=False))]),\n",
              "                                 [&#x27;DEP_TIME_BLK&#x27;, &#x27;DAY_OF_WEEK&#x27;,\n",
              "                                  &#x27;DISTANCE_GROUP&#x27;, &#x27;SEGMENT_NUMBER&#x27;,\n",
              "                                  &#x27;MONTH&#x27;])])</pre></div></div></div><div class=\"sk-parallel\"><div class=\"sk-parallel-item\"><div class=\"sk-item\"><div class=\"sk-label-container\"><div class=\"sk-label sk-toggleable\"><input class=\"sk-toggleable__control sk-hidden--visually\" id=\"8194607f-426b-426f-8b55-ae3028964172\" type=\"checkbox\" ><label for=\"8194607f-426b-426f-8b55-ae3028964172\" class=\"sk-toggleable__label sk-toggleable__label-arrow\">num</label><div class=\"sk-toggleable__content\"><pre>[&#x27;NUMBER_OF_SEATS&#x27;, &#x27;PLANE_AGE&#x27;, &#x27;PRCP&#x27;, &#x27;SNOW&#x27;, &#x27;SNWD&#x27;, &#x27;TMAX&#x27;, &#x27;AWND&#x27;, &#x27;FLT_ATTENDANTS_PER_PASS&#x27;, &#x27;GROUND_SERV_PER_PASS&#x27;]</pre></div></div></div><div class=\"sk-serial\"><div class=\"sk-item\"><div class=\"sk-serial\"><div class=\"sk-item\"><div class=\"sk-estimator sk-toggleable\"><input class=\"sk-toggleable__control sk-hidden--visually\" id=\"242d0b0b-336c-4454-a036-a273aac31d5a\" type=\"checkbox\" ><label for=\"242d0b0b-336c-4454-a036-a273aac31d5a\" class=\"sk-toggleable__label sk-toggleable__label-arrow\">SimpleImputer</label><div class=\"sk-toggleable__content\"><pre>SimpleImputer(strategy=&#x27;median&#x27;)</pre></div></div></div><div class=\"sk-item\"><div class=\"sk-estimator sk-toggleable\"><input class=\"sk-toggleable__control sk-hidden--visually\" id=\"3215ef70-2817-4f9d-b0a8-d0e5c8e341ef\" type=\"checkbox\" ><label for=\"3215ef70-2817-4f9d-b0a8-d0e5c8e341ef\" class=\"sk-toggleable__label sk-toggleable__label-arrow\">StandardScaler</label><div class=\"sk-toggleable__content\"><pre>StandardScaler()</pre></div></div></div></div></div></div></div></div><div class=\"sk-parallel-item\"><div class=\"sk-item\"><div class=\"sk-label-container\"><div class=\"sk-label sk-toggleable\"><input class=\"sk-toggleable__control sk-hidden--visually\" id=\"f58196b1-099b-4cfc-8d3e-2f39461d5fea\" type=\"checkbox\" ><label for=\"f58196b1-099b-4cfc-8d3e-2f39461d5fea\" class=\"sk-toggleable__label sk-toggleable__label-arrow\">cat</label><div class=\"sk-toggleable__content\"><pre>[&#x27;DEP_TIME_BLK&#x27;, &#x27;DAY_OF_WEEK&#x27;, &#x27;DISTANCE_GROUP&#x27;, &#x27;SEGMENT_NUMBER&#x27;, &#x27;MONTH&#x27;]</pre></div></div></div><div class=\"sk-serial\"><div class=\"sk-item\"><div class=\"sk-serial\"><div class=\"sk-item\"><div class=\"sk-estimator sk-toggleable\"><input class=\"sk-toggleable__control sk-hidden--visually\" id=\"ffbc218c-a177-427f-afbf-25512438fa71\" type=\"checkbox\" ><label for=\"ffbc218c-a177-427f-afbf-25512438fa71\" class=\"sk-toggleable__label sk-toggleable__label-arrow\">SimpleImputer</label><div class=\"sk-toggleable__content\"><pre>SimpleImputer(strategy=&#x27;most_frequent&#x27;)</pre></div></div></div><div class=\"sk-item\"><div class=\"sk-estimator sk-toggleable\"><input class=\"sk-toggleable__control sk-hidden--visually\" id=\"637a60fe-74a9-40a8-aaa1-58dc6ce37d86\" type=\"checkbox\" ><label for=\"637a60fe-74a9-40a8-aaa1-58dc6ce37d86\" class=\"sk-toggleable__label sk-toggleable__label-arrow\">OneHotEncoder</label><div class=\"sk-toggleable__content\"><pre>OneHotEncoder(drop=&#x27;first&#x27;, sparse=False)</pre></div></div></div></div></div></div></div></div></div></div><div class=\"sk-item\"><div class=\"sk-estimator sk-toggleable\"><input class=\"sk-toggleable__control sk-hidden--visually\" id=\"c7bef5fd-b76c-4370-8cd7-ddfc3aea3795\" type=\"checkbox\" ><label for=\"c7bef5fd-b76c-4370-8cd7-ddfc3aea3795\" class=\"sk-toggleable__label sk-toggleable__label-arrow\">LogisticRegression</label><div class=\"sk-toggleable__content\"><pre>LogisticRegression()</pre></div></div></div></div></div></div></div>"
            ]
          },
          "metadata": {},
          "execution_count": 205
        }
      ]
    },
    {
      "cell_type": "code",
      "source": [
        "from sklearn.neighbors import KNeighborsClassifier\n",
        "\n",
        "knn = KNeighborsClassifier(n_neighbors=10)\n",
        "knn.fit(X_train, y_train)\n",
        "y_pred = knn.predict(X_test)\n",
        "#knn.get_params()"
      ],
      "metadata": {
        "id": "cp-vJ8WdzhGI"
      },
      "execution_count": null,
      "outputs": []
    },
    {
      "cell_type": "code",
      "source": [
        "accuracy_score(y_test, y_pred)"
      ],
      "metadata": {
        "id": "6QGi8VQL0BkR",
        "colab": {
          "base_uri": "https://localhost:8080/"
        },
        "outputId": "ef82234e-fd25-4f05-efb9-87fb94687ae2"
      },
      "execution_count": null,
      "outputs": [
        {
          "output_type": "execute_result",
          "data": {
            "text/plain": [
              "0.7725"
            ]
          },
          "metadata": {},
          "execution_count": 207
        }
      ]
    },
    {
      "cell_type": "code",
      "source": [
        "balanced_accuracy_score(y_test, y_pred)"
      ],
      "metadata": {
        "id": "K-yr62Wz2OdX",
        "colab": {
          "base_uri": "https://localhost:8080/"
        },
        "outputId": "6e75e77e-a254-454e-8db3-9303e180af68"
      },
      "execution_count": null,
      "outputs": [
        {
          "output_type": "execute_result",
          "data": {
            "text/plain": [
              "0.5229158833807986"
            ]
          },
          "metadata": {},
          "execution_count": 208
        }
      ]
    },
    {
      "cell_type": "code",
      "source": [
        "from sklearn.metrics import ConfusionMatrixDisplay, RocCurveDisplay\n",
        "ConfusionMatrixDisplay.from_predictions(y_test, y_pred);"
      ],
      "metadata": {
        "colab": {
          "base_uri": "https://localhost:8080/",
          "height": 276
        },
        "id": "6hXEEGFHFPAB",
        "outputId": "3ff28004-b31c-4519-8104-b2e22ba6aca3"
      },
      "execution_count": null,
      "outputs": [
        {
          "output_type": "display_data",
          "data": {
            "text/plain": [
              "<Figure size 432x288 with 2 Axes>"
            ],
            "image/png": "[encoded data removed]"
          },
          "metadata": {}
        }
      ]
    },
    {
      "cell_type": "code",
      "source": [
        "print(classification_report(y_test, y_pred))"
      ],
      "metadata": {
        "colab": {
          "base_uri": "https://localhost:8080/"
        },
        "id": "akqolHXAFSZh",
        "outputId": "3911555f-a03a-4d59-f180-e0bc7bae6841"
      },
      "execution_count": null,
      "outputs": [
        {
          "output_type": "stream",
          "name": "stdout",
          "text": [
            "              precision    recall  f1-score   support\n",
            "\n",
            "           0       0.78      0.97      0.87      1553\n",
            "           1       0.44      0.07      0.12       447\n",
            "\n",
            "    accuracy                           0.77      2000\n",
            "   macro avg       0.61      0.52      0.50      2000\n",
            "weighted avg       0.71      0.77      0.70      2000\n",
            "\n"
          ]
        }
      ]
    },
    {
      "cell_type": "code",
      "source": [
        "RocCurveDisplay.from_estimator(knn, X_test, y_test);"
      ],
      "metadata": {
        "colab": {
          "base_uri": "https://localhost:8080/",
          "height": 276
        },
        "id": "h2e__vp_FVVR",
        "outputId": "22187d9f-a14f-4f66-afcc-63664c6d47b2"
      },
      "execution_count": null,
      "outputs": [
        {
          "output_type": "display_data",
          "data": {
            "text/plain": [
              "<Figure size 432x288 with 1 Axes>"
            ],
            "image/png": "[encoded data removed]"
          },
          "metadata": {}
        }
      ]
    },
    {
      "cell_type": "code",
      "source": [
        "knn_pipe = make_pipeline(preprocess_pipeline, KNeighborsClassifier())\n",
        "knn_scores = cross_val_score(knn_pipe, X, y, cv=10, scoring='balanced_accuracy')\n",
        "knn_scores.mean().round(2)"
      ],
      "metadata": {
        "colab": {
          "base_uri": "https://localhost:8080/"
        },
        "id": "EofiO7z37AY0",
        "outputId": "55dedfd1-c417-4f24-a722-0dd7ee30af14"
      },
      "execution_count": null,
      "outputs": [
        {
          "output_type": "execute_result",
          "data": {
            "text/plain": [
              "0.55"
            ]
          },
          "metadata": {},
          "execution_count": 109
        }
      ]
    },
    {
      "cell_type": "markdown",
      "source": [
        "###Random Forest"
      ],
      "metadata": {
        "id": "d68eceY76zBZ"
      }
    },
    {
      "cell_type": "markdown",
      "source": [
        "For our last and fifth machine learning model, we will look at Random Forest. In our case, it is an ensemble learning method for classification, that operates by constructing a multitude of decision trees at training time."
      ],
      "metadata": {
        "id": "oIaqwzvK819H"
      }
    },
    {
      "cell_type": "code",
      "source": [
        "from sklearn.ensemble import RandomForestClassifier\n",
        "forest_clf = RandomForestClassifier(n_estimators=100, random_state=42, max_depth = 50, min_samples_leaf = 3, n_jobs = 3)\n",
        "forest_clf.fit(X_train, y_train)"
      ],
      "metadata": {
        "id": "OirSDZoB923A",
        "colab": {
          "base_uri": "https://localhost:8080/",
          "height": 92
        },
        "outputId": "51934826-c66d-4f58-b6f8-ac23c0816b51"
      },
      "execution_count": null,
      "outputs": [
        {
          "output_type": "execute_result",
          "data": {
            "text/plain": [
              "RandomForestClassifier(max_depth=50, min_samples_leaf=3, n_jobs=3,\n",
              "                       random_state=42)"
            ],
            "text/html": [
              "<style>#sk-7d36e327-905c-4014-9d94-448edd3b037d {color: black;background-color: white;}#sk-7d36e327-905c-4014-9d94-448edd3b037d pre{padding: 0;}#sk-7d36e327-905c-4014-9d94-448edd3b037d div.sk-toggleable {background-color: white;}#sk-7d36e327-905c-4014-9d94-448edd3b037d label.sk-toggleable__label {cursor: pointer;display: block;width: 100%;margin-bottom: 0;padding: 0.3em;box-sizing: border-box;text-align: center;}#sk-7d36e327-905c-4014-9d94-448edd3b037d label.sk-toggleable__label-arrow:before {content: \"▸\";float: left;margin-right: 0.25em;color: #696969;}#sk-7d36e327-905c-4014-9d94-448edd3b037d label.sk-toggleable__label-arrow:hover:before {color: black;}#sk-7d36e327-905c-4014-9d94-448edd3b037d div.sk-estimator:hover label.sk-toggleable__label-arrow:before {color: black;}#sk-7d36e327-905c-4014-9d94-448edd3b037d div.sk-toggleable__content {max-height: 0;max-width: 0;overflow: hidden;text-align: left;background-color: #f0f8ff;}#sk-7d36e327-905c-4014-9d94-448edd3b037d div.sk-toggleable__content pre {margin: 0.2em;color: black;border-radius: 0.25em;background-color: #f0f8ff;}#sk-7d36e327-905c-4014-9d94-448edd3b037d input.sk-toggleable__control:checked~div.sk-toggleable__content {max-height: 200px;max-width: 100%;overflow: auto;}#sk-7d36e327-905c-4014-9d94-448edd3b037d input.sk-toggleable__control:checked~label.sk-toggleable__label-arrow:before {content: \"▾\";}#sk-7d36e327-905c-4014-9d94-448edd3b037d div.sk-estimator input.sk-toggleable__control:checked~label.sk-toggleable__label {background-color: #d4ebff;}#sk-7d36e327-905c-4014-9d94-448edd3b037d div.sk-label input.sk-toggleable__control:checked~label.sk-toggleable__label {background-color: #d4ebff;}#sk-7d36e327-905c-4014-9d94-448edd3b037d input.sk-hidden--visually {border: 0;clip: rect(1px 1px 1px 1px);clip: rect(1px, 1px, 1px, 1px);height: 1px;margin: -1px;overflow: hidden;padding: 0;position: absolute;width: 1px;}#sk-7d36e327-905c-4014-9d94-448edd3b037d div.sk-estimator {font-family: monospace;background-color: #f0f8ff;border: 1px dotted black;border-radius: 0.25em;box-sizing: border-box;margin-bottom: 0.5em;}#sk-7d36e327-905c-4014-9d94-448edd3b037d div.sk-estimator:hover {background-color: #d4ebff;}#sk-7d36e327-905c-4014-9d94-448edd3b037d div.sk-parallel-item::after {content: \"\";width: 100%;border-bottom: 1px solid gray;flex-grow: 1;}#sk-7d36e327-905c-4014-9d94-448edd3b037d div.sk-label:hover label.sk-toggleable__label {background-color: #d4ebff;}#sk-7d36e327-905c-4014-9d94-448edd3b037d div.sk-serial::before {content: \"\";position: absolute;border-left: 1px solid gray;box-sizing: border-box;top: 2em;bottom: 0;left: 50%;}#sk-7d36e327-905c-4014-9d94-448edd3b037d div.sk-serial {display: flex;flex-direction: column;align-items: center;background-color: white;padding-right: 0.2em;padding-left: 0.2em;}#sk-7d36e327-905c-4014-9d94-448edd3b037d div.sk-item {z-index: 1;}#sk-7d36e327-905c-4014-9d94-448edd3b037d div.sk-parallel {display: flex;align-items: stretch;justify-content: center;background-color: white;}#sk-7d36e327-905c-4014-9d94-448edd3b037d div.sk-parallel::before {content: \"\";position: absolute;border-left: 1px solid gray;box-sizing: border-box;top: 2em;bottom: 0;left: 50%;}#sk-7d36e327-905c-4014-9d94-448edd3b037d div.sk-parallel-item {display: flex;flex-direction: column;position: relative;background-color: white;}#sk-7d36e327-905c-4014-9d94-448edd3b037d div.sk-parallel-item:first-child::after {align-self: flex-end;width: 50%;}#sk-7d36e327-905c-4014-9d94-448edd3b037d div.sk-parallel-item:last-child::after {align-self: flex-start;width: 50%;}#sk-7d36e327-905c-4014-9d94-448edd3b037d div.sk-parallel-item:only-child::after {width: 0;}#sk-7d36e327-905c-4014-9d94-448edd3b037d div.sk-dashed-wrapped {border: 1px dashed gray;margin: 0 0.4em 0.5em 0.4em;box-sizing: border-box;padding-bottom: 0.4em;background-color: white;position: relative;}#sk-7d36e327-905c-4014-9d94-448edd3b037d div.sk-label label {font-family: monospace;font-weight: bold;background-color: white;display: inline-block;line-height: 1.2em;}#sk-7d36e327-905c-4014-9d94-448edd3b037d div.sk-label-container {position: relative;z-index: 2;text-align: center;}#sk-7d36e327-905c-4014-9d94-448edd3b037d div.sk-container {/* jupyter's `normalize.less` sets `[hidden] { display: none; }` but bootstrap.min.css set `[hidden] { display: none !important; }` so we also need the `!important` here to be able to override the default hidden behavior on the sphinx rendered scikit-learn.org. See: https://github.com/scikit-learn/scikit-learn/issues/21755 */display: inline-block !important;position: relative;}#sk-7d36e327-905c-4014-9d94-448edd3b037d div.sk-text-repr-fallback {display: none;}</style><div id=\"sk-7d36e327-905c-4014-9d94-448edd3b037d\" class=\"sk-top-container\"><div class=\"sk-text-repr-fallback\"><pre>RandomForestClassifier(max_depth=50, min_samples_leaf=3, n_jobs=3,\n",
              "                       random_state=42)</pre><b>Please rerun this cell to show the HTML repr or trust the notebook.</b></div><div class=\"sk-container\" hidden><div class=\"sk-item\"><div class=\"sk-estimator sk-toggleable\"><input class=\"sk-toggleable__control sk-hidden--visually\" id=\"6b6f5e85-0093-473e-84b3-484d14427952\" type=\"checkbox\" checked><label for=\"6b6f5e85-0093-473e-84b3-484d14427952\" class=\"sk-toggleable__label sk-toggleable__label-arrow\">RandomForestClassifier</label><div class=\"sk-toggleable__content\"><pre>RandomForestClassifier(max_depth=50, min_samples_leaf=3, n_jobs=3,\n",
              "                       random_state=42)</pre></div></div></div></div></div>"
            ]
          },
          "metadata": {},
          "execution_count": 139
        }
      ]
    },
    {
      "cell_type": "code",
      "source": [
        "y_pred = forest_clf.predict(X_test)\n",
        "accuracy_score(y_test, y_pred)"
      ],
      "metadata": {
        "id": "aq6uS3BF-FbQ",
        "colab": {
          "base_uri": "https://localhost:8080/"
        },
        "outputId": "0b13edba-e4ae-4909-b1da-a60a87c02999"
      },
      "execution_count": null,
      "outputs": [
        {
          "output_type": "execute_result",
          "data": {
            "text/plain": [
              "0.785"
            ]
          },
          "metadata": {},
          "execution_count": 140
        }
      ]
    },
    {
      "cell_type": "code",
      "source": [
        "balanced_accuracy_score(y_test, y_pred).round(4)"
      ],
      "metadata": {
        "id": "6ly0EuJm-FYr",
        "colab": {
          "base_uri": "https://localhost:8080/"
        },
        "outputId": "7deb87d2-fc2f-4205-f9ba-4976db7e0de8"
      },
      "execution_count": null,
      "outputs": [
        {
          "output_type": "execute_result",
          "data": {
            "text/plain": [
              "0.5405"
            ]
          },
          "metadata": {},
          "execution_count": 141
        }
      ]
    },
    {
      "cell_type": "code",
      "source": [
        "from sklearn.metrics import confusion_matrix\n",
        "cm = confusion_matrix(y_test, y_pred)\n",
        "print(cm)"
      ],
      "metadata": {
        "id": "N1RNzRiU-FWe",
        "colab": {
          "base_uri": "https://localhost:8080/"
        },
        "outputId": "3491174e-de2c-4f9e-a569-9f3232a588b3"
      },
      "execution_count": null,
      "outputs": [
        {
          "output_type": "stream",
          "name": "stdout",
          "text": [
            "[[1526   27]\n",
            " [ 403   44]]\n"
          ]
        }
      ]
    },
    {
      "cell_type": "code",
      "source": [
        "from sklearn.metrics import ConfusionMatrixDisplay, RocCurveDisplay\n",
        "ConfusionMatrixDisplay.from_predictions(y_test, y_pred);"
      ],
      "metadata": {
        "colab": {
          "base_uri": "https://localhost:8080/",
          "height": 276
        },
        "id": "cNiTesL_40eC",
        "outputId": "a60fd9c0-440b-4052-99d4-5d556ef958dc"
      },
      "execution_count": null,
      "outputs": [
        {
          "output_type": "display_data",
          "data": {
            "text/plain": [
              "<Figure size 432x288 with 2 Axes>"
            ],
            "image/png": "[encoded data removed]"
          },
          "metadata": {}
        }
      ]
    },
    {
      "cell_type": "code",
      "source": [
        "#classification report for random forest\n",
        "print(classification_report(y_test, y_pred))"
      ],
      "metadata": {
        "colab": {
          "base_uri": "https://localhost:8080/"
        },
        "id": "-Sf_wSP445Fv",
        "outputId": "fcf139b8-9ec7-4bc3-ce02-b8b0877ce6da"
      },
      "execution_count": null,
      "outputs": [
        {
          "output_type": "stream",
          "name": "stdout",
          "text": [
            "              precision    recall  f1-score   support\n",
            "\n",
            "           0       0.79      0.98      0.88      1553\n",
            "           1       0.62      0.10      0.17       447\n",
            "\n",
            "    accuracy                           0.79      2000\n",
            "   macro avg       0.71      0.54      0.52      2000\n",
            "weighted avg       0.75      0.79      0.72      2000\n",
            "\n"
          ]
        }
      ]
    },
    {
      "cell_type": "code",
      "source": [
        "# ROC for random forest\n",
        "RocCurveDisplay.from_estimator(forest_clf, X_test, y_test);"
      ],
      "metadata": {
        "colab": {
          "base_uri": "https://localhost:8080/",
          "height": 276
        },
        "id": "FuiBtRk95AZ2",
        "outputId": "0828ff55-b00e-473f-9fa1-dfe9fff787b4"
      },
      "execution_count": null,
      "outputs": [
        {
          "output_type": "display_data",
          "data": {
            "text/plain": [
              "<Figure size 432x288 with 1 Axes>"
            ],
            "image/png": "[encoded data removed]"
          },
          "metadata": {}
        }
      ]
    },
    {
      "cell_type": "code",
      "source": [
        "#full pipeline\n",
        "rf_pipe = make_pipeline(preprocess_pipeline, RandomForestClassifier(n_estimators=100, random_state=42, max_depth=40, min_samples_leaf=5, n_jobs=5))\n",
        "rf_scores = cross_val_score(rf_pipe, X, y, cv=10, scoring='balanced_accuracy')\n",
        "rf_scores.mean().round(2)"
      ],
      "metadata": {
        "colab": {
          "base_uri": "https://localhost:8080/"
        },
        "id": "ZYN4rZCM6qFX",
        "outputId": "bf0976a6-fd8c-4b6b-f7b9-af00ec31ec53"
      },
      "execution_count": null,
      "outputs": [
        {
          "output_type": "execute_result",
          "data": {
            "text/plain": [
              "0.53"
            ]
          },
          "metadata": {},
          "execution_count": 178
        }
      ]
    },
    {
      "cell_type": "markdown",
      "source": [
        "\n",
        "<a name=\"8\"></a>\n",
        "\n",
        "##[Hyperparameter tuning](#8)"
      ],
      "metadata": {
        "id": "3nVqDHFD5ri2"
      }
    },
    {
      "cell_type": "markdown",
      "source": [
        "__Halving Grid-Search__ "
      ],
      "metadata": {
        "id": "QxPfq7u2CLtX"
      }
    },
    {
      "cell_type": "markdown",
      "source": [
        "Halving Grid Search is a novel type of successive Halving in which training is done on portions of data rather than the entire dataset. By training on a limited group of data, the lowest performing data are selected away. Hyperparameter tuning can help with model generalization by decreasing overfit. After choosing the XGBClassifier, we are hypertuning the model using our training dataset with two specific parameters, namely 'max_depth' that checks the values from the provided list [3, 4, 5, 7, 11] and 'n_jobs' that also checks the values from the provided list [3, 4, 5, 7, 11]. "
      ],
      "metadata": {
        "id": "k7yXjG3498oX"
      }
    },
    {
      "cell_type": "code",
      "source": [
        "from sklearn.experimental import enable_halving_search_cv\n",
        "from sklearn.model_selection import HalvingGridSearchCV\n",
        "\n",
        "param_grid = [ \n",
        "    {'xgb_classifier__max_depth': [3, 4, 5, 7, 11], \n",
        "     'xgb_classifier__n_jobs': [3, 4, 5, 7, 11],}, \n",
        "    ]\n",
        " \n",
        "print('The parameter grid : ')\n",
        "print(param_grid)\n",
        "\n",
        "halving_grid_search = HalvingGridSearchCV(xgb_pipe, param_grid, cv=3, \n",
        "                                    min_resources='exhaust', \n",
        "                                    scoring='balanced_accuracy')\n",
        "halving_grid_search.fit(X, y)\n",
        "print('The best parameters are ', halving_grid_search.best_params_)\n",
        "\n",
        "halving_grid_cv_res = pd.DataFrame(halving_grid_search.cv_results_)   \n",
        "\n",
        "halving_grid_cv_res.sort_values(by=['iter', 'mean_test_score'], ascending=False, inplace=True)\n",
        "\n",
        "halving_grid_cv_res.filter(regex = '(iter|^param_|mean_test_score|n_resources)', axis=1).head(3)"
      ],
      "metadata": {
        "colab": {
          "base_uri": "https://localhost:8080/",
          "height": 197
        },
        "id": "zGrtIyAUD8bF",
        "outputId": "5693cfee-1ab4-4a36-f2ff-d1fb2eec8642"
      },
      "execution_count": null,
      "outputs": [
        {
          "output_type": "stream",
          "name": "stdout",
          "text": [
            "The parameter grid : \n",
            "[{'xgb_classifier__max_depth': [3, 4, 5, 7, 11], 'xgb_classifier__n_jobs': [3, 4, 5, 7, 11]}]\n",
            "The best parameters are  {'xgb_classifier__max_depth': 7, 'xgb_classifier__n_jobs': 5}\n"
          ]
        },
        {
          "output_type": "execute_result",
          "data": {
            "text/plain": [
              "    iter  n_resources param_xgb_classifier__max_depth  \\\n",
              "34     2         9999                               7   \n",
              "35     2         9999                               7   \n",
              "36     2         9999                               7   \n",
              "\n",
              "   param_xgb_classifier__n_jobs  mean_test_score  \n",
              "34                            5          0.57976  \n",
              "35                            7          0.57976  \n",
              "36                           11          0.57976  "
            ],
            "text/html": [
              "\n",
              "  <div id=\"df-2a43b180-ca97-4d6e-a6e8-5eceec75120a\">\n",
              "    <div class=\"colab-df-container\">\n",
              "      <div>\n",
              "<style scoped>\n",
              "    .dataframe tbody tr th:only-of-type {\n",
              "        vertical-align: middle;\n",
              "    }\n",
              "\n",
              "    .dataframe tbody tr th {\n",
              "        vertical-align: top;\n",
              "    }\n",
              "\n",
              "    .dataframe thead th {\n",
              "        text-align: right;\n",
              "    }\n",
              "</style>\n",
              "<table border=\"1\" class=\"dataframe\">\n",
              "  <thead>\n",
              "    <tr style=\"text-align: right;\">\n",
              "      <th></th>\n",
              "      <th>iter</th>\n",
              "      <th>n_resources</th>\n",
              "      <th>param_xgb_classifier__max_depth</th>\n",
              "      <th>param_xgb_classifier__n_jobs</th>\n",
              "      <th>mean_test_score</th>\n",
              "    </tr>\n",
              "  </thead>\n",
              "  <tbody>\n",
              "    <tr>\n",
              "      <th>34</th>\n",
              "      <td>2</td>\n",
              "      <td>9999</td>\n",
              "      <td>7</td>\n",
              "      <td>5</td>\n",
              "      <td>0.57976</td>\n",
              "    </tr>\n",
              "    <tr>\n",
              "      <th>35</th>\n",
              "      <td>2</td>\n",
              "      <td>9999</td>\n",
              "      <td>7</td>\n",
              "      <td>7</td>\n",
              "      <td>0.57976</td>\n",
              "    </tr>\n",
              "    <tr>\n",
              "      <th>36</th>\n",
              "      <td>2</td>\n",
              "      <td>9999</td>\n",
              "      <td>7</td>\n",
              "      <td>11</td>\n",
              "      <td>0.57976</td>\n",
              "    </tr>\n",
              "  </tbody>\n",
              "</table>\n",
              "</div>\n",
              "      <button class=\"colab-df-convert\" onclick=\"convertToInteractive('df-2a43b180-ca97-4d6e-a6e8-5eceec75120a')\"\n",
              "              title=\"Convert this dataframe to an interactive table.\"\n",
              "              style=\"display:none;\">\n",
              "        \n",
              "  <svg xmlns=\"http://www.w3.org/2000/svg\" height=\"24px\"viewBox=\"0 0 24 24\"\n",
              "       width=\"24px\">\n",
              "    <path d=\"M0 0h24v24H0V0z\" fill=\"none\"/>\n",
              "    <path d=\"M18.56 5.44l.94 2.06.94-2.06 2.06-.94-2.06-.94-.94-2.06-.94 2.06-2.06.94zm-11 1L8.5 8.5l.94-2.06 2.06-.94-2.06-.94L8.5 2.5l-.94 2.06-2.06.94zm10 10l.94 2.06.94-2.06 2.06-.94-2.06-.94-.94-2.06-.94 2.06-2.06.94z\"/><path d=\"M17.41 7.96l-1.37-1.37c-.4-.4-.92-.59-1.43-.59-.52 0-1.04.2-1.43.59L10.3 9.45l-7.72 7.72c-.78.78-.78 2.05 0 2.83L4 21.41c.39.39.9.59 1.41.59.51 0 1.02-.2 1.41-.59l7.78-7.78 2.81-2.81c.8-.78.8-2.07 0-2.86zM5.41 20L4 18.59l7.72-7.72 1.47 1.35L5.41 20z\"/>\n",
              "  </svg>\n",
              "      </button>\n",
              "      \n",
              "  <style>\n",
              "    .colab-df-container {\n",
              "      display:flex;\n",
              "      flex-wrap:wrap;\n",
              "      gap: 12px;\n",
              "    }\n",
              "\n",
              "    .colab-df-convert {\n",
              "      background-color: #E8F0FE;\n",
              "      border: none;\n",
              "      border-radius: 50%;\n",
              "      cursor: pointer;\n",
              "      display: none;\n",
              "      fill: #1967D2;\n",
              "      height: 32px;\n",
              "      padding: 0 0 0 0;\n",
              "      width: 32px;\n",
              "    }\n",
              "\n",
              "    .colab-df-convert:hover {\n",
              "      background-color: #E2EBFA;\n",
              "      box-shadow: 0px 1px 2px rgba(60, 64, 67, 0.3), 0px 1px 3px 1px rgba(60, 64, 67, 0.15);\n",
              "      fill: #174EA6;\n",
              "    }\n",
              "\n",
              "    [theme=dark] .colab-df-convert {\n",
              "      background-color: #3B4455;\n",
              "      fill: #D2E3FC;\n",
              "    }\n",
              "\n",
              "    [theme=dark] .colab-df-convert:hover {\n",
              "      background-color: #434B5C;\n",
              "      box-shadow: 0px 1px 3px 1px rgba(0, 0, 0, 0.15);\n",
              "      filter: drop-shadow(0px 1px 2px rgba(0, 0, 0, 0.3));\n",
              "      fill: #FFFFFF;\n",
              "    }\n",
              "  </style>\n",
              "\n",
              "      <script>\n",
              "        const buttonEl =\n",
              "          document.querySelector('#df-2a43b180-ca97-4d6e-a6e8-5eceec75120a button.colab-df-convert');\n",
              "        buttonEl.style.display =\n",
              "          google.colab.kernel.accessAllowed ? 'block' : 'none';\n",
              "\n",
              "        async function convertToInteractive(key) {\n",
              "          const element = document.querySelector('#df-2a43b180-ca97-4d6e-a6e8-5eceec75120a');\n",
              "          const dataTable =\n",
              "            await google.colab.kernel.invokeFunction('convertToInteractive',\n",
              "                                                     [key], {});\n",
              "          if (!dataTable) return;\n",
              "\n",
              "          const docLinkHtml = 'Like what you see? Visit the ' +\n",
              "            '<a target=\"_blank\" href=https://colab.research.google.com/notebooks/data_table.ipynb>data table notebook</a>'\n",
              "            + ' to learn more about interactive tables.';\n",
              "          element.innerHTML = '';\n",
              "          dataTable['output_type'] = 'display_data';\n",
              "          await google.colab.output.renderOutput(dataTable, element);\n",
              "          const docLink = document.createElement('div');\n",
              "          docLink.innerHTML = docLinkHtml;\n",
              "          element.appendChild(docLink);\n",
              "        }\n",
              "      </script>\n",
              "    </div>\n",
              "  </div>\n",
              "  "
            ]
          },
          "metadata": {},
          "execution_count": 189
        }
      ]
    },
    {
      "cell_type": "markdown",
      "source": [
        "\n",
        "\n",
        "\n",
        "<a name=\"9\"></a>\n",
        "\n",
        "##[Cost of predicting non-delays as delays](#9)"
      ],
      "metadata": {
        "id": "A0vJRLZiRR71"
      }
    },
    {
      "cell_type": "markdown",
      "source": [
        "Our objective with this project is to reduce the the count of false negatives i.e reducing the code of predicting non delays as delays. This is because delays for the airports do add upto a lot more resources and cost, and if it is done unneccesarily then it will just increase the overal cost of airport operations. Therefore, as false negatives is are main focus for reducing costs, the aim of the model is to predict the delays accurately which will also do the former. "
      ],
      "metadata": {
        "id": "OOxHizY0-Mcc"
      }
    },
    {
      "cell_type": "code",
      "source": [
        "def default_cost(y_true, y_pred): \n",
        "  cm = confusion_matrix(y_true, y_pred)\n",
        "  return cm[1,0] * 5 + cm[0,1] * 1\n",
        "\n",
        "cost_scorer = make_scorer(default_cost, greater_is_better=False)\n",
        "\n",
        "xgb_costs = cross_val_score(xgb, X_train, y_train, cv=3, scoring=cost_scorer)\n",
        "xgb_costs.mean()\n",
        "\n",
        "halving_grid_cv_res = HalvingGridSearchCV(xgb_pipe, param_grid, cv=3, scoring=cost_scorer)\n",
        "halving_grid_cv_res.fit(X, y)\n",
        "\n",
        "cv_res = pd.DataFrame(halving_grid_cv_res.cv_results_)\n",
        "cv_res.sort_values(by=\"mean_test_score\", ascending=False, inplace=True)\n",
        "cv_res.head()"
      ],
      "metadata": {
        "colab": {
          "base_uri": "https://localhost:8080/",
          "height": 197
        },
        "id": "rmZ4Eb7RRUQj",
        "outputId": "40382582-7547-49f8-f328-d439508e29e7"
      },
      "execution_count": null,
      "outputs": [
        {
          "output_type": "stream",
          "name": "stdout",
          "text": [
            "The parameter grid : \n",
            "[{'xgb_classifier__max_depth': [3, 4, 5, 7, 11], 'xgb_classifier__n_jobs': [3, 4, 5, 7, 11]}]\n",
            "The best parameters are  {'xgb_classifier__max_depth': 11, 'xgb_classifier__n_jobs': 11}\n"
          ]
        },
        {
          "output_type": "execute_result",
          "data": {
            "text/plain": [
              "    iter  n_resources param_xgb_classifier__max_depth  \\\n",
              "36     2         9999                              11   \n",
              "35     2         9999                               5   \n",
              "34     2         9999                               3   \n",
              "\n",
              "   param_xgb_classifier__n_jobs  mean_test_score  \n",
              "36                           11         0.586454  \n",
              "35                            4         0.579393  \n",
              "34                            4         0.564952  "
            ],
            "text/html": [
              "\n",
              "  <div id=\"df-dcd3e5c4-ecc6-4172-8096-d66ad37311cc\">\n",
              "    <div class=\"colab-df-container\">\n",
              "      <div>\n",
              "<style scoped>\n",
              "    .dataframe tbody tr th:only-of-type {\n",
              "        vertical-align: middle;\n",
              "    }\n",
              "\n",
              "    .dataframe tbody tr th {\n",
              "        vertical-align: top;\n",
              "    }\n",
              "\n",
              "    .dataframe thead th {\n",
              "        text-align: right;\n",
              "    }\n",
              "</style>\n",
              "<table border=\"1\" class=\"dataframe\">\n",
              "  <thead>\n",
              "    <tr style=\"text-align: right;\">\n",
              "      <th></th>\n",
              "      <th>iter</th>\n",
              "      <th>n_resources</th>\n",
              "      <th>param_xgb_classifier__max_depth</th>\n",
              "      <th>param_xgb_classifier__n_jobs</th>\n",
              "      <th>mean_test_score</th>\n",
              "    </tr>\n",
              "  </thead>\n",
              "  <tbody>\n",
              "    <tr>\n",
              "      <th>36</th>\n",
              "      <td>2</td>\n",
              "      <td>9999</td>\n",
              "      <td>11</td>\n",
              "      <td>11</td>\n",
              "      <td>0.586454</td>\n",
              "    </tr>\n",
              "    <tr>\n",
              "      <th>35</th>\n",
              "      <td>2</td>\n",
              "      <td>9999</td>\n",
              "      <td>5</td>\n",
              "      <td>4</td>\n",
              "      <td>0.579393</td>\n",
              "    </tr>\n",
              "    <tr>\n",
              "      <th>34</th>\n",
              "      <td>2</td>\n",
              "      <td>9999</td>\n",
              "      <td>3</td>\n",
              "      <td>4</td>\n",
              "      <td>0.564952</td>\n",
              "    </tr>\n",
              "  </tbody>\n",
              "</table>\n",
              "</div>\n",
              "      <button class=\"colab-df-convert\" onclick=\"convertToInteractive('df-dcd3e5c4-ecc6-4172-8096-d66ad37311cc')\"\n",
              "              title=\"Convert this dataframe to an interactive table.\"\n",
              "              style=\"display:none;\">\n",
              "        \n",
              "  <svg xmlns=\"http://www.w3.org/2000/svg\" height=\"24px\"viewBox=\"0 0 24 24\"\n",
              "       width=\"24px\">\n",
              "    <path d=\"M0 0h24v24H0V0z\" fill=\"none\"/>\n",
              "    <path d=\"M18.56 5.44l.94 2.06.94-2.06 2.06-.94-2.06-.94-.94-2.06-.94 2.06-2.06.94zm-11 1L8.5 8.5l.94-2.06 2.06-.94-2.06-.94L8.5 2.5l-.94 2.06-2.06.94zm10 10l.94 2.06.94-2.06 2.06-.94-2.06-.94-.94-2.06-.94 2.06-2.06.94z\"/><path d=\"M17.41 7.96l-1.37-1.37c-.4-.4-.92-.59-1.43-.59-.52 0-1.04.2-1.43.59L10.3 9.45l-7.72 7.72c-.78.78-.78 2.05 0 2.83L4 21.41c.39.39.9.59 1.41.59.51 0 1.02-.2 1.41-.59l7.78-7.78 2.81-2.81c.8-.78.8-2.07 0-2.86zM5.41 20L4 18.59l7.72-7.72 1.47 1.35L5.41 20z\"/>\n",
              "  </svg>\n",
              "      </button>\n",
              "      \n",
              "  <style>\n",
              "    .colab-df-container {\n",
              "      display:flex;\n",
              "      flex-wrap:wrap;\n",
              "      gap: 12px;\n",
              "    }\n",
              "\n",
              "    .colab-df-convert {\n",
              "      background-color: #E8F0FE;\n",
              "      border: none;\n",
              "      border-radius: 50%;\n",
              "      cursor: pointer;\n",
              "      display: none;\n",
              "      fill: #1967D2;\n",
              "      height: 32px;\n",
              "      padding: 0 0 0 0;\n",
              "      width: 32px;\n",
              "    }\n",
              "\n",
              "    .colab-df-convert:hover {\n",
              "      background-color: #E2EBFA;\n",
              "      box-shadow: 0px 1px 2px rgba(60, 64, 67, 0.3), 0px 1px 3px 1px rgba(60, 64, 67, 0.15);\n",
              "      fill: #174EA6;\n",
              "    }\n",
              "\n",
              "    [theme=dark] .colab-df-convert {\n",
              "      background-color: #3B4455;\n",
              "      fill: #D2E3FC;\n",
              "    }\n",
              "\n",
              "    [theme=dark] .colab-df-convert:hover {\n",
              "      background-color: #434B5C;\n",
              "      box-shadow: 0px 1px 3px 1px rgba(0, 0, 0, 0.15);\n",
              "      filter: drop-shadow(0px 1px 2px rgba(0, 0, 0, 0.3));\n",
              "      fill: #FFFFFF;\n",
              "    }\n",
              "  </style>\n",
              "\n",
              "      <script>\n",
              "        const buttonEl =\n",
              "          document.querySelector('#df-dcd3e5c4-ecc6-4172-8096-d66ad37311cc button.colab-df-convert');\n",
              "        buttonEl.style.display =\n",
              "          google.colab.kernel.accessAllowed ? 'block' : 'none';\n",
              "\n",
              "        async function convertToInteractive(key) {\n",
              "          const element = document.querySelector('#df-dcd3e5c4-ecc6-4172-8096-d66ad37311cc');\n",
              "          const dataTable =\n",
              "            await google.colab.kernel.invokeFunction('convertToInteractive',\n",
              "                                                     [key], {});\n",
              "          if (!dataTable) return;\n",
              "\n",
              "          const docLinkHtml = 'Like what you see? Visit the ' +\n",
              "            '<a target=\"_blank\" href=https://colab.research.google.com/notebooks/data_table.ipynb>data table notebook</a>'\n",
              "            + ' to learn more about interactive tables.';\n",
              "          element.innerHTML = '';\n",
              "          dataTable['output_type'] = 'display_data';\n",
              "          await google.colab.output.renderOutput(dataTable, element);\n",
              "          const docLink = document.createElement('div');\n",
              "          docLink.innerHTML = docLinkHtml;\n",
              "          element.appendChild(docLink);\n",
              "        }\n",
              "      </script>\n",
              "    </div>\n",
              "  </div>\n",
              "  "
            ]
          },
          "metadata": {},
          "execution_count": 239
        }
      ]
    },
    {
      "cell_type": "markdown",
      "source": [
        "<a name=\"11\"></a>\n",
        "\n",
        "##[Voting](#11)"
      ],
      "metadata": {
        "id": "QB1A4BbHtNq7"
      }
    },
    {
      "cell_type": "markdown",
      "source": [
        "A Voting Classifier is a machine learning model that trains on an ensemble of numerous models and predicts an output (class) based on the highest probability of chosen class as the output. It simply aggregates the findings of each classifier passed into Voting Classifier and predicts the output class based on the highest majority of voting. "
      ],
      "metadata": {
        "id": "zRXJX_6J_jhX"
      }
    },
    {
      "cell_type": "code",
      "source": [
        "#voting classifier\n",
        "from sklearn.ensemble import VotingClassifier\n",
        "\n",
        "voting_clf = VotingClassifier(\n",
        "    estimators=[\n",
        "        ('lr', LogisticRegression(random_state=42)),\n",
        "        (\"xgb\", XGBClassifier(n_estimators=100, random_state=42, max_depth=20, n_jobs=3, learning_rate=0.3)),\n",
        "        ('svc', SVC(random_state=42)),\n",
        "        ('knn', KNeighborsClassifier(n_neighbors=10)),\n",
        "        ('random_forest',RandomForestClassifier(n_estimators=100, random_state=42))\n",
        "    ]\n",
        ")\n",
        "\n",
        "voting_clf.fit(X_train, y_train)  "
      ],
      "metadata": {
        "id": "6lG7p0frwYnj",
        "colab": {
          "base_uri": "https://localhost:8080/",
          "height": 110
        },
        "outputId": "a20adc8e-ee2b-46d6-ebdf-53735e90cde2"
      },
      "execution_count": null,
      "outputs": [
        {
          "output_type": "execute_result",
          "data": {
            "text/plain": [
              "VotingClassifier(estimators=[('lr', LogisticRegression(random_state=42)),\n",
              "                             ('xgb',\n",
              "                              XGBClassifier(learning_rate=0.3, max_depth=20,\n",
              "                                            n_jobs=3, random_state=42)),\n",
              "                             ('svc', SVC(random_state=42)),\n",
              "                             ('knn', KNeighborsClassifier(n_neighbors=10)),\n",
              "                             ('random_forest',\n",
              "                              RandomForestClassifier(random_state=42))])"
            ],
            "text/html": [
              "<style>#sk-2bd34122-390e-4d2f-a559-cf408f291b1b {color: black;background-color: white;}#sk-2bd34122-390e-4d2f-a559-cf408f291b1b pre{padding: 0;}#sk-2bd34122-390e-4d2f-a559-cf408f291b1b div.sk-toggleable {background-color: white;}#sk-2bd34122-390e-4d2f-a559-cf408f291b1b label.sk-toggleable__label {cursor: pointer;display: block;width: 100%;margin-bottom: 0;padding: 0.3em;box-sizing: border-box;text-align: center;}#sk-2bd34122-390e-4d2f-a559-cf408f291b1b label.sk-toggleable__label-arrow:before {content: \"▸\";float: left;margin-right: 0.25em;color: #696969;}#sk-2bd34122-390e-4d2f-a559-cf408f291b1b label.sk-toggleable__label-arrow:hover:before {color: black;}#sk-2bd34122-390e-4d2f-a559-cf408f291b1b div.sk-estimator:hover label.sk-toggleable__label-arrow:before {color: black;}#sk-2bd34122-390e-4d2f-a559-cf408f291b1b div.sk-toggleable__content {max-height: 0;max-width: 0;overflow: hidden;text-align: left;background-color: #f0f8ff;}#sk-2bd34122-390e-4d2f-a559-cf408f291b1b div.sk-toggleable__content pre {margin: 0.2em;color: black;border-radius: 0.25em;background-color: #f0f8ff;}#sk-2bd34122-390e-4d2f-a559-cf408f291b1b input.sk-toggleable__control:checked~div.sk-toggleable__content {max-height: 200px;max-width: 100%;overflow: auto;}#sk-2bd34122-390e-4d2f-a559-cf408f291b1b input.sk-toggleable__control:checked~label.sk-toggleable__label-arrow:before {content: \"▾\";}#sk-2bd34122-390e-4d2f-a559-cf408f291b1b div.sk-estimator input.sk-toggleable__control:checked~label.sk-toggleable__label {background-color: #d4ebff;}#sk-2bd34122-390e-4d2f-a559-cf408f291b1b div.sk-label input.sk-toggleable__control:checked~label.sk-toggleable__label {background-color: #d4ebff;}#sk-2bd34122-390e-4d2f-a559-cf408f291b1b input.sk-hidden--visually {border: 0;clip: rect(1px 1px 1px 1px);clip: rect(1px, 1px, 1px, 1px);height: 1px;margin: -1px;overflow: hidden;padding: 0;position: absolute;width: 1px;}#sk-2bd34122-390e-4d2f-a559-cf408f291b1b div.sk-estimator {font-family: monospace;background-color: #f0f8ff;border: 1px dotted black;border-radius: 0.25em;box-sizing: border-box;margin-bottom: 0.5em;}#sk-2bd34122-390e-4d2f-a559-cf408f291b1b div.sk-estimator:hover {background-color: #d4ebff;}#sk-2bd34122-390e-4d2f-a559-cf408f291b1b div.sk-parallel-item::after {content: \"\";width: 100%;border-bottom: 1px solid gray;flex-grow: 1;}#sk-2bd34122-390e-4d2f-a559-cf408f291b1b div.sk-label:hover label.sk-toggleable__label {background-color: #d4ebff;}#sk-2bd34122-390e-4d2f-a559-cf408f291b1b div.sk-serial::before {content: \"\";position: absolute;border-left: 1px solid gray;box-sizing: border-box;top: 2em;bottom: 0;left: 50%;}#sk-2bd34122-390e-4d2f-a559-cf408f291b1b div.sk-serial {display: flex;flex-direction: column;align-items: center;background-color: white;padding-right: 0.2em;padding-left: 0.2em;}#sk-2bd34122-390e-4d2f-a559-cf408f291b1b div.sk-item {z-index: 1;}#sk-2bd34122-390e-4d2f-a559-cf408f291b1b div.sk-parallel {display: flex;align-items: stretch;justify-content: center;background-color: white;}#sk-2bd34122-390e-4d2f-a559-cf408f291b1b div.sk-parallel::before {content: \"\";position: absolute;border-left: 1px solid gray;box-sizing: border-box;top: 2em;bottom: 0;left: 50%;}#sk-2bd34122-390e-4d2f-a559-cf408f291b1b div.sk-parallel-item {display: flex;flex-direction: column;position: relative;background-color: white;}#sk-2bd34122-390e-4d2f-a559-cf408f291b1b div.sk-parallel-item:first-child::after {align-self: flex-end;width: 50%;}#sk-2bd34122-390e-4d2f-a559-cf408f291b1b div.sk-parallel-item:last-child::after {align-self: flex-start;width: 50%;}#sk-2bd34122-390e-4d2f-a559-cf408f291b1b div.sk-parallel-item:only-child::after {width: 0;}#sk-2bd34122-390e-4d2f-a559-cf408f291b1b div.sk-dashed-wrapped {border: 1px dashed gray;margin: 0 0.4em 0.5em 0.4em;box-sizing: border-box;padding-bottom: 0.4em;background-color: white;position: relative;}#sk-2bd34122-390e-4d2f-a559-cf408f291b1b div.sk-label label {font-family: monospace;font-weight: bold;background-color: white;display: inline-block;line-height: 1.2em;}#sk-2bd34122-390e-4d2f-a559-cf408f291b1b div.sk-label-container {position: relative;z-index: 2;text-align: center;}#sk-2bd34122-390e-4d2f-a559-cf408f291b1b div.sk-container {/* jupyter's `normalize.less` sets `[hidden] { display: none; }` but bootstrap.min.css set `[hidden] { display: none !important; }` so we also need the `!important` here to be able to override the default hidden behavior on the sphinx rendered scikit-learn.org. See: https://github.com/scikit-learn/scikit-learn/issues/21755 */display: inline-block !important;position: relative;}#sk-2bd34122-390e-4d2f-a559-cf408f291b1b div.sk-text-repr-fallback {display: none;}</style><div id=\"sk-2bd34122-390e-4d2f-a559-cf408f291b1b\" class=\"sk-top-container\"><div class=\"sk-text-repr-fallback\"><pre>VotingClassifier(estimators=[(&#x27;lr&#x27;, LogisticRegression(random_state=42)),\n",
              "                             (&#x27;xgb&#x27;,\n",
              "                              XGBClassifier(learning_rate=0.3, max_depth=20,\n",
              "                                            n_jobs=3, random_state=42)),\n",
              "                             (&#x27;svc&#x27;, SVC(random_state=42)),\n",
              "                             (&#x27;knn&#x27;, KNeighborsClassifier(n_neighbors=10)),\n",
              "                             (&#x27;random_forest&#x27;,\n",
              "                              RandomForestClassifier(random_state=42))])</pre><b>Please rerun this cell to show the HTML repr or trust the notebook.</b></div><div class=\"sk-container\" hidden><div class=\"sk-item sk-dashed-wrapped\"><div class=\"sk-label-container\"><div class=\"sk-label sk-toggleable\"><input class=\"sk-toggleable__control sk-hidden--visually\" id=\"804a9917-fbdb-4e5a-846c-bbffa05a04e3\" type=\"checkbox\" ><label for=\"804a9917-fbdb-4e5a-846c-bbffa05a04e3\" class=\"sk-toggleable__label sk-toggleable__label-arrow\">VotingClassifier</label><div class=\"sk-toggleable__content\"><pre>VotingClassifier(estimators=[(&#x27;lr&#x27;, LogisticRegression(random_state=42)),\n",
              "                             (&#x27;xgb&#x27;,\n",
              "                              XGBClassifier(learning_rate=0.3, max_depth=20,\n",
              "                                            n_jobs=3, random_state=42)),\n",
              "                             (&#x27;svc&#x27;, SVC(random_state=42)),\n",
              "                             (&#x27;knn&#x27;, KNeighborsClassifier(n_neighbors=10)),\n",
              "                             (&#x27;random_forest&#x27;,\n",
              "                              RandomForestClassifier(random_state=42))])</pre></div></div></div><div class=\"sk-parallel\"><div class=\"sk-parallel-item\"><div class=\"sk-item\"><div class=\"sk-label-container\"><div class=\"sk-label sk-toggleable\"><label>lr</label></div></div><div class=\"sk-serial\"><div class=\"sk-item\"><div class=\"sk-estimator sk-toggleable\"><input class=\"sk-toggleable__control sk-hidden--visually\" id=\"98eb6953-cd90-4da1-b9e0-199b17a74509\" type=\"checkbox\" ><label for=\"98eb6953-cd90-4da1-b9e0-199b17a74509\" class=\"sk-toggleable__label sk-toggleable__label-arrow\">LogisticRegression</label><div class=\"sk-toggleable__content\"><pre>LogisticRegression(random_state=42)</pre></div></div></div></div></div></div><div class=\"sk-parallel-item\"><div class=\"sk-item\"><div class=\"sk-label-container\"><div class=\"sk-label sk-toggleable\"><label>xgb</label></div></div><div class=\"sk-serial\"><div class=\"sk-item\"><div class=\"sk-estimator sk-toggleable\"><input class=\"sk-toggleable__control sk-hidden--visually\" id=\"b3376b98-cc4a-49eb-bf12-f76a512db5bd\" type=\"checkbox\" ><label for=\"b3376b98-cc4a-49eb-bf12-f76a512db5bd\" class=\"sk-toggleable__label sk-toggleable__label-arrow\">XGBClassifier</label><div class=\"sk-toggleable__content\"><pre>XGBClassifier(learning_rate=0.3, max_depth=20, n_jobs=3, random_state=42)</pre></div></div></div></div></div></div><div class=\"sk-parallel-item\"><div class=\"sk-item\"><div class=\"sk-label-container\"><div class=\"sk-label sk-toggleable\"><label>svc</label></div></div><div class=\"sk-serial\"><div class=\"sk-item\"><div class=\"sk-estimator sk-toggleable\"><input class=\"sk-toggleable__control sk-hidden--visually\" id=\"4c2636a8-7eef-4d96-8953-a4610c9a58e5\" type=\"checkbox\" ><label for=\"4c2636a8-7eef-4d96-8953-a4610c9a58e5\" class=\"sk-toggleable__label sk-toggleable__label-arrow\">SVC</label><div class=\"sk-toggleable__content\"><pre>SVC(random_state=42)</pre></div></div></div></div></div></div><div class=\"sk-parallel-item\"><div class=\"sk-item\"><div class=\"sk-label-container\"><div class=\"sk-label sk-toggleable\"><label>knn</label></div></div><div class=\"sk-serial\"><div class=\"sk-item\"><div class=\"sk-estimator sk-toggleable\"><input class=\"sk-toggleable__control sk-hidden--visually\" id=\"054a3529-dad7-4328-8091-4e9d89530cc2\" type=\"checkbox\" ><label for=\"054a3529-dad7-4328-8091-4e9d89530cc2\" class=\"sk-toggleable__label sk-toggleable__label-arrow\">KNeighborsClassifier</label><div class=\"sk-toggleable__content\"><pre>KNeighborsClassifier(n_neighbors=10)</pre></div></div></div></div></div></div><div class=\"sk-parallel-item\"><div class=\"sk-item\"><div class=\"sk-label-container\"><div class=\"sk-label sk-toggleable\"><label>random_forest</label></div></div><div class=\"sk-serial\"><div class=\"sk-item\"><div class=\"sk-estimator sk-toggleable\"><input class=\"sk-toggleable__control sk-hidden--visually\" id=\"bd6ece78-68e2-4c81-aaa3-438ef1bc9c8c\" type=\"checkbox\" ><label for=\"bd6ece78-68e2-4c81-aaa3-438ef1bc9c8c\" class=\"sk-toggleable__label sk-toggleable__label-arrow\">RandomForestClassifier</label><div class=\"sk-toggleable__content\"><pre>RandomForestClassifier(random_state=42)</pre></div></div></div></div></div></div></div></div></div></div>"
            ]
          },
          "metadata": {},
          "execution_count": 261
        }
      ]
    },
    {
      "cell_type": "code",
      "source": [
        "y_train.shape"
      ],
      "metadata": {
        "id": "rhV3vkYLym0l",
        "colab": {
          "base_uri": "https://localhost:8080/"
        },
        "outputId": "a319ac81-306f-4e03-a43f-8682cba8431c"
      },
      "execution_count": null,
      "outputs": [
        {
          "output_type": "execute_result",
          "data": {
            "text/plain": [
              "(8000,)"
            ]
          },
          "metadata": {},
          "execution_count": 118
        }
      ]
    },
    {
      "cell_type": "code",
      "source": [
        "for name, clf in voting_clf.named_estimators_.items():\n",
        "    print(name, \"=\", clf.score(X_test, y_test))\n",
        "\n",
        "print(f'Them voting = {voting_clf.score(X_test, y_test)}')"
      ],
      "metadata": {
        "id": "njDbnN5wtKST",
        "colab": {
          "base_uri": "https://localhost:8080/"
        },
        "outputId": "9d0d5592-69a3-4c74-bcd5-35a1c278dbaa"
      },
      "execution_count": null,
      "outputs": [
        {
          "output_type": "stream",
          "name": "stdout",
          "text": [
            "lr = 0.7825\n",
            "xgb = 0.759\n",
            "svc = 0.776\n",
            "knn = 0.7725\n",
            "random_forest = 0.7845\n",
            "Them voting = 0.782\n"
          ]
        }
      ]
    },
    {
      "cell_type": "code",
      "source": [
        "#voting classifier corss val scores\n",
        "vote_pipe = make_pipeline(preprocess_pipeline, voting_clf)\n",
        "vote_scores = cross_val_score(vote_pipe, X, y, cv=10, scoring='balanced_accuracy')\n",
        "vote_scores.mean().round(2)"
      ],
      "metadata": {
        "id": "p1xTpxdbLM9t"
      },
      "execution_count": null,
      "outputs": []
    },
    {
      "cell_type": "markdown",
      "source": [
        "<a name=\"12\"></a>\n",
        "\n",
        "##[Boosting](#12)"
      ],
      "metadata": {
        "id": "_UUbuBoVxbW4"
      }
    },
    {
      "cell_type": "markdown",
      "source": [
        "With an imbalanced dataset like ours, it was a conscious choice to add boosting as one of the esemble methods and check if the algorithm can increase our prediction accuracy while decreasing the prediction errors. Boosting-based techniques for unbalanced data. Boosting is an ensemble technique that combines weak learners to build a strong learner capable of making correct predictions. Boosting begins with a base classifier / weak classifier trained on the training data. The base learners / classifiers are weak learners, with just slightly better than average prediction accuracy. When minor changes in data cause large changes in the classification model, a classifier learning method is considered to be weak. The new classifier concentrates on or gives greater weight to instances that were erroneously categorized in the previous round in the following iteration. \n",
        "\n",
        "Boosting is a sequential strategy that relies on the ensemble concept. It unites a group of poor learners and improves prediction accuracy. At any instant t, the model outcomes are weighted depending on the results of the preceding instant t-1. Correctly expected outcomes have a smaller weight, whereas incorrectly predicted outcomes have a larger weight. It is worth noting that a weak learner is one who does just marginally better than random guessing. \n",
        "\n",
        "From our observations, we found that the boosting classifier is still not able to overcome the challenges faced by the other models for the balanced accuracy score. The HistGradientBoostingClassifier() have us a score of 77.75% with a balanced accuracy of 50.3% which is comparatively lower than all other models we tried above."
      ],
      "metadata": {
        "id": "Mc29OygzABS2"
      }
    },
    {
      "cell_type": "code",
      "source": [
        "from sklearn.ensemble import HistGradientBoostingClassifier\n",
        "\n",
        "hgb_clf = HistGradientBoostingClassifier(max_leaf_nodes=16, max_iter=10, learning_rate=.1)\n",
        "hgb_clf.fit(X_train, y_train)\n",
        "hgb_clf.score(X_test, y_test)"
      ],
      "metadata": {
        "id": "ZCNzBkMcxefE",
        "colab": {
          "base_uri": "https://localhost:8080/"
        },
        "outputId": "256449f3-4db4-48bd-a526-1e2f37203dbd"
      },
      "execution_count": null,
      "outputs": [
        {
          "output_type": "execute_result",
          "data": {
            "text/plain": [
              "0.7775"
            ]
          },
          "metadata": {},
          "execution_count": 243
        }
      ]
    },
    {
      "cell_type": "code",
      "source": [
        "#predicting on X_test\n",
        "y_pred = hgb_clf.predict(X_test)"
      ],
      "metadata": {
        "id": "a9voforvyEl8"
      },
      "execution_count": null,
      "outputs": []
    },
    {
      "cell_type": "code",
      "source": [
        "#balanced_accuracy_score\n",
        "balanced_accuracy_score(y_test, y_pred).round(4)"
      ],
      "metadata": {
        "colab": {
          "base_uri": "https://localhost:8080/"
        },
        "id": "1qXBgKOtx7XT",
        "outputId": "ce243bc5-2dee-4fa6-eb00-7c38def8ec0a"
      },
      "execution_count": null,
      "outputs": [
        {
          "output_type": "execute_result",
          "data": {
            "text/plain": [
              "0.503"
            ]
          },
          "metadata": {},
          "execution_count": 245
        }
      ]
    },
    {
      "cell_type": "code",
      "source": [
        "#hyperparameter tuning\n",
        "from sklearn.model_selection import RandomizedSearchCV\n",
        "from scipy.stats import loguniform, randint\n",
        "\n",
        "param_grid = {'max_leaf_nodes': randint(2, 16),\n",
        "              'max_iter': randint(50, 250),\n",
        "              'learning_rate': loguniform(1e-2, 0.2)}\n",
        "\n",
        "rand_search = RandomizedSearchCV(HistGradientBoostingClassifier(random_state=42),\n",
        "                                 param_grid, cv=5, n_iter = 50, scoring='accuracy')\n",
        "\n",
        "rand_search.fit(X_train, y_train)\n",
        "rand_cv_res = pd.DataFrame(rand_search.cv_results_)\n",
        "rand_cv_res.sort_values(by=\"mean_test_score\", ascending=False, inplace=True)\n",
        "rand_cv_res.filter(regex = '(^param_|mean_test_score)', axis=1).head()"
      ],
      "metadata": {
        "colab": {
          "base_uri": "https://localhost:8080/",
          "height": 206
        },
        "id": "k6TtH-pBV659",
        "outputId": "fb9650ce-2ff3-4981-e359-e3be16531017"
      },
      "execution_count": null,
      "outputs": [
        {
          "output_type": "execute_result",
          "data": {
            "text/plain": [
              "   param_learning_rate param_max_iter param_max_leaf_nodes  mean_test_score\n",
              "31            0.052147            114                   14         0.780375\n",
              "41            0.057469            133                   12         0.780125\n",
              "32             0.04156            242                    7         0.779875\n",
              "44            0.043297            229                   13         0.779375\n",
              "12            0.133699            219                    4         0.779375"
            ],
            "text/html": [
              "\n",
              "  <div id=\"df-9d434d17-dc60-4c41-abba-b82f4a7fe4f4\">\n",
              "    <div class=\"colab-df-container\">\n",
              "      <div>\n",
              "<style scoped>\n",
              "    .dataframe tbody tr th:only-of-type {\n",
              "        vertical-align: middle;\n",
              "    }\n",
              "\n",
              "    .dataframe tbody tr th {\n",
              "        vertical-align: top;\n",
              "    }\n",
              "\n",
              "    .dataframe thead th {\n",
              "        text-align: right;\n",
              "    }\n",
              "</style>\n",
              "<table border=\"1\" class=\"dataframe\">\n",
              "  <thead>\n",
              "    <tr style=\"text-align: right;\">\n",
              "      <th></th>\n",
              "      <th>param_learning_rate</th>\n",
              "      <th>param_max_iter</th>\n",
              "      <th>param_max_leaf_nodes</th>\n",
              "      <th>mean_test_score</th>\n",
              "    </tr>\n",
              "  </thead>\n",
              "  <tbody>\n",
              "    <tr>\n",
              "      <th>31</th>\n",
              "      <td>0.052147</td>\n",
              "      <td>114</td>\n",
              "      <td>14</td>\n",
              "      <td>0.780375</td>\n",
              "    </tr>\n",
              "    <tr>\n",
              "      <th>41</th>\n",
              "      <td>0.057469</td>\n",
              "      <td>133</td>\n",
              "      <td>12</td>\n",
              "      <td>0.780125</td>\n",
              "    </tr>\n",
              "    <tr>\n",
              "      <th>32</th>\n",
              "      <td>0.04156</td>\n",
              "      <td>242</td>\n",
              "      <td>7</td>\n",
              "      <td>0.779875</td>\n",
              "    </tr>\n",
              "    <tr>\n",
              "      <th>44</th>\n",
              "      <td>0.043297</td>\n",
              "      <td>229</td>\n",
              "      <td>13</td>\n",
              "      <td>0.779375</td>\n",
              "    </tr>\n",
              "    <tr>\n",
              "      <th>12</th>\n",
              "      <td>0.133699</td>\n",
              "      <td>219</td>\n",
              "      <td>4</td>\n",
              "      <td>0.779375</td>\n",
              "    </tr>\n",
              "  </tbody>\n",
              "</table>\n",
              "</div>\n",
              "      <button class=\"colab-df-convert\" onclick=\"convertToInteractive('df-9d434d17-dc60-4c41-abba-b82f4a7fe4f4')\"\n",
              "              title=\"Convert this dataframe to an interactive table.\"\n",
              "              style=\"display:none;\">\n",
              "        \n",
              "  <svg xmlns=\"http://www.w3.org/2000/svg\" height=\"24px\"viewBox=\"0 0 24 24\"\n",
              "       width=\"24px\">\n",
              "    <path d=\"M0 0h24v24H0V0z\" fill=\"none\"/>\n",
              "    <path d=\"M18.56 5.44l.94 2.06.94-2.06 2.06-.94-2.06-.94-.94-2.06-.94 2.06-2.06.94zm-11 1L8.5 8.5l.94-2.06 2.06-.94-2.06-.94L8.5 2.5l-.94 2.06-2.06.94zm10 10l.94 2.06.94-2.06 2.06-.94-2.06-.94-.94-2.06-.94 2.06-2.06.94z\"/><path d=\"M17.41 7.96l-1.37-1.37c-.4-.4-.92-.59-1.43-.59-.52 0-1.04.2-1.43.59L10.3 9.45l-7.72 7.72c-.78.78-.78 2.05 0 2.83L4 21.41c.39.39.9.59 1.41.59.51 0 1.02-.2 1.41-.59l7.78-7.78 2.81-2.81c.8-.78.8-2.07 0-2.86zM5.41 20L4 18.59l7.72-7.72 1.47 1.35L5.41 20z\"/>\n",
              "  </svg>\n",
              "      </button>\n",
              "      \n",
              "  <style>\n",
              "    .colab-df-container {\n",
              "      display:flex;\n",
              "      flex-wrap:wrap;\n",
              "      gap: 12px;\n",
              "    }\n",
              "\n",
              "    .colab-df-convert {\n",
              "      background-color: #E8F0FE;\n",
              "      border: none;\n",
              "      border-radius: 50%;\n",
              "      cursor: pointer;\n",
              "      display: none;\n",
              "      fill: #1967D2;\n",
              "      height: 32px;\n",
              "      padding: 0 0 0 0;\n",
              "      width: 32px;\n",
              "    }\n",
              "\n",
              "    .colab-df-convert:hover {\n",
              "      background-color: #E2EBFA;\n",
              "      box-shadow: 0px 1px 2px rgba(60, 64, 67, 0.3), 0px 1px 3px 1px rgba(60, 64, 67, 0.15);\n",
              "      fill: #174EA6;\n",
              "    }\n",
              "\n",
              "    [theme=dark] .colab-df-convert {\n",
              "      background-color: #3B4455;\n",
              "      fill: #D2E3FC;\n",
              "    }\n",
              "\n",
              "    [theme=dark] .colab-df-convert:hover {\n",
              "      background-color: #434B5C;\n",
              "      box-shadow: 0px 1px 3px 1px rgba(0, 0, 0, 0.15);\n",
              "      filter: drop-shadow(0px 1px 2px rgba(0, 0, 0, 0.3));\n",
              "      fill: #FFFFFF;\n",
              "    }\n",
              "  </style>\n",
              "\n",
              "      <script>\n",
              "        const buttonEl =\n",
              "          document.querySelector('#df-9d434d17-dc60-4c41-abba-b82f4a7fe4f4 button.colab-df-convert');\n",
              "        buttonEl.style.display =\n",
              "          google.colab.kernel.accessAllowed ? 'block' : 'none';\n",
              "\n",
              "        async function convertToInteractive(key) {\n",
              "          const element = document.querySelector('#df-9d434d17-dc60-4c41-abba-b82f4a7fe4f4');\n",
              "          const dataTable =\n",
              "            await google.colab.kernel.invokeFunction('convertToInteractive',\n",
              "                                                     [key], {});\n",
              "          if (!dataTable) return;\n",
              "\n",
              "          const docLinkHtml = 'Like what you see? Visit the ' +\n",
              "            '<a target=\"_blank\" href=https://colab.research.google.com/notebooks/data_table.ipynb>data table notebook</a>'\n",
              "            + ' to learn more about interactive tables.';\n",
              "          element.innerHTML = '';\n",
              "          dataTable['output_type'] = 'display_data';\n",
              "          await google.colab.output.renderOutput(dataTable, element);\n",
              "          const docLink = document.createElement('div');\n",
              "          docLink.innerHTML = docLinkHtml;\n",
              "          element.appendChild(docLink);\n",
              "        }\n",
              "      </script>\n",
              "    </div>\n",
              "  </div>\n",
              "  "
            ]
          },
          "metadata": {},
          "execution_count": 203
        }
      ]
    },
    {
      "cell_type": "code",
      "source": [
        "#validation set\n",
        "tr_X_tr, tr_X_v, tr_y_tr, tr_y_v = train_test_split(X_train, y_train, test_size = .2, random_state=0)\n",
        "\n",
        "bst = XGBClassifier(n_estimators=100,  \n",
        "                    max_leaves=16,  \n",
        "                    learning_rate=0.1,\n",
        "                    objective='binary:logistic') \n",
        "bst.fit(tr_X_tr, tr_y_tr, early_stopping_rounds=10, eval_metric='error', eval_set=[(tr_X_v, tr_y_v)], verbose=False)"
      ],
      "metadata": {
        "colab": {
          "base_uri": "https://localhost:8080/"
        },
        "id": "KKn4h1vWWEuP",
        "outputId": "f4234124-d559-4b8f-938b-ca1b02bf2f71"
      },
      "execution_count": null,
      "outputs": [
        {
          "output_type": "execute_result",
          "data": {
            "text/plain": [
              "nan"
            ]
          },
          "metadata": {},
          "execution_count": 247
        }
      ]
    },
    {
      "cell_type": "code",
      "source": [
        "#cross val scores for \n",
        "bst_pipe = make_pipeline(preprocess_pipeline, HistGradientBoostingClassifier(max_leaf_nodes=16, max_iter=10, learning_rate=.1))\n",
        "bst_scores = cross_val_score(bst_pipe, X, y, cv=10, scoring='balanced_accuracy')\n",
        "bst_scores.mean().round(2)"
      ],
      "metadata": {
        "colab": {
          "base_uri": "https://localhost:8080/"
        },
        "id": "KT7FpDODHFxL",
        "outputId": "a94e03e4-a753-4062-df70-37acd75f6778"
      },
      "execution_count": null,
      "outputs": [
        {
          "output_type": "execute_result",
          "data": {
            "text/plain": [
              "0.5"
            ]
          },
          "metadata": {},
          "execution_count": 257
        }
      ]
    },
    {
      "cell_type": "code",
      "source": [
        "#scores on test set\n",
        "bst.score(X_test, y_test)"
      ],
      "metadata": {
        "colab": {
          "base_uri": "https://localhost:8080/"
        },
        "id": "zVq9cg3qFfWF",
        "outputId": "82a18490-cc33-4da9-9c4a-0647d930223a"
      },
      "execution_count": null,
      "outputs": [
        {
          "output_type": "execute_result",
          "data": {
            "text/plain": [
              "0.7715"
            ]
          },
          "metadata": {},
          "execution_count": 249
        }
      ]
    },
    {
      "cell_type": "markdown",
      "source": [
        "\n",
        "<a name=\"12\"></a>\n",
        "\n",
        "##[Feature Selection](#12)\n"
      ],
      "metadata": {
        "id": "YuyH3PwwqqYC"
      }
    },
    {
      "cell_type": "markdown",
      "source": [
        "Machine learning models operate on a basic principle: whatever goes in must come out. If we feed garbage into our model, we may anticipate garbage as output. Garbage in this context refers to noise in our data. The input variables that we provide to our machine learning models are referred to as features. Each column in our dataset is a feature. To train an optimum model, we must use just the necessary features. If we have too many features, the model will collect uninteresting patterns and learn from noise. The approach of selecting the relevant parameters of our data is known as Feature Selection.\n",
        "\n",
        "We explored backward elimination feature selection technique on top of XGB classifier to remove those features that do not have a significant effect on the target variable (dep_del_15) .The best accuracy was obtained for the N=62 features, as shown in the results. Although we obtained the required number of features, we were unable to obtain the names of these columns due to the platform’s computational constraints. Unfortunately, Sequential Feature Selection could not be performed inside the pipeline due to comutational constraints of the Colab notebook."
      ],
      "metadata": {
        "id": "np2MFyvlEZ6U"
      }
    },
    {
      "cell_type": "code",
      "source": [
        "#Please note, this is the SequentialFeatureSelector() we attempted to run with our dataset but due to the complexity of\\\n",
        "#of the data we are not running this cell. However, in the production stage, as we already mentioned, with a larger\\\n",
        "#we will be running this on a bigger machine for successful feature selection\n",
        "'''from sklearn.feature_selection import SequentialFeatureSelector as sfs\n",
        "\n",
        "# Build step forward feature selection\n",
        "sfs1 = sfs(xgb,\n",
        "           n_features_to_select=15, \n",
        "           direction='forward', \n",
        "           cv=5, \n",
        "           n_jobs=3)\n",
        "\n",
        "# Perform SFFS  \n",
        "sfs1 = sfs1.fit(X_train, y_train)'''"
      ],
      "metadata": {
        "colab": {
          "base_uri": "https://localhost:8080/",
          "height": 53
        },
        "id": "YpTWAAD9zO8c",
        "outputId": "a83e2667-bf77-44cb-fd71-2fc25f0f10f8"
      },
      "execution_count": null,
      "outputs": [
        {
          "output_type": "execute_result",
          "data": {
            "text/plain": [
              "\"from sklearn.feature_selection import SequentialFeatureSelector as sfs\\n\\n# Build step forward feature selection\\nsfs1 = sfs(xgb,\\n           n_features_to_select=15, \\n           direction='forward', \\n           cv=5, \\n           n_jobs=3)\\n\\n# Perform SFFS  \\nsfs1 = sfs1.fit(X_train, y_train)\""
            ],
            "application/vnd.google.colaboratory.intrinsic+json": {
              "type": "string"
            }
          },
          "metadata": {},
          "execution_count": 227
        }
      ]
    },
    {
      "cell_type": "code",
      "source": [
        "#displaying the feature importance\n",
        "import matplotlib.pyplot as plt\n",
        "print(xgb.feature_importances_)\n",
        "\n",
        "# plot\n",
        "plt.bar(range(len(xgb.feature_importances_)), xgb.feature_importances_)\n",
        "plt.show()"
      ],
      "metadata": {
        "colab": {
          "base_uri": "https://localhost:8080/",
          "height": 458
        },
        "id": "b9cxgiBRPXAW",
        "outputId": "83248654-a23e-491f-bf5e-702ebbc11a65"
      },
      "execution_count": null,
      "outputs": [
        {
          "output_type": "stream",
          "name": "stdout",
          "text": [
            "[0.01185759 0.01094812 0.01657037 0.01770562 0.02544519 0.01086494\n",
            " 0.01080673 0.01049321 0.01164972 0.03630952 0.03104891 0.02420333\n",
            " 0.01692137 0.01397275 0.02097642 0.01628144 0.01839222 0.0179115\n",
            " 0.01817433 0.02067442 0.02025578 0.01665434 0.01911369 0.01941304\n",
            " 0.01506543 0.01730987 0.         0.01606182 0.01551089 0.01363889\n",
            " 0.01556086 0.0185957  0.01300395 0.01058523 0.01069373 0.01372731\n",
            " 0.01785324 0.01940154 0.0175431  0.02900933 0.         0.02986532\n",
            " 0.0131424  0.01550093 0.01106399 0.0243113  0.01596266 0.03065565\n",
            " 0.0130054  0.         0.         0.0115864  0.01222354 0.01602397\n",
            " 0.01069758 0.01606336 0.01463752 0.01612874 0.01651896 0.0133053\n",
            " 0.01843112 0.02067049]\n"
          ]
        },
        {
          "output_type": "display_data",
          "data": {
            "text/plain": [
              "<Figure size 432x288 with 1 Axes>"
            ],
            "image/png": "[encoded data removed]"
          },
          "metadata": {}
        }
      ]
    },
    {
      "cell_type": "code",
      "source": [
        "from sklearn.feature_selection import SelectFromModel\n",
        "from numpy import sort\n",
        "thresholds = sort(xgb.feature_importances_)\n",
        "for thresh in thresholds:\n",
        " # select features using threshold\n",
        " selection = SelectFromModel(xgb, threshold=thresh, prefit=True)\n",
        " select_X_train = selection.transform(X_train)\n",
        " # train model\n",
        " selection_model = XGBClassifier()\n",
        " selection_model.fit(select_X_train, y_train)\n",
        " # eval model\n",
        " select_X_test = selection.transform(X_test)\n",
        " predictions = selection_model.predict(select_X_test)\n",
        " accuracy = accuracy_score(y_test, predictions)\n",
        " print(\"Thresh=%.3f, n=%d, Accuracy: %.2f%%\" % (thresh, select_X_train.shape[1], accuracy*100.0))"
      ],
      "metadata": {
        "id": "Cz7PbHpzqq1R",
        "colab": {
          "base_uri": "https://localhost:8080/"
        },
        "outputId": "867d7917-a2e4-465e-b5d3-95516a8912b0"
      },
      "execution_count": null,
      "outputs": [
        {
          "output_type": "stream",
          "name": "stdout",
          "text": [
            "Thresh=0.000, n=62, Accuracy: 78.00%\n",
            "Thresh=0.000, n=62, Accuracy: 78.00%\n",
            "Thresh=0.000, n=62, Accuracy: 78.00%\n",
            "Thresh=0.000, n=62, Accuracy: 78.00%\n",
            "Thresh=0.010, n=58, Accuracy: 78.00%\n",
            "Thresh=0.011, n=57, Accuracy: 78.30%\n",
            "Thresh=0.011, n=56, Accuracy: 78.30%\n",
            "Thresh=0.011, n=55, Accuracy: 78.30%\n",
            "Thresh=0.011, n=54, Accuracy: 78.15%\n",
            "Thresh=0.011, n=53, Accuracy: 78.50%\n",
            "Thresh=0.011, n=52, Accuracy: 78.30%\n",
            "Thresh=0.011, n=51, Accuracy: 78.10%\n",
            "Thresh=0.012, n=50, Accuracy: 78.05%\n",
            "Thresh=0.012, n=49, Accuracy: 78.15%\n",
            "Thresh=0.012, n=48, Accuracy: 77.95%\n",
            "Thresh=0.012, n=47, Accuracy: 77.90%\n",
            "Thresh=0.013, n=46, Accuracy: 77.75%\n",
            "Thresh=0.013, n=45, Accuracy: 77.85%\n",
            "Thresh=0.013, n=44, Accuracy: 77.90%\n",
            "Thresh=0.013, n=43, Accuracy: 77.90%\n",
            "Thresh=0.014, n=42, Accuracy: 77.80%\n",
            "Thresh=0.014, n=41, Accuracy: 77.95%\n",
            "Thresh=0.014, n=40, Accuracy: 77.75%\n",
            "Thresh=0.015, n=39, Accuracy: 77.85%\n",
            "Thresh=0.015, n=38, Accuracy: 77.80%\n",
            "Thresh=0.016, n=37, Accuracy: 77.90%\n",
            "Thresh=0.016, n=36, Accuracy: 77.80%\n",
            "Thresh=0.016, n=35, Accuracy: 77.60%\n",
            "Thresh=0.016, n=34, Accuracy: 77.60%\n",
            "Thresh=0.016, n=33, Accuracy: 77.65%\n",
            "Thresh=0.016, n=32, Accuracy: 77.90%\n",
            "Thresh=0.016, n=31, Accuracy: 77.55%\n",
            "Thresh=0.016, n=30, Accuracy: 77.50%\n",
            "Thresh=0.016, n=29, Accuracy: 77.90%\n",
            "Thresh=0.017, n=28, Accuracy: 77.80%\n",
            "Thresh=0.017, n=27, Accuracy: 77.50%\n",
            "Thresh=0.017, n=26, Accuracy: 77.45%\n",
            "Thresh=0.017, n=25, Accuracy: 77.35%\n",
            "Thresh=0.017, n=24, Accuracy: 77.45%\n",
            "Thresh=0.018, n=23, Accuracy: 77.45%\n",
            "Thresh=0.018, n=22, Accuracy: 77.50%\n",
            "Thresh=0.018, n=21, Accuracy: 77.45%\n",
            "Thresh=0.018, n=20, Accuracy: 77.45%\n",
            "Thresh=0.018, n=19, Accuracy: 77.45%\n",
            "Thresh=0.018, n=18, Accuracy: 77.60%\n",
            "Thresh=0.018, n=17, Accuracy: 77.40%\n",
            "Thresh=0.019, n=16, Accuracy: 77.40%\n",
            "Thresh=0.019, n=15, Accuracy: 77.35%\n",
            "Thresh=0.019, n=14, Accuracy: 77.40%\n",
            "Thresh=0.019, n=13, Accuracy: 77.45%\n",
            "Thresh=0.020, n=12, Accuracy: 77.60%\n",
            "Thresh=0.021, n=11, Accuracy: 77.15%\n",
            "Thresh=0.021, n=10, Accuracy: 76.95%\n",
            "Thresh=0.021, n=9, Accuracy: 77.00%\n",
            "Thresh=0.024, n=8, Accuracy: 76.95%\n",
            "Thresh=0.024, n=7, Accuracy: 77.60%\n",
            "Thresh=0.025, n=6, Accuracy: 77.55%\n",
            "Thresh=0.029, n=5, Accuracy: 77.65%\n",
            "Thresh=0.030, n=4, Accuracy: 77.65%\n",
            "Thresh=0.031, n=3, Accuracy: 77.65%\n",
            "Thresh=0.031, n=2, Accuracy: 77.65%\n",
            "Thresh=0.036, n=1, Accuracy: 77.65%\n"
          ]
        }
      ]
    },
    {
      "cell_type": "markdown",
      "source": [
        "\n",
        "<a name=\"13\"></a>\n",
        "\n",
        "##[Modeling Scores](#13)"
      ],
      "metadata": {
        "id": "Ib3FETqkuyn2"
      }
    },
    {
      "cell_type": "code",
      "source": [
        "#scoring all the models and viewing them on a plot\n",
        "plt.figure(figsize=(8, 4))\n",
        "plt.plot([1]*10, svc_scores, \".\")\n",
        "plt.plot([2]*10, lr_scores, \".\")\n",
        "plt.plot([3]*10, knn_scores, \".\")\n",
        "plt.plot([4]*10, rf_scores, \".\")\n",
        "plt.plot([5]*10, xgb_scores, \".\")\n",
        "plt.plot([6]*10, bst_scores, \".\")\n",
        "\n",
        "plt.boxplot([svc_scores, lr_scores, knn_scores, rf_scores, xgb_scores, bst_scores], \n",
        "            labels=(\"SVM\", \"Logistic Regression\", \"kNN\", \"Random Forest\", \"XGBClassifier\", \"HistGradientBoostingClassifier\"))\n",
        "plt.ylabel(\"Balanced Accuracy\")\n",
        "plt.show()"
      ],
      "metadata": {
        "id": "7qsjR3inwVzM",
        "colab": {
          "base_uri": "https://localhost:8080/",
          "height": 262
        },
        "outputId": "1b162652-9c43-452c-8fa8-c88113f96ae6"
      },
      "execution_count": null,
      "outputs": [
        {
          "output_type": "display_data",
          "data": {
            "text/plain": [
              "<Figure size 576x288 with 1 Axes>"
            ],
            "image/png": "[encoded data removed]"
          },
          "metadata": {}
        }
      ]
    },
    {
      "cell_type": "markdown",
      "source": [
        "\n",
        "\n",
        "<a name=\"14\"></a>\n",
        "\n",
        "##[Using the XGBClassifier on the Test Set](#14)"
      ],
      "metadata": {
        "id": "4wYvh0I9JaLp"
      }
    },
    {
      "cell_type": "code",
      "source": [
        "#using the hyperparameters on the test set\n",
        "xgb = XGBClassifier(n_estimators=100, random_state=42, max_depth=11, n_jobs=11, learning_rate=0.5)\n",
        "xgb.fit(X_train, y_train, sample_weight=sample_weights)"
      ],
      "metadata": {
        "colab": {
          "base_uri": "https://localhost:8080/",
          "height": 75
        },
        "id": "EeDM-fQRIDd4",
        "outputId": "6316d746-eebb-4898-89b0-24240e48427a"
      },
      "execution_count": null,
      "outputs": [
        {
          "output_type": "execute_result",
          "data": {
            "text/plain": [
              "XGBClassifier(learning_rate=0.5, max_depth=11, n_jobs=11, random_state=42)"
            ],
            "text/html": [
              "<style>#sk-2ddb5655-7d64-4181-b8bc-19226ecdc8b9 {color: black;background-color: white;}#sk-2ddb5655-7d64-4181-b8bc-19226ecdc8b9 pre{padding: 0;}#sk-2ddb5655-7d64-4181-b8bc-19226ecdc8b9 div.sk-toggleable {background-color: white;}#sk-2ddb5655-7d64-4181-b8bc-19226ecdc8b9 label.sk-toggleable__label {cursor: pointer;display: block;width: 100%;margin-bottom: 0;padding: 0.3em;box-sizing: border-box;text-align: center;}#sk-2ddb5655-7d64-4181-b8bc-19226ecdc8b9 label.sk-toggleable__label-arrow:before {content: \"▸\";float: left;margin-right: 0.25em;color: #696969;}#sk-2ddb5655-7d64-4181-b8bc-19226ecdc8b9 label.sk-toggleable__label-arrow:hover:before {color: black;}#sk-2ddb5655-7d64-4181-b8bc-19226ecdc8b9 div.sk-estimator:hover label.sk-toggleable__label-arrow:before {color: black;}#sk-2ddb5655-7d64-4181-b8bc-19226ecdc8b9 div.sk-toggleable__content {max-height: 0;max-width: 0;overflow: hidden;text-align: left;background-color: #f0f8ff;}#sk-2ddb5655-7d64-4181-b8bc-19226ecdc8b9 div.sk-toggleable__content pre {margin: 0.2em;color: black;border-radius: 0.25em;background-color: #f0f8ff;}#sk-2ddb5655-7d64-4181-b8bc-19226ecdc8b9 input.sk-toggleable__control:checked~div.sk-toggleable__content {max-height: 200px;max-width: 100%;overflow: auto;}#sk-2ddb5655-7d64-4181-b8bc-19226ecdc8b9 input.sk-toggleable__control:checked~label.sk-toggleable__label-arrow:before {content: \"▾\";}#sk-2ddb5655-7d64-4181-b8bc-19226ecdc8b9 div.sk-estimator input.sk-toggleable__control:checked~label.sk-toggleable__label {background-color: #d4ebff;}#sk-2ddb5655-7d64-4181-b8bc-19226ecdc8b9 div.sk-label input.sk-toggleable__control:checked~label.sk-toggleable__label {background-color: #d4ebff;}#sk-2ddb5655-7d64-4181-b8bc-19226ecdc8b9 input.sk-hidden--visually {border: 0;clip: rect(1px 1px 1px 1px);clip: rect(1px, 1px, 1px, 1px);height: 1px;margin: -1px;overflow: hidden;padding: 0;position: absolute;width: 1px;}#sk-2ddb5655-7d64-4181-b8bc-19226ecdc8b9 div.sk-estimator {font-family: monospace;background-color: #f0f8ff;border: 1px dotted black;border-radius: 0.25em;box-sizing: border-box;margin-bottom: 0.5em;}#sk-2ddb5655-7d64-4181-b8bc-19226ecdc8b9 div.sk-estimator:hover {background-color: #d4ebff;}#sk-2ddb5655-7d64-4181-b8bc-19226ecdc8b9 div.sk-parallel-item::after {content: \"\";width: 100%;border-bottom: 1px solid gray;flex-grow: 1;}#sk-2ddb5655-7d64-4181-b8bc-19226ecdc8b9 div.sk-label:hover label.sk-toggleable__label {background-color: #d4ebff;}#sk-2ddb5655-7d64-4181-b8bc-19226ecdc8b9 div.sk-serial::before {content: \"\";position: absolute;border-left: 1px solid gray;box-sizing: border-box;top: 2em;bottom: 0;left: 50%;}#sk-2ddb5655-7d64-4181-b8bc-19226ecdc8b9 div.sk-serial {display: flex;flex-direction: column;align-items: center;background-color: white;padding-right: 0.2em;padding-left: 0.2em;}#sk-2ddb5655-7d64-4181-b8bc-19226ecdc8b9 div.sk-item {z-index: 1;}#sk-2ddb5655-7d64-4181-b8bc-19226ecdc8b9 div.sk-parallel {display: flex;align-items: stretch;justify-content: center;background-color: white;}#sk-2ddb5655-7d64-4181-b8bc-19226ecdc8b9 div.sk-parallel::before {content: \"\";position: absolute;border-left: 1px solid gray;box-sizing: border-box;top: 2em;bottom: 0;left: 50%;}#sk-2ddb5655-7d64-4181-b8bc-19226ecdc8b9 div.sk-parallel-item {display: flex;flex-direction: column;position: relative;background-color: white;}#sk-2ddb5655-7d64-4181-b8bc-19226ecdc8b9 div.sk-parallel-item:first-child::after {align-self: flex-end;width: 50%;}#sk-2ddb5655-7d64-4181-b8bc-19226ecdc8b9 div.sk-parallel-item:last-child::after {align-self: flex-start;width: 50%;}#sk-2ddb5655-7d64-4181-b8bc-19226ecdc8b9 div.sk-parallel-item:only-child::after {width: 0;}#sk-2ddb5655-7d64-4181-b8bc-19226ecdc8b9 div.sk-dashed-wrapped {border: 1px dashed gray;margin: 0 0.4em 0.5em 0.4em;box-sizing: border-box;padding-bottom: 0.4em;background-color: white;position: relative;}#sk-2ddb5655-7d64-4181-b8bc-19226ecdc8b9 div.sk-label label {font-family: monospace;font-weight: bold;background-color: white;display: inline-block;line-height: 1.2em;}#sk-2ddb5655-7d64-4181-b8bc-19226ecdc8b9 div.sk-label-container {position: relative;z-index: 2;text-align: center;}#sk-2ddb5655-7d64-4181-b8bc-19226ecdc8b9 div.sk-container {/* jupyter's `normalize.less` sets `[hidden] { display: none; }` but bootstrap.min.css set `[hidden] { display: none !important; }` so we also need the `!important` here to be able to override the default hidden behavior on the sphinx rendered scikit-learn.org. See: https://github.com/scikit-learn/scikit-learn/issues/21755 */display: inline-block !important;position: relative;}#sk-2ddb5655-7d64-4181-b8bc-19226ecdc8b9 div.sk-text-repr-fallback {display: none;}</style><div id=\"sk-2ddb5655-7d64-4181-b8bc-19226ecdc8b9\" class=\"sk-top-container\"><div class=\"sk-text-repr-fallback\"><pre>XGBClassifier(learning_rate=0.5, max_depth=11, n_jobs=11, random_state=42)</pre><b>Please rerun this cell to show the HTML repr or trust the notebook.</b></div><div class=\"sk-container\" hidden><div class=\"sk-item\"><div class=\"sk-estimator sk-toggleable\"><input class=\"sk-toggleable__control sk-hidden--visually\" id=\"81ad4c58-c0d4-4aba-b7ac-6d99a91f68ea\" type=\"checkbox\" checked><label for=\"81ad4c58-c0d4-4aba-b7ac-6d99a91f68ea\" class=\"sk-toggleable__label sk-toggleable__label-arrow\">XGBClassifier</label><div class=\"sk-toggleable__content\"><pre>XGBClassifier(learning_rate=0.5, max_depth=11, n_jobs=11, random_state=42)</pre></div></div></div></div></div>"
            ]
          },
          "metadata": {},
          "execution_count": 264
        }
      ]
    },
    {
      "cell_type": "code",
      "source": [
        "#fitting the model in train and test set\n",
        "xgb.fit(X_train, y_train)\n",
        "xgb.score(X_test, y_test)"
      ],
      "metadata": {
        "colab": {
          "base_uri": "https://localhost:8080/"
        },
        "id": "PlEX3Ip3JRcF",
        "outputId": "d71a1ad7-4506-44ae-a5c5-6b5849e89346"
      },
      "execution_count": null,
      "outputs": [
        {
          "output_type": "execute_result",
          "data": {
            "text/plain": [
              "0.753"
            ]
          },
          "metadata": {},
          "execution_count": 268
        }
      ]
    },
    {
      "cell_type": "code",
      "source": [
        "y_pred = xgb.predict(X_test)"
      ],
      "metadata": {
        "id": "M3n6zs_4Ncak"
      },
      "execution_count": null,
      "outputs": []
    },
    {
      "cell_type": "code",
      "source": [
        "#displaying the confusion matrix with the testset scores\n",
        "ConfusionMatrixDisplay.from_predictions(y_test, y_pred);"
      ],
      "metadata": {
        "colab": {
          "base_uri": "https://localhost:8080/",
          "height": 276
        },
        "id": "0JIrgcAiJ5Zj",
        "outputId": "75bf62b6-bde9-49c6-9bf0-1f716b14f12c"
      },
      "execution_count": null,
      "outputs": [
        {
          "output_type": "display_data",
          "data": {
            "text/plain": [
              "<Figure size 432x288 with 2 Axes>"
            ],
            "image/png": "[encoded data removed]"
          },
          "metadata": {}
        }
      ]
    },
    {
      "cell_type": "markdown",
      "source": [
        "<a name=\"15\"></a>\n",
        "\n",
        "##[Conclusion](#15)"
      ],
      "metadata": {
        "id": "WpQsZmtKQ6UD"
      }
    },
    {
      "cell_type": "markdown",
      "source": [
        "When we run the XGBClassifier on the testing dataset with the hyperparameters set to the least price, we can see that the model does help us achieve our aim of decreasing false negatives, i.e. estimating non-delays when there are delays at the Chicago O'Hare International Airport. The model was able to decrease false negative counts, which was one our key objective in effectively running the model."
      ],
      "metadata": {
        "id": "axEqom3NN-0T"
      }
    }
  ]
}